{
  "nbformat": 4,
  "nbformat_minor": 0,
  "metadata": {
    "colab": {
      "name": "objectdetector.ipynb",
      "provenance": [],
      "collapsed_sections": [],
      "mount_file_id": "1FZljQGg4GcaJDRcGKiRy4KnCXkdyibWA",
      "authorship_tag": "ABX9TyNmA3HYeok+eOnx3bQa+/mm",
      "include_colab_link": true
    },
    "kernelspec": {
      "name": "python3",
      "display_name": "Python 3"
    },
    "language_info": {
      "name": "python"
    },
    "accelerator": "GPU"
  },
  "cells": [
    {
      "cell_type": "markdown",
      "metadata": {
        "id": "view-in-github",
        "colab_type": "text"
      },
      "source": [
        "<a href=\"https://colab.research.google.com/github/SSAI-Remote-Proctor/android_yolo/blob/master/yolov5_objectdetector_Ex1.ipynb\" target=\"_parent\"><img src=\"https://colab.research.google.com/assets/colab-badge.svg\" alt=\"Open In Colab\"/></a>"
      ]
    },
    {
      "cell_type": "markdown",
      "metadata": {
        "id": "Lt42aNPDn-ix"
      },
      "source": [
        "\n",
        "\n",
        "\n",
        "# Google Drive에 연결\n",
        "\n"
      ]
    },
    {
      "cell_type": "code",
      "metadata": {
        "colab": {
          "base_uri": "https://localhost:8080/"
        },
        "id": "E-DkhHJcnyLJ",
        "outputId": "9be2ab26-bd8d-4c14-c26d-623d32f88d41"
      },
      "source": [
        "from google.colab import drive\n",
        "drive.mount('/content/gdrive')"
      ],
      "execution_count": null,
      "outputs": [
        {
          "output_type": "stream",
          "text": [
            "Mounted at /content/gdrive\n"
          ],
          "name": "stdout"
        }
      ]
    },
    {
      "cell_type": "markdown",
      "metadata": {
        "id": "poSUQhGvocy6"
      },
      "source": [
        "# YOLOv5 개발환경 세팅"
      ]
    },
    {
      "cell_type": "code",
      "metadata": {
        "colab": {
          "base_uri": "https://localhost:8080/"
        },
        "id": "LrlFnvYqqeCh",
        "outputId": "614fd983-c8c7-4499-d6a6-5464da281ff9"
      },
      "source": [
        "# clone YOLOv5 repository\n",
        "!git clone https://github.com/ultralytics/yolov5  # clone repo\n",
        "%cd yolov5\n",
        "!git reset --hard 886f1c03d839575afecb059accf74296fad395b6"
      ],
      "execution_count": null,
      "outputs": [
        {
          "output_type": "stream",
          "text": [
            "fatal: destination path 'yolov5' already exists and is not an empty directory.\n",
            "/content/yolov5\n",
            "HEAD is now at 886f1c0 DDP after autoanchor reorder (#2421)\n"
          ],
          "name": "stdout"
        }
      ]
    },
    {
      "cell_type": "code",
      "metadata": {
        "colab": {
          "base_uri": "https://localhost:8080/"
        },
        "id": "tMOU9GECrC9m",
        "outputId": "f430e0ec-6d6a-4713-c48d-72d4a9ffdbe9"
      },
      "source": [
        "# install dependencies as necessary\n",
        "!pip install tensorflow-addons\n",
        "!pip install -qr requirements.txt  # install dependencies (ignore errors)\n",
        "\n",
        "import torch\n",
        "\n",
        "from IPython.display import Image, clear_output  # to display images\n",
        "from utils.google_utils import gdrive_download  # to download models/datasets\n",
        "\n",
        "# clear_output()\n",
        "print('Setup complete. Using torch %s %s' % (torch.__version__, torch.cuda.get_device_properties(0) if torch.cuda.is_available() else 'CPU'))"
      ],
      "execution_count": null,
      "outputs": [
        {
          "output_type": "stream",
          "text": [
            "Requirement already satisfied: tensorflow-addons in /usr/local/lib/python3.7/dist-packages (0.12.1)\n",
            "Requirement already satisfied: typeguard>=2.7 in /usr/local/lib/python3.7/dist-packages (from tensorflow-addons) (2.7.1)\n",
            "Setup complete. Using torch 1.8.1+cu101 _CudaDeviceProperties(name='Tesla T4', major=7, minor=5, total_memory=15109MB, multi_processor_count=40)\n"
          ],
          "name": "stdout"
        }
      ]
    },
    {
      "cell_type": "markdown",
      "metadata": {
        "id": "8OivjipZKxAl"
      },
      "source": [
        "# COCO dataset custom"
      ]
    },
    {
      "cell_type": "code",
      "metadata": {
        "id": "zcVWyfFmK3rU"
      },
      "source": [
        "from IPython.display import Image\n"
      ],
      "execution_count": null,
      "outputs": []
    },
    {
      "cell_type": "markdown",
      "metadata": {
        "id": "JycsFP4g01sT"
      },
      "source": [
        "# Object detection with detec.py(--source 해당 파일)"
      ]
    },
    {
      "cell_type": "code",
      "metadata": {
        "colab": {
          "base_uri": "https://localhost:8080/"
        },
        "id": "-SjzJW0Htbkn",
        "outputId": "11d1ad75-b63a-4968-d285-ab3ced6a8067"
      },
      "source": [
        "%%time\n",
        "!python detect.py --weights yolov5l.pt --img 1280 --conf 0.4 --source ./detection_ex3.mp4"
      ],
      "execution_count": null,
      "outputs": [
        {
          "output_type": "stream",
          "text": [
            "Namespace(agnostic_nms=False, augment=False, classes=None, conf_thres=0.4, device='', exist_ok=False, img_size=1280, iou_thres=0.45, name='exp', project='runs/detect', save_conf=False, save_txt=False, source='./detection_ex3.mp4', update=False, view_img=False, weights=['yolov5l.pt'])\n",
            "YOLOv5 v4.0-126-g886f1c0 torch 1.8.1+cu101 CUDA:0 (Tesla T4, 15109.75MB)\n",
            "\n",
            "Fusing layers... \n",
            "Model Summary: 392 layers, 47025981 parameters, 0 gradients, 115.4 GFLOPS\n",
            "video 1/1 (1/329) /content/yolov5/detection_ex3.mp4: 736x1280 1 cup, 2 chairs, 1 laptop, 1 cell phone, Done. (0.064s)\n",
            "video 1/1 (2/329) /content/yolov5/detection_ex3.mp4: 736x1280 1 cup, 2 chairs, 1 laptop, 1 cell phone, Done. (0.046s)\n",
            "video 1/1 (3/329) /content/yolov5/detection_ex3.mp4: 736x1280 1 cup, 2 chairs, 1 laptop, 1 cell phone, Done. (0.037s)\n",
            "video 1/1 (4/329) /content/yolov5/detection_ex3.mp4: 736x1280 1 cup, 2 chairs, 1 laptop, 1 cell phone, Done. (0.037s)\n",
            "video 1/1 (5/329) /content/yolov5/detection_ex3.mp4: 736x1280 1 cup, 2 chairs, 1 laptop, 1 cell phone, Done. (0.037s)\n",
            "video 1/1 (6/329) /content/yolov5/detection_ex3.mp4: 736x1280 1 cup, 2 chairs, 1 laptop, 1 cell phone, Done. (0.033s)\n",
            "video 1/1 (7/329) /content/yolov5/detection_ex3.mp4: 736x1280 1 cup, 2 chairs, 1 laptop, 1 cell phone, Done. (0.027s)\n",
            "video 1/1 (8/329) /content/yolov5/detection_ex3.mp4: 736x1280 1 cup, 2 chairs, 1 laptop, 1 cell phone, Done. (0.027s)\n",
            "video 1/1 (9/329) /content/yolov5/detection_ex3.mp4: 736x1280 1 cup, 2 chairs, 1 laptop, 1 cell phone, Done. (0.027s)\n",
            "video 1/1 (10/329) /content/yolov5/detection_ex3.mp4: 736x1280 1 cup, 2 chairs, 1 laptop, 1 cell phone, Done. (0.027s)\n",
            "video 1/1 (11/329) /content/yolov5/detection_ex3.mp4: 736x1280 1 cup, 2 chairs, 1 laptop, 1 cell phone, Done. (0.026s)\n",
            "video 1/1 (12/329) /content/yolov5/detection_ex3.mp4: 736x1280 1 cup, 2 chairs, 1 laptop, 1 cell phone, Done. (0.027s)\n",
            "video 1/1 (13/329) /content/yolov5/detection_ex3.mp4: 736x1280 1 cup, 2 chairs, 1 laptop, 1 cell phone, Done. (0.027s)\n",
            "video 1/1 (14/329) /content/yolov5/detection_ex3.mp4: 736x1280 1 cup, 2 chairs, 1 laptop, 1 cell phone, Done. (0.027s)\n",
            "video 1/1 (15/329) /content/yolov5/detection_ex3.mp4: 736x1280 1 cup, 2 chairs, 1 laptop, 1 cell phone, Done. (0.027s)\n",
            "video 1/1 (16/329) /content/yolov5/detection_ex3.mp4: 736x1280 1 cup, 2 chairs, 1 laptop, 1 cell phone, Done. (0.026s)\n",
            "video 1/1 (17/329) /content/yolov5/detection_ex3.mp4: 736x1280 1 cup, 2 chairs, 1 laptop, 1 cell phone, Done. (0.026s)\n",
            "video 1/1 (18/329) /content/yolov5/detection_ex3.mp4: 736x1280 1 cup, 2 chairs, 1 laptop, 1 cell phone, Done. (0.027s)\n",
            "video 1/1 (19/329) /content/yolov5/detection_ex3.mp4: 736x1280 1 cup, 2 chairs, 1 laptop, 1 cell phone, Done. (0.027s)\n",
            "video 1/1 (20/329) /content/yolov5/detection_ex3.mp4: 736x1280 1 cup, 2 chairs, 1 laptop, 1 cell phone, Done. (0.027s)\n",
            "video 1/1 (21/329) /content/yolov5/detection_ex3.mp4: 736x1280 1 cup, 2 chairs, 1 laptop, 1 cell phone, Done. (0.027s)\n",
            "video 1/1 (22/329) /content/yolov5/detection_ex3.mp4: 736x1280 1 cup, 2 chairs, 1 laptop, 1 cell phone, Done. (0.027s)\n",
            "video 1/1 (23/329) /content/yolov5/detection_ex3.mp4: 736x1280 1 cup, 2 chairs, 1 laptop, 1 cell phone, Done. (0.027s)\n",
            "video 1/1 (24/329) /content/yolov5/detection_ex3.mp4: 736x1280 1 cup, 1 chair, 1 laptop, 1 cell phone, Done. (0.028s)\n",
            "video 1/1 (25/329) /content/yolov5/detection_ex3.mp4: 736x1280 1 cup, 1 chair, 1 laptop, 1 cell phone, Done. (0.028s)\n",
            "video 1/1 (26/329) /content/yolov5/detection_ex3.mp4: 736x1280 1 cup, 1 chair, 1 laptop, 1 cell phone, Done. (0.027s)\n",
            "video 1/1 (27/329) /content/yolov5/detection_ex3.mp4: 736x1280 1 cup, 1 chair, 1 laptop, 1 cell phone, Done. (0.027s)\n",
            "video 1/1 (28/329) /content/yolov5/detection_ex3.mp4: 736x1280 1 cup, 1 chair, 1 laptop, 1 cell phone, Done. (0.028s)\n",
            "video 1/1 (29/329) /content/yolov5/detection_ex3.mp4: 736x1280 1 cup, 1 chair, 1 laptop, 1 cell phone, Done. (0.028s)\n",
            "video 1/1 (30/329) /content/yolov5/detection_ex3.mp4: 736x1280 1 cup, 1 chair, 1 laptop, 1 cell phone, Done. (0.028s)\n",
            "video 1/1 (31/329) /content/yolov5/detection_ex3.mp4: 736x1280 1 cup, 1 chair, 1 laptop, 1 cell phone, Done. (0.028s)\n",
            "video 1/1 (32/329) /content/yolov5/detection_ex3.mp4: 736x1280 1 cup, 1 chair, 1 laptop, 1 cell phone, Done. (0.027s)\n",
            "video 1/1 (33/329) /content/yolov5/detection_ex3.mp4: 736x1280 1 cup, 1 chair, 1 laptop, 1 cell phone, Done. (0.027s)\n",
            "video 1/1 (34/329) /content/yolov5/detection_ex3.mp4: 736x1280 1 cup, 1 chair, 1 laptop, 1 cell phone, Done. (0.028s)\n",
            "video 1/1 (35/329) /content/yolov5/detection_ex3.mp4: 736x1280 1 cup, 1 chair, 1 laptop, 1 cell phone, Done. (0.028s)\n",
            "video 1/1 (36/329) /content/yolov5/detection_ex3.mp4: 736x1280 1 cup, 1 chair, 1 laptop, 1 cell phone, Done. (0.028s)\n",
            "video 1/1 (37/329) /content/yolov5/detection_ex3.mp4: 736x1280 1 cup, 1 chair, 1 laptop, 1 cell phone, Done. (0.027s)\n",
            "video 1/1 (38/329) /content/yolov5/detection_ex3.mp4: 736x1280 1 cup, 1 chair, 1 laptop, 1 cell phone, Done. (0.027s)\n",
            "video 1/1 (39/329) /content/yolov5/detection_ex3.mp4: 736x1280 1 cup, 1 chair, 1 laptop, 1 cell phone, Done. (0.027s)\n",
            "video 1/1 (40/329) /content/yolov5/detection_ex3.mp4: 736x1280 1 cup, 1 chair, 1 laptop, 1 cell phone, Done. (0.027s)\n",
            "video 1/1 (41/329) /content/yolov5/detection_ex3.mp4: 736x1280 1 cup, 1 chair, 1 laptop, 1 cell phone, Done. (0.027s)\n",
            "video 1/1 (42/329) /content/yolov5/detection_ex3.mp4: 736x1280 1 cup, 1 chair, 1 laptop, 1 cell phone, Done. (0.027s)\n",
            "video 1/1 (43/329) /content/yolov5/detection_ex3.mp4: 736x1280 1 cup, 1 chair, 1 laptop, 1 cell phone, Done. (0.027s)\n",
            "video 1/1 (44/329) /content/yolov5/detection_ex3.mp4: 736x1280 1 cup, 1 laptop, 1 cell phone, Done. (0.027s)\n",
            "video 1/1 (45/329) /content/yolov5/detection_ex3.mp4: 736x1280 1 cup, 1 laptop, 1 cell phone, Done. (0.027s)\n",
            "video 1/1 (46/329) /content/yolov5/detection_ex3.mp4: 736x1280 1 cup, 1 laptop, 1 cell phone, Done. (0.027s)\n",
            "video 1/1 (47/329) /content/yolov5/detection_ex3.mp4: 736x1280 1 cup, 1 laptop, Done. (0.027s)\n",
            "video 1/1 (48/329) /content/yolov5/detection_ex3.mp4: 736x1280 1 cup, 1 laptop, Done. (0.028s)\n",
            "video 1/1 (49/329) /content/yolov5/detection_ex3.mp4: 736x1280 1 cup, 1 laptop, Done. (0.028s)\n",
            "video 1/1 (50/329) /content/yolov5/detection_ex3.mp4: 736x1280 1 cup, 1 laptop, Done. (0.028s)\n",
            "video 1/1 (51/329) /content/yolov5/detection_ex3.mp4: 736x1280 1 cup, 1 laptop, Done. (0.028s)\n",
            "video 1/1 (52/329) /content/yolov5/detection_ex3.mp4: 736x1280 1 cup, 1 laptop, Done. (0.028s)\n",
            "video 1/1 (53/329) /content/yolov5/detection_ex3.mp4: 736x1280 1 cup, 1 chair, 1 laptop, Done. (0.027s)\n",
            "video 1/1 (54/329) /content/yolov5/detection_ex3.mp4: 736x1280 1 cup, 1 chair, 1 laptop, Done. (0.027s)\n",
            "video 1/1 (55/329) /content/yolov5/detection_ex3.mp4: 736x1280 1 cup, 1 chair, 1 laptop, Done. (0.027s)\n",
            "video 1/1 (56/329) /content/yolov5/detection_ex3.mp4: 736x1280 1 cup, 1 chair, 1 laptop, Done. (0.027s)\n",
            "video 1/1 (57/329) /content/yolov5/detection_ex3.mp4: 736x1280 1 cup, 1 chair, 1 laptop, Done. (0.027s)\n",
            "video 1/1 (58/329) /content/yolov5/detection_ex3.mp4: 736x1280 1 person, 1 cup, 1 chair, 1 laptop, Done. (0.027s)\n",
            "video 1/1 (59/329) /content/yolov5/detection_ex3.mp4: 736x1280 1 cup, 1 chair, 1 laptop, Done. (0.027s)\n",
            "video 1/1 (60/329) /content/yolov5/detection_ex3.mp4: 736x1280 1 person, 1 cup, 1 chair, 1 laptop, Done. (0.027s)\n",
            "video 1/1 (61/329) /content/yolov5/detection_ex3.mp4: 736x1280 1 person, 1 cup, 2 chairs, 1 laptop, Done. (0.027s)\n",
            "video 1/1 (62/329) /content/yolov5/detection_ex3.mp4: 736x1280 1 person, 1 cup, 1 chair, 1 laptop, Done. (0.027s)\n",
            "video 1/1 (63/329) /content/yolov5/detection_ex3.mp4: 736x1280 1 person, 1 cup, 2 chairs, 1 laptop, Done. (0.028s)\n",
            "video 1/1 (64/329) /content/yolov5/detection_ex3.mp4: 736x1280 1 cup, 2 chairs, 1 laptop, Done. (0.028s)\n",
            "video 1/1 (65/329) /content/yolov5/detection_ex3.mp4: 736x1280 1 cup, 2 chairs, 1 laptop, Done. (0.028s)\n",
            "video 1/1 (66/329) /content/yolov5/detection_ex3.mp4: 736x1280 1 person, 1 cup, 2 chairs, 1 laptop, Done. (0.028s)\n",
            "video 1/1 (67/329) /content/yolov5/detection_ex3.mp4: 736x1280 1 person, 1 cup, 2 chairs, 1 laptop, Done. (0.027s)\n",
            "video 1/1 (68/329) /content/yolov5/detection_ex3.mp4: 736x1280 1 person, 1 cup, 1 chair, 1 laptop, Done. (0.027s)\n",
            "video 1/1 (69/329) /content/yolov5/detection_ex3.mp4: 736x1280 1 person, 1 cup, 1 chair, 1 laptop, Done. (0.028s)\n",
            "video 1/1 (70/329) /content/yolov5/detection_ex3.mp4: 736x1280 1 person, 1 cup, 1 chair, 1 laptop, Done. (0.028s)\n",
            "video 1/1 (71/329) /content/yolov5/detection_ex3.mp4: 736x1280 1 person, 1 cup, 2 chairs, 1 laptop, Done. (0.028s)\n",
            "video 1/1 (72/329) /content/yolov5/detection_ex3.mp4: 736x1280 1 person, 1 cup, 2 chairs, 1 laptop, Done. (0.028s)\n",
            "video 1/1 (73/329) /content/yolov5/detection_ex3.mp4: 736x1280 1 person, 1 cup, 1 chair, 1 laptop, Done. (0.027s)\n",
            "video 1/1 (74/329) /content/yolov5/detection_ex3.mp4: 736x1280 1 person, 1 cup, 2 chairs, 1 laptop, Done. (0.028s)\n",
            "video 1/1 (75/329) /content/yolov5/detection_ex3.mp4: 736x1280 1 person, 1 cup, 2 chairs, 1 laptop, Done. (0.027s)\n",
            "video 1/1 (76/329) /content/yolov5/detection_ex3.mp4: 736x1280 1 person, 1 cup, 2 chairs, 1 laptop, Done. (0.027s)\n",
            "video 1/1 (77/329) /content/yolov5/detection_ex3.mp4: 736x1280 1 person, 1 cup, 2 chairs, 1 laptop, Done. (0.028s)\n",
            "video 1/1 (78/329) /content/yolov5/detection_ex3.mp4: 736x1280 1 person, 1 cup, 1 chair, 1 laptop, Done. (0.027s)\n",
            "video 1/1 (79/329) /content/yolov5/detection_ex3.mp4: 736x1280 1 person, 1 cup, 1 chair, 1 laptop, Done. (0.027s)\n",
            "video 1/1 (80/329) /content/yolov5/detection_ex3.mp4: 736x1280 1 person, 1 cup, 1 chair, 1 laptop, Done. (0.027s)\n",
            "video 1/1 (81/329) /content/yolov5/detection_ex3.mp4: 736x1280 1 person, 1 cup, 1 chair, 1 laptop, Done. (0.027s)\n",
            "video 1/1 (82/329) /content/yolov5/detection_ex3.mp4: 736x1280 1 person, 1 cup, 1 chair, 1 laptop, Done. (0.027s)\n",
            "video 1/1 (83/329) /content/yolov5/detection_ex3.mp4: 736x1280 1 person, 1 cup, 1 chair, 1 laptop, Done. (0.027s)\n",
            "video 1/1 (84/329) /content/yolov5/detection_ex3.mp4: 736x1280 1 person, 2 chairs, 1 laptop, Done. (0.027s)\n",
            "video 1/1 (85/329) /content/yolov5/detection_ex3.mp4: 736x1280 1 person, 1 cup, 2 chairs, Done. (0.027s)\n",
            "video 1/1 (86/329) /content/yolov5/detection_ex3.mp4: 736x1280 1 person, 2 chairs, Done. (0.027s)\n",
            "video 1/1 (87/329) /content/yolov5/detection_ex3.mp4: 736x1280 1 person, 1 chair, Done. (0.027s)\n",
            "video 1/1 (88/329) /content/yolov5/detection_ex3.mp4: 736x1280 1 person, 1 chair, Done. (0.027s)\n",
            "video 1/1 (89/329) /content/yolov5/detection_ex3.mp4: 736x1280 Done. (0.027s)\n",
            "video 1/1 (90/329) /content/yolov5/detection_ex3.mp4: 736x1280 1 person, 1 chair, Done. (0.028s)\n",
            "video 1/1 (91/329) /content/yolov5/detection_ex3.mp4: 736x1280 1 person, 2 chairs, 1 laptop, Done. (0.028s)\n",
            "video 1/1 (92/329) /content/yolov5/detection_ex3.mp4: 736x1280 1 person, 4 chairs, 1 laptop, Done. (0.028s)\n",
            "video 1/1 (93/329) /content/yolov5/detection_ex3.mp4: 736x1280 1 person, 4 chairs, 1 laptop, Done. (0.028s)\n",
            "video 1/1 (94/329) /content/yolov5/detection_ex3.mp4: 736x1280 1 person, 3 chairs, Done. (0.028s)\n",
            "video 1/1 (95/329) /content/yolov5/detection_ex3.mp4: 736x1280 1 person, 3 chairs, Done. (0.028s)\n",
            "video 1/1 (96/329) /content/yolov5/detection_ex3.mp4: 736x1280 1 person, 3 chairs, Done. (0.027s)\n",
            "video 1/1 (97/329) /content/yolov5/detection_ex3.mp4: 736x1280 1 person, 3 chairs, Done. (0.028s)\n",
            "video 1/1 (98/329) /content/yolov5/detection_ex3.mp4: 736x1280 1 person, 3 chairs, Done. (0.027s)\n",
            "video 1/1 (99/329) /content/yolov5/detection_ex3.mp4: 736x1280 1 person, 1 chair, Done. (0.027s)\n",
            "video 1/1 (100/329) /content/yolov5/detection_ex3.mp4: 736x1280 1 person, 1 tennis racket, Done. (0.027s)\n",
            "video 1/1 (101/329) /content/yolov5/detection_ex3.mp4: 736x1280 1 person, Done. (0.027s)\n",
            "video 1/1 (102/329) /content/yolov5/detection_ex3.mp4: 736x1280 1 person, 1 tennis racket, 2 chairs, Done. (0.027s)\n",
            "video 1/1 (103/329) /content/yolov5/detection_ex3.mp4: 736x1280 1 person, 1 chair, Done. (0.027s)\n",
            "video 1/1 (104/329) /content/yolov5/detection_ex3.mp4: 736x1280 1 person, 1 chair, Done. (0.027s)\n",
            "video 1/1 (105/329) /content/yolov5/detection_ex3.mp4: 736x1280 1 person, 1 chair, Done. (0.026s)\n",
            "video 1/1 (106/329) /content/yolov5/detection_ex3.mp4: 736x1280 1 person, 1 chair, Done. (0.028s)\n",
            "video 1/1 (107/329) /content/yolov5/detection_ex3.mp4: 736x1280 1 person, 1 chair, Done. (0.028s)\n",
            "video 1/1 (108/329) /content/yolov5/detection_ex3.mp4: 736x1280 1 person, 1 chair, Done. (0.027s)\n",
            "video 1/1 (109/329) /content/yolov5/detection_ex3.mp4: 736x1280 1 chair, Done. (0.027s)\n",
            "video 1/1 (110/329) /content/yolov5/detection_ex3.mp4: 736x1280 1 chair, Done. (0.027s)\n",
            "video 1/1 (111/329) /content/yolov5/detection_ex3.mp4: 736x1280 1 person, 1 chair, Done. (0.027s)\n",
            "video 1/1 (112/329) /content/yolov5/detection_ex3.mp4: 736x1280 1 chair, Done. (0.027s)\n",
            "video 1/1 (113/329) /content/yolov5/detection_ex3.mp4: 736x1280 Done. (0.027s)\n",
            "video 1/1 (114/329) /content/yolov5/detection_ex3.mp4: 736x1280 1 chair, Done. (0.028s)\n",
            "video 1/1 (115/329) /content/yolov5/detection_ex3.mp4: 736x1280 Done. (0.028s)\n",
            "video 1/1 (116/329) /content/yolov5/detection_ex3.mp4: 736x1280 1 person, Done. (0.027s)\n",
            "video 1/1 (117/329) /content/yolov5/detection_ex3.mp4: 736x1280 1 person, Done. (0.027s)\n",
            "video 1/1 (118/329) /content/yolov5/detection_ex3.mp4: 736x1280 1 person, Done. (0.027s)\n",
            "video 1/1 (119/329) /content/yolov5/detection_ex3.mp4: 736x1280 1 person, Done. (0.027s)\n",
            "video 1/1 (120/329) /content/yolov5/detection_ex3.mp4: 736x1280 1 person, Done. (0.027s)\n",
            "video 1/1 (121/329) /content/yolov5/detection_ex3.mp4: 736x1280 1 person, Done. (0.028s)\n",
            "video 1/1 (122/329) /content/yolov5/detection_ex3.mp4: 736x1280 1 person, 1 laptop, 1 cell phone, Done. (0.028s)\n",
            "video 1/1 (123/329) /content/yolov5/detection_ex3.mp4: 736x1280 1 person, 1 laptop, 1 cell phone, Done. (0.028s)\n",
            "video 1/1 (124/329) /content/yolov5/detection_ex3.mp4: 736x1280 1 laptop, 1 cell phone, Done. (0.028s)\n",
            "video 1/1 (125/329) /content/yolov5/detection_ex3.mp4: 736x1280 1 laptop, 1 cell phone, Done. (0.028s)\n",
            "video 1/1 (126/329) /content/yolov5/detection_ex3.mp4: 736x1280 1 laptop, 1 cell phone, Done. (0.028s)\n",
            "video 1/1 (127/329) /content/yolov5/detection_ex3.mp4: 736x1280 1 laptop, 1 cell phone, Done. (0.027s)\n",
            "video 1/1 (128/329) /content/yolov5/detection_ex3.mp4: 736x1280 1 laptop, 1 cell phone, Done. (0.027s)\n",
            "video 1/1 (129/329) /content/yolov5/detection_ex3.mp4: 736x1280 1 cell phone, Done. (0.027s)\n",
            "video 1/1 (130/329) /content/yolov5/detection_ex3.mp4: 736x1280 1 cell phone, Done. (0.027s)\n",
            "video 1/1 (131/329) /content/yolov5/detection_ex3.mp4: 736x1280 1 cell phone, Done. (0.027s)\n",
            "video 1/1 (132/329) /content/yolov5/detection_ex3.mp4: 736x1280 1 cell phone, Done. (0.027s)\n",
            "video 1/1 (133/329) /content/yolov5/detection_ex3.mp4: 736x1280 1 cell phone, Done. (0.028s)\n",
            "video 1/1 (134/329) /content/yolov5/detection_ex3.mp4: 736x1280 1 cup, 1 cell phone, Done. (0.028s)\n",
            "video 1/1 (135/329) /content/yolov5/detection_ex3.mp4: 736x1280 1 cup, 1 cell phone, Done. (0.028s)\n",
            "video 1/1 (136/329) /content/yolov5/detection_ex3.mp4: 736x1280 1 cup, 1 cell phone, Done. (0.028s)\n",
            "video 1/1 (137/329) /content/yolov5/detection_ex3.mp4: 736x1280 1 cup, 1 cell phone, Done. (0.028s)\n",
            "video 1/1 (138/329) /content/yolov5/detection_ex3.mp4: 736x1280 1 cup, 1 cell phone, Done. (0.028s)\n",
            "video 1/1 (139/329) /content/yolov5/detection_ex3.mp4: 736x1280 1 cell phone, Done. (0.027s)\n",
            "video 1/1 (140/329) /content/yolov5/detection_ex3.mp4: 736x1280 1 cell phone, Done. (0.027s)\n",
            "video 1/1 (141/329) /content/yolov5/detection_ex3.mp4: 736x1280 1 cell phone, Done. (0.027s)\n",
            "video 1/1 (142/329) /content/yolov5/detection_ex3.mp4: 736x1280 1 cell phone, Done. (0.027s)\n",
            "video 1/1 (143/329) /content/yolov5/detection_ex3.mp4: 736x1280 1 cell phone, Done. (0.027s)\n",
            "video 1/1 (144/329) /content/yolov5/detection_ex3.mp4: 736x1280 1 cell phone, Done. (0.027s)\n",
            "video 1/1 (145/329) /content/yolov5/detection_ex3.mp4: 736x1280 1 cell phone, Done. (0.027s)\n",
            "video 1/1 (146/329) /content/yolov5/detection_ex3.mp4: 736x1280 1 cell phone, Done. (0.028s)\n",
            "video 1/1 (147/329) /content/yolov5/detection_ex3.mp4: 736x1280 1 cell phone, Done. (0.029s)\n",
            "video 1/1 (148/329) /content/yolov5/detection_ex3.mp4: 736x1280 1 cell phone, Done. (0.028s)\n",
            "video 1/1 (149/329) /content/yolov5/detection_ex3.mp4: 736x1280 1 laptop, 1 cell phone, Done. (0.028s)\n",
            "video 1/1 (150/329) /content/yolov5/detection_ex3.mp4: 736x1280 1 cell phone, Done. (0.027s)\n",
            "video 1/1 (151/329) /content/yolov5/detection_ex3.mp4: 736x1280 1 cell phone, Done. (0.028s)\n",
            "video 1/1 (152/329) /content/yolov5/detection_ex3.mp4: 736x1280 1 cell phone, Done. (0.028s)\n",
            "video 1/1 (153/329) /content/yolov5/detection_ex3.mp4: 736x1280 1 cell phone, 1 scissors, Done. (0.028s)\n",
            "video 1/1 (154/329) /content/yolov5/detection_ex3.mp4: 736x1280 1 cell phone, 1 scissors, Done. (0.027s)\n",
            "video 1/1 (155/329) /content/yolov5/detection_ex3.mp4: 736x1280 1 cell phone, Done. (0.027s)\n",
            "video 1/1 (156/329) /content/yolov5/detection_ex3.mp4: 736x1280 1 cell phone, Done. (0.027s)\n",
            "video 1/1 (157/329) /content/yolov5/detection_ex3.mp4: 736x1280 1 cell phone, Done. (0.027s)\n",
            "video 1/1 (158/329) /content/yolov5/detection_ex3.mp4: 736x1280 1 cell phone, Done. (0.027s)\n",
            "video 1/1 (159/329) /content/yolov5/detection_ex3.mp4: 736x1280 1 cell phone, 1 scissors, Done. (0.027s)\n",
            "video 1/1 (160/329) /content/yolov5/detection_ex3.mp4: 736x1280 1 cell phone, 1 scissors, Done. (0.027s)\n",
            "video 1/1 (161/329) /content/yolov5/detection_ex3.mp4: 736x1280 1 cell phone, 1 scissors, Done. (0.028s)\n",
            "video 1/1 (162/329) /content/yolov5/detection_ex3.mp4: 736x1280 1 cell phone, 1 scissors, Done. (0.028s)\n",
            "video 1/1 (163/329) /content/yolov5/detection_ex3.mp4: 736x1280 1 cell phone, 1 scissors, Done. (0.028s)\n",
            "video 1/1 (164/329) /content/yolov5/detection_ex3.mp4: 736x1280 1 cell phone, 1 scissors, Done. (0.028s)\n",
            "video 1/1 (165/329) /content/yolov5/detection_ex3.mp4: 736x1280 1 cell phone, 1 scissors, Done. (0.027s)\n",
            "video 1/1 (166/329) /content/yolov5/detection_ex3.mp4: 736x1280 1 cell phone, 1 scissors, Done. (0.027s)\n",
            "video 1/1 (167/329) /content/yolov5/detection_ex3.mp4: 736x1280 1 cell phone, 1 scissors, Done. (0.027s)\n",
            "video 1/1 (168/329) /content/yolov5/detection_ex3.mp4: 736x1280 1 cell phone, 1 scissors, Done. (0.027s)\n",
            "video 1/1 (169/329) /content/yolov5/detection_ex3.mp4: 736x1280 1 cell phone, 1 scissors, Done. (0.027s)\n",
            "video 1/1 (170/329) /content/yolov5/detection_ex3.mp4: 736x1280 1 cell phone, 1 scissors, Done. (0.027s)\n",
            "video 1/1 (171/329) /content/yolov5/detection_ex3.mp4: 736x1280 1 cell phone, 1 scissors, Done. (0.027s)\n",
            "video 1/1 (172/329) /content/yolov5/detection_ex3.mp4: 736x1280 1 laptop, 1 cell phone, 1 scissors, Done. (0.027s)\n",
            "video 1/1 (173/329) /content/yolov5/detection_ex3.mp4: 736x1280 1 laptop, 1 cell phone, Done. (0.027s)\n",
            "video 1/1 (174/329) /content/yolov5/detection_ex3.mp4: 736x1280 1 laptop, 1 cell phone, Done. (0.027s)\n",
            "video 1/1 (175/329) /content/yolov5/detection_ex3.mp4: 736x1280 1 laptop, 1 cell phone, Done. (0.028s)\n",
            "video 1/1 (176/329) /content/yolov5/detection_ex3.mp4: 736x1280 1 cell phone, Done. (0.027s)\n",
            "video 1/1 (177/329) /content/yolov5/detection_ex3.mp4: 736x1280 1 cell phone, Done. (0.028s)\n",
            "video 1/1 (178/329) /content/yolov5/detection_ex3.mp4: 736x1280 1 cell phone, Done. (0.028s)\n",
            "video 1/1 (179/329) /content/yolov5/detection_ex3.mp4: 736x1280 1 cell phone, Done. (0.028s)\n",
            "video 1/1 (180/329) /content/yolov5/detection_ex3.mp4: 736x1280 1 cell phone, Done. (0.028s)\n",
            "video 1/1 (181/329) /content/yolov5/detection_ex3.mp4: 736x1280 1 tie, 1 laptop, 1 cell phone, Done. (0.028s)\n",
            "video 1/1 (182/329) /content/yolov5/detection_ex3.mp4: 736x1280 1 tie, 1 cell phone, Done. (0.028s)\n",
            "video 1/1 (183/329) /content/yolov5/detection_ex3.mp4: 736x1280 1 tie, 1 cell phone, Done. (0.028s)\n",
            "video 1/1 (184/329) /content/yolov5/detection_ex3.mp4: 736x1280 1 tie, 1 cell phone, Done. (0.027s)\n",
            "video 1/1 (185/329) /content/yolov5/detection_ex3.mp4: 736x1280 1 cell phone, Done. (0.027s)\n",
            "video 1/1 (186/329) /content/yolov5/detection_ex3.mp4: 736x1280 1 cell phone, Done. (0.027s)\n",
            "video 1/1 (187/329) /content/yolov5/detection_ex3.mp4: 736x1280 1 laptop, 1 cell phone, Done. (0.027s)\n",
            "video 1/1 (188/329) /content/yolov5/detection_ex3.mp4: 736x1280 1 cell phone, Done. (0.027s)\n",
            "video 1/1 (189/329) /content/yolov5/detection_ex3.mp4: 736x1280 1 cell phone, Done. (0.027s)\n",
            "video 1/1 (190/329) /content/yolov5/detection_ex3.mp4: 736x1280 1 cell phone, Done. (0.027s)\n",
            "video 1/1 (191/329) /content/yolov5/detection_ex3.mp4: 736x1280 1 cell phone, Done. (0.028s)\n",
            "video 1/1 (192/329) /content/yolov5/detection_ex3.mp4: 736x1280 1 laptop, 1 cell phone, Done. (0.028s)\n",
            "video 1/1 (193/329) /content/yolov5/detection_ex3.mp4: 736x1280 1 cell phone, Done. (0.028s)\n",
            "video 1/1 (194/329) /content/yolov5/detection_ex3.mp4: 736x1280 1 laptop, 1 cell phone, Done. (0.028s)\n",
            "video 1/1 (195/329) /content/yolov5/detection_ex3.mp4: 736x1280 1 laptop, 1 cell phone, Done. (0.028s)\n",
            "video 1/1 (196/329) /content/yolov5/detection_ex3.mp4: 736x1280 1 laptop, 1 cell phone, Done. (0.028s)\n",
            "video 1/1 (197/329) /content/yolov5/detection_ex3.mp4: 736x1280 1 laptop, 1 cell phone, Done. (0.028s)\n",
            "video 1/1 (198/329) /content/yolov5/detection_ex3.mp4: 736x1280 1 cup, 1 laptop, 1 cell phone, Done. (0.027s)\n",
            "video 1/1 (199/329) /content/yolov5/detection_ex3.mp4: 736x1280 1 cell phone, Done. (0.027s)\n",
            "video 1/1 (200/329) /content/yolov5/detection_ex3.mp4: 736x1280 1 cell phone, Done. (0.027s)\n",
            "video 1/1 (201/329) /content/yolov5/detection_ex3.mp4: 736x1280 1 cell phone, Done. (0.027s)\n",
            "video 1/1 (202/329) /content/yolov5/detection_ex3.mp4: 736x1280 1 cell phone, Done. (0.027s)\n",
            "video 1/1 (203/329) /content/yolov5/detection_ex3.mp4: 736x1280 1 cell phone, Done. (0.027s)\n",
            "video 1/1 (204/329) /content/yolov5/detection_ex3.mp4: 736x1280 1 cell phone, Done. (0.027s)\n",
            "video 1/1 (205/329) /content/yolov5/detection_ex3.mp4: 736x1280 1 cell phone, Done. (0.027s)\n",
            "video 1/1 (206/329) /content/yolov5/detection_ex3.mp4: 736x1280 1 cell phone, Done. (0.027s)\n",
            "video 1/1 (207/329) /content/yolov5/detection_ex3.mp4: 736x1280 1 cup, 1 cell phone, Done. (0.028s)\n",
            "video 1/1 (208/329) /content/yolov5/detection_ex3.mp4: 736x1280 1 cup, 1 cell phone, Done. (0.028s)\n",
            "video 1/1 (209/329) /content/yolov5/detection_ex3.mp4: 736x1280 1 cup, 2 laptops, 1 cell phone, Done. (0.028s)\n",
            "video 1/1 (210/329) /content/yolov5/detection_ex3.mp4: 736x1280 1 cup, 1 cell phone, Done. (0.028s)\n",
            "video 1/1 (211/329) /content/yolov5/detection_ex3.mp4: 736x1280 1 cup, 1 cell phone, Done. (0.028s)\n",
            "video 1/1 (212/329) /content/yolov5/detection_ex3.mp4: 736x1280 1 cup, 1 laptop, 1 cell phone, Done. (0.027s)\n",
            "video 1/1 (213/329) /content/yolov5/detection_ex3.mp4: 736x1280 1 cup, 1 laptop, 1 cell phone, Done. (0.027s)\n",
            "video 1/1 (214/329) /content/yolov5/detection_ex3.mp4: 736x1280 1 cup, 1 laptop, 1 cell phone, Done. (0.027s)\n",
            "video 1/1 (215/329) /content/yolov5/detection_ex3.mp4: 736x1280 1 cup, 1 laptop, 1 cell phone, Done. (0.027s)\n",
            "video 1/1 (216/329) /content/yolov5/detection_ex3.mp4: 736x1280 1 cup, 1 laptop, 1 cell phone, Done. (0.027s)\n",
            "video 1/1 (217/329) /content/yolov5/detection_ex3.mp4: 736x1280 1 cup, 1 laptop, 1 cell phone, Done. (0.027s)\n",
            "video 1/1 (218/329) /content/yolov5/detection_ex3.mp4: 736x1280 1 cup, 1 cell phone, Done. (0.027s)\n",
            "video 1/1 (219/329) /content/yolov5/detection_ex3.mp4: 736x1280 1 cup, 1 cell phone, Done. (0.027s)\n",
            "video 1/1 (220/329) /content/yolov5/detection_ex3.mp4: 736x1280 1 cup, 1 laptop, 1 cell phone, Done. (0.027s)\n",
            "video 1/1 (221/329) /content/yolov5/detection_ex3.mp4: 736x1280 1 cup, 1 cell phone, Done. (0.027s)\n",
            "video 1/1 (222/329) /content/yolov5/detection_ex3.mp4: 736x1280 1 cup, 1 cell phone, Done. (0.027s)\n",
            "video 1/1 (223/329) /content/yolov5/detection_ex3.mp4: 736x1280 1 person, 1 cup, 1 cell phone, Done. (0.028s)\n",
            "video 1/1 (224/329) /content/yolov5/detection_ex3.mp4: 736x1280 1 person, 1 cup, 1 cell phone, Done. (0.028s)\n",
            "video 1/1 (225/329) /content/yolov5/detection_ex3.mp4: 736x1280 1 cup, 1 cell phone, Done. (0.028s)\n",
            "video 1/1 (226/329) /content/yolov5/detection_ex3.mp4: 736x1280 1 cup, 1 laptop, 1 cell phone, Done. (0.028s)\n",
            "video 1/1 (227/329) /content/yolov5/detection_ex3.mp4: 736x1280 1 cup, 1 laptop, 1 cell phone, Done. (0.028s)\n",
            "video 1/1 (228/329) /content/yolov5/detection_ex3.mp4: 736x1280 1 cup, 1 chair, 1 laptop, 1 cell phone, Done. (0.027s)\n",
            "video 1/1 (229/329) /content/yolov5/detection_ex3.mp4: 736x1280 1 cup, 1 chair, 1 laptop, 1 cell phone, Done. (0.028s)\n",
            "video 1/1 (230/329) /content/yolov5/detection_ex3.mp4: 736x1280 1 cup, 1 chair, 1 laptop, 1 cell phone, Done. (0.027s)\n",
            "video 1/1 (231/329) /content/yolov5/detection_ex3.mp4: 736x1280 1 person, 1 cup, 1 chair, 1 laptop, 1 cell phone, Done. (0.027s)\n",
            "video 1/1 (232/329) /content/yolov5/detection_ex3.mp4: 736x1280 1 cup, 1 chair, 1 laptop, 1 cell phone, Done. (0.027s)\n",
            "video 1/1 (233/329) /content/yolov5/detection_ex3.mp4: 736x1280 1 person, 1 cup, 1 chair, 1 laptop, 1 cell phone, Done. (0.027s)\n",
            "video 1/1 (234/329) /content/yolov5/detection_ex3.mp4: 736x1280 1 person, 1 chair, 1 laptop, 1 cell phone, Done. (0.027s)\n",
            "video 1/1 (235/329) /content/yolov5/detection_ex3.mp4: 736x1280 1 cup, 1 chair, 1 laptop, 1 cell phone, Done. (0.027s)\n",
            "video 1/1 (236/329) /content/yolov5/detection_ex3.mp4: 736x1280 1 cup, 1 chair, 1 laptop, 1 cell phone, Done. (0.027s)\n",
            "video 1/1 (237/329) /content/yolov5/detection_ex3.mp4: 736x1280 1 chair, 1 laptop, 1 cell phone, Done. (0.027s)\n",
            "video 1/1 (238/329) /content/yolov5/detection_ex3.mp4: 736x1280 1 chair, 1 laptop, 1 cell phone, Done. (0.027s)\n",
            "video 1/1 (239/329) /content/yolov5/detection_ex3.mp4: 736x1280 1 chair, 1 laptop, Done. (0.027s)\n",
            "video 1/1 (240/329) /content/yolov5/detection_ex3.mp4: 736x1280 1 person, 1 chair, 1 laptop, Done. (0.027s)\n",
            "video 1/1 (241/329) /content/yolov5/detection_ex3.mp4: 736x1280 1 person, 2 chairs, 1 laptop, Done. (0.027s)\n",
            "video 1/1 (242/329) /content/yolov5/detection_ex3.mp4: 736x1280 2 chairs, 1 laptop, Done. (0.027s)\n",
            "video 1/1 (243/329) /content/yolov5/detection_ex3.mp4: 736x1280 2 chairs, 1 laptop, Done. (0.028s)\n",
            "video 1/1 (244/329) /content/yolov5/detection_ex3.mp4: 736x1280 2 chairs, 1 laptop, Done. (0.028s)\n",
            "video 1/1 (245/329) /content/yolov5/detection_ex3.mp4: 736x1280 1 person, 2 chairs, 1 laptop, Done. (0.028s)\n",
            "video 1/1 (246/329) /content/yolov5/detection_ex3.mp4: 736x1280 2 chairs, 1 laptop, Done. (0.028s)\n",
            "video 1/1 (247/329) /content/yolov5/detection_ex3.mp4: 736x1280 1 person, 3 chairs, 1 laptop, Done. (0.028s)\n",
            "video 1/1 (248/329) /content/yolov5/detection_ex3.mp4: 736x1280 1 person, 2 chairs, 1 laptop, Done. (0.027s)\n",
            "video 1/1 (249/329) /content/yolov5/detection_ex3.mp4: 736x1280 1 person, 2 chairs, 1 laptop, Done. (0.027s)\n",
            "video 1/1 (250/329) /content/yolov5/detection_ex3.mp4: 736x1280 3 chairs, 1 laptop, Done. (0.027s)\n",
            "video 1/1 (251/329) /content/yolov5/detection_ex3.mp4: 736x1280 2 persons, 3 chairs, 1 laptop, Done. (0.027s)\n",
            "video 1/1 (252/329) /content/yolov5/detection_ex3.mp4: 736x1280 2 persons, 2 chairs, 1 laptop, Done. (0.027s)\n",
            "video 1/1 (253/329) /content/yolov5/detection_ex3.mp4: 736x1280 1 person, 3 chairs, Done. (0.027s)\n",
            "video 1/1 (254/329) /content/yolov5/detection_ex3.mp4: 736x1280 1 person, 1 cup, 3 chairs, Done. (0.027s)\n",
            "video 1/1 (255/329) /content/yolov5/detection_ex3.mp4: 736x1280 1 person, 4 chairs, Done. (0.027s)\n",
            "video 1/1 (256/329) /content/yolov5/detection_ex3.mp4: 736x1280 1 person, 4 chairs, Done. (0.027s)\n",
            "video 1/1 (257/329) /content/yolov5/detection_ex3.mp4: 736x1280 1 person, 4 chairs, Done. (0.027s)\n",
            "video 1/1 (258/329) /content/yolov5/detection_ex3.mp4: 736x1280 1 person, 4 chairs, 1 laptop, Done. (0.027s)\n",
            "video 1/1 (259/329) /content/yolov5/detection_ex3.mp4: 736x1280 1 person, 4 chairs, Done. (0.027s)\n",
            "video 1/1 (260/329) /content/yolov5/detection_ex3.mp4: 736x1280 1 person, 4 chairs, 2 laptops, Done. (0.027s)\n",
            "video 1/1 (261/329) /content/yolov5/detection_ex3.mp4: 736x1280 2 persons, 3 chairs, 1 laptop, Done. (0.027s)\n",
            "video 1/1 (262/329) /content/yolov5/detection_ex3.mp4: 736x1280 1 person, 3 chairs, Done. (0.027s)\n",
            "video 1/1 (263/329) /content/yolov5/detection_ex3.mp4: 736x1280 1 person, 3 chairs, 1 laptop, Done. (0.027s)\n",
            "video 1/1 (264/329) /content/yolov5/detection_ex3.mp4: 736x1280 2 persons, 3 chairs, 2 laptops, Done. (0.027s)\n",
            "video 1/1 (265/329) /content/yolov5/detection_ex3.mp4: 736x1280 2 persons, 3 chairs, 1 laptop, Done. (0.027s)\n",
            "video 1/1 (266/329) /content/yolov5/detection_ex3.mp4: 736x1280 2 persons, 3 chairs, 2 laptops, Done. (0.027s)\n",
            "video 1/1 (267/329) /content/yolov5/detection_ex3.mp4: 736x1280 2 persons, 3 chairs, 1 laptop, Done. (0.027s)\n",
            "video 1/1 (268/329) /content/yolov5/detection_ex3.mp4: 736x1280 1 person, 3 chairs, 1 laptop, Done. (0.027s)\n",
            "video 1/1 (269/329) /content/yolov5/detection_ex3.mp4: 736x1280 2 persons, 3 chairs, 2 laptops, Done. (0.027s)\n",
            "video 1/1 (270/329) /content/yolov5/detection_ex3.mp4: 736x1280 2 persons, 1 cup, 3 chairs, 2 laptops, Done. (0.027s)\n",
            "video 1/1 (271/329) /content/yolov5/detection_ex3.mp4: 736x1280 2 persons, 1 cup, 3 chairs, 2 laptops, Done. (0.027s)\n",
            "video 1/1 (272/329) /content/yolov5/detection_ex3.mp4: 736x1280 2 persons, 3 chairs, 2 laptops, Done. (0.027s)\n",
            "video 1/1 (273/329) /content/yolov5/detection_ex3.mp4: 736x1280 1 person, 3 chairs, 1 laptop, Done. (0.027s)\n",
            "video 1/1 (274/329) /content/yolov5/detection_ex3.mp4: 736x1280 1 person, 1 cup, 3 chairs, 1 laptop, Done. (0.027s)\n",
            "video 1/1 (275/329) /content/yolov5/detection_ex3.mp4: 736x1280 1 person, 1 cup, 3 chairs, 1 laptop, Done. (0.027s)\n",
            "video 1/1 (276/329) /content/yolov5/detection_ex3.mp4: 736x1280 2 persons, 1 cup, 3 chairs, 2 laptops, Done. (0.027s)\n",
            "video 1/1 (277/329) /content/yolov5/detection_ex3.mp4: 736x1280 2 persons, 1 cup, 3 chairs, 1 laptop, Done. (0.028s)\n",
            "video 1/1 (278/329) /content/yolov5/detection_ex3.mp4: 736x1280 2 persons, 1 cup, 2 chairs, 2 laptops, Done. (0.027s)\n",
            "video 1/1 (279/329) /content/yolov5/detection_ex3.mp4: 736x1280 2 persons, 1 cup, 2 chairs, 1 laptop, Done. (0.027s)\n",
            "video 1/1 (280/329) /content/yolov5/detection_ex3.mp4: 736x1280 2 persons, 1 cup, 2 chairs, 1 laptop, Done. (0.027s)\n",
            "video 1/1 (281/329) /content/yolov5/detection_ex3.mp4: 736x1280 2 persons, 1 cup, 2 chairs, 1 laptop, Done. (0.027s)\n",
            "video 1/1 (282/329) /content/yolov5/detection_ex3.mp4: 736x1280 2 persons, 1 cup, 2 chairs, 1 laptop, Done. (0.027s)\n",
            "video 1/1 (283/329) /content/yolov5/detection_ex3.mp4: 736x1280 2 persons, 1 cup, 2 chairs, 1 laptop, Done. (0.027s)\n",
            "video 1/1 (284/329) /content/yolov5/detection_ex3.mp4: 736x1280 2 persons, 1 cup, 2 chairs, 1 laptop, Done. (0.027s)\n",
            "video 1/1 (285/329) /content/yolov5/detection_ex3.mp4: 736x1280 2 persons, 1 cup, 2 chairs, 1 laptop, Done. (0.027s)\n",
            "video 1/1 (286/329) /content/yolov5/detection_ex3.mp4: 736x1280 2 persons, 1 cup, 2 chairs, 1 laptop, Done. (0.027s)\n",
            "video 1/1 (287/329) /content/yolov5/detection_ex3.mp4: 736x1280 2 persons, 1 cup, 2 chairs, 1 laptop, Done. (0.027s)\n",
            "video 1/1 (288/329) /content/yolov5/detection_ex3.mp4: 736x1280 2 persons, 1 cup, 2 chairs, 1 laptop, Done. (0.027s)\n",
            "video 1/1 (289/329) /content/yolov5/detection_ex3.mp4: 736x1280 2 persons, 1 cup, 2 chairs, 1 laptop, Done. (0.027s)\n",
            "video 1/1 (290/329) /content/yolov5/detection_ex3.mp4: 736x1280 2 persons, 1 cup, 2 chairs, 1 laptop, Done. (0.027s)\n",
            "video 1/1 (291/329) /content/yolov5/detection_ex3.mp4: 736x1280 2 persons, 1 cup, 2 chairs, 2 laptops, Done. (0.027s)\n",
            "video 1/1 (292/329) /content/yolov5/detection_ex3.mp4: 736x1280 2 persons, 1 cup, 2 chairs, 1 laptop, Done. (0.027s)\n",
            "video 1/1 (293/329) /content/yolov5/detection_ex3.mp4: 736x1280 2 persons, 1 cup, 2 chairs, 2 laptops, Done. (0.027s)\n",
            "video 1/1 (294/329) /content/yolov5/detection_ex3.mp4: 736x1280 2 persons, 2 cups, 2 chairs, 2 laptops, Done. (0.027s)\n",
            "video 1/1 (295/329) /content/yolov5/detection_ex3.mp4: 736x1280 2 persons, 1 cup, 2 chairs, 2 laptops, Done. (0.027s)\n",
            "video 1/1 (296/329) /content/yolov5/detection_ex3.mp4: 736x1280 2 persons, 1 cup, 2 chairs, 1 laptop, Done. (0.027s)\n",
            "video 1/1 (297/329) /content/yolov5/detection_ex3.mp4: 736x1280 1 person, 1 cup, 2 chairs, 2 laptops, Done. (0.027s)\n",
            "video 1/1 (298/329) /content/yolov5/detection_ex3.mp4: 736x1280 1 person, 1 cup, 2 chairs, 1 laptop, Done. (0.027s)\n",
            "video 1/1 (299/329) /content/yolov5/detection_ex3.mp4: 736x1280 1 person, 1 cup, 2 chairs, 1 laptop, Done. (0.027s)\n",
            "video 1/1 (300/329) /content/yolov5/detection_ex3.mp4: 736x1280 1 person, 1 cup, 2 chairs, 1 laptop, Done. (0.027s)\n",
            "video 1/1 (301/329) /content/yolov5/detection_ex3.mp4: 736x1280 1 person, 1 cup, 2 chairs, 1 laptop, Done. (0.027s)\n",
            "video 1/1 (302/329) /content/yolov5/detection_ex3.mp4: 736x1280 2 persons, 1 cup, 2 chairs, 1 laptop, Done. (0.027s)\n",
            "video 1/1 (303/329) /content/yolov5/detection_ex3.mp4: 736x1280 2 persons, 1 cup, 2 chairs, 1 laptop, Done. (0.027s)\n",
            "video 1/1 (304/329) /content/yolov5/detection_ex3.mp4: 736x1280 1 person, 1 cup, 2 chairs, 1 laptop, Done. (0.027s)\n",
            "video 1/1 (305/329) /content/yolov5/detection_ex3.mp4: 736x1280 1 person, 1 cup, 2 chairs, 1 laptop, Done. (0.027s)\n",
            "video 1/1 (306/329) /content/yolov5/detection_ex3.mp4: 736x1280 2 persons, 1 cup, 2 chairs, 1 laptop, Done. (0.027s)\n",
            "video 1/1 (307/329) /content/yolov5/detection_ex3.mp4: 736x1280 2 persons, 1 cup, 2 chairs, 1 laptop, Done. (0.027s)\n",
            "video 1/1 (308/329) /content/yolov5/detection_ex3.mp4: 736x1280 2 persons, 1 cup, 3 chairs, 1 laptop, Done. (0.027s)\n",
            "video 1/1 (309/329) /content/yolov5/detection_ex3.mp4: 736x1280 2 persons, 1 cup, 2 chairs, 1 laptop, Done. (0.027s)\n",
            "video 1/1 (310/329) /content/yolov5/detection_ex3.mp4: 736x1280 3 persons, 1 cup, 2 chairs, 1 laptop, Done. (0.027s)\n",
            "video 1/1 (311/329) /content/yolov5/detection_ex3.mp4: 736x1280 2 persons, 1 cup, 2 chairs, 1 laptop, Done. (0.027s)\n",
            "video 1/1 (312/329) /content/yolov5/detection_ex3.mp4: 736x1280 2 persons, 1 cup, 2 chairs, 1 laptop, Done. (0.027s)\n",
            "video 1/1 (313/329) /content/yolov5/detection_ex3.mp4: 736x1280 2 persons, 1 cup, 2 chairs, 1 laptop, Done. (0.027s)\n",
            "video 1/1 (314/329) /content/yolov5/detection_ex3.mp4: 736x1280 2 persons, 1 cup, 2 chairs, 1 laptop, Done. (0.027s)\n",
            "video 1/1 (315/329) /content/yolov5/detection_ex3.mp4: 736x1280 3 persons, 1 cup, 2 chairs, 1 laptop, Done. (0.027s)\n",
            "video 1/1 (316/329) /content/yolov5/detection_ex3.mp4: 736x1280 3 persons, 1 cup, 2 chairs, 1 laptop, Done. (0.027s)\n",
            "video 1/1 (317/329) /content/yolov5/detection_ex3.mp4: 736x1280 3 persons, 1 cup, 2 chairs, 1 laptop, Done. (0.027s)\n",
            "video 1/1 (318/329) /content/yolov5/detection_ex3.mp4: 736x1280 3 persons, 1 cup, 2 chairs, 1 laptop, Done. (0.027s)\n",
            "video 1/1 (319/329) /content/yolov5/detection_ex3.mp4: 736x1280 3 persons, 1 cup, 2 chairs, 1 laptop, Done. (0.028s)\n",
            "video 1/1 (320/329) /content/yolov5/detection_ex3.mp4: 736x1280 3 persons, 1 cup, 2 chairs, 1 laptop, Done. (0.027s)\n",
            "video 1/1 (321/329) /content/yolov5/detection_ex3.mp4: 736x1280 3 persons, 1 cup, 2 chairs, 1 laptop, Done. (0.027s)\n",
            "video 1/1 (322/329) /content/yolov5/detection_ex3.mp4: 736x1280 2 persons, 1 cup, 2 chairs, 1 laptop, Done. (0.027s)\n",
            "video 1/1 (323/329) /content/yolov5/detection_ex3.mp4: 736x1280 3 persons, 1 cup, 2 chairs, 1 laptop, Done. (0.027s)\n",
            "video 1/1 (324/329) /content/yolov5/detection_ex3.mp4: 736x1280 3 persons, 1 cup, 2 chairs, 1 laptop, Done. (0.027s)\n",
            "video 1/1 (325/329) /content/yolov5/detection_ex3.mp4: 736x1280 3 persons, 1 cup, 2 chairs, 1 laptop, Done. (0.027s)\n",
            "video 1/1 (326/329) /content/yolov5/detection_ex3.mp4: 736x1280 3 persons, 1 cup, 2 chairs, 1 laptop, Done. (0.027s)\n",
            "video 1/1 (327/329) /content/yolov5/detection_ex3.mp4: 736x1280 3 persons, 1 cup, 2 chairs, 1 laptop, Done. (0.027s)\n",
            "video 1/1 (328/329) /content/yolov5/detection_ex3.mp4: 736x1280 3 persons, 1 cup, 2 chairs, 1 laptop, Done. (0.027s)\n",
            "video 1/1 (329/329) /content/yolov5/detection_ex3.mp4: 736x1280 3 persons, 1 cup, 2 chairs, 2 laptops, Done. (0.027s)\n",
            "Results saved to runs/detect/exp2\n",
            "Done. (13.162s)\n",
            "CPU times: user 215 ms, sys: 36.7 ms, total: 252 ms\n",
            "Wall time: 19.4 s\n"
          ],
          "name": "stdout"
        }
      ]
    },
    {
      "cell_type": "markdown",
      "metadata": {
        "id": "0Y3GJDFb1E2R"
      },
      "source": [
        "# 결과 파일 다운로드"
      ]
    },
    {
      "cell_type": "code",
      "metadata": {
        "colab": {
          "base_uri": "https://localhost:8080/",
          "height": 17
        },
        "id": "UE_WclYetrWQ",
        "outputId": "5288bca7-520b-426b-cc4c-1dacb06d7e50"
      },
      "source": [
        "from google.colab import files\n",
        "files.download('./runs/detect/exp2/detection_ex3.mp4')"
      ],
      "execution_count": null,
      "outputs": [
        {
          "output_type": "display_data",
          "data": {
            "application/javascript": [
              "\n",
              "    async function download(id, filename, size) {\n",
              "      if (!google.colab.kernel.accessAllowed) {\n",
              "        return;\n",
              "      }\n",
              "      const div = document.createElement('div');\n",
              "      const label = document.createElement('label');\n",
              "      label.textContent = `Downloading \"${filename}\": `;\n",
              "      div.appendChild(label);\n",
              "      const progress = document.createElement('progress');\n",
              "      progress.max = size;\n",
              "      div.appendChild(progress);\n",
              "      document.body.appendChild(div);\n",
              "\n",
              "      const buffers = [];\n",
              "      let downloaded = 0;\n",
              "\n",
              "      const channel = await google.colab.kernel.comms.open(id);\n",
              "      // Send a message to notify the kernel that we're ready.\n",
              "      channel.send({})\n",
              "\n",
              "      for await (const message of channel.messages) {\n",
              "        // Send a message to notify the kernel that we're ready.\n",
              "        channel.send({})\n",
              "        if (message.buffers) {\n",
              "          for (const buffer of message.buffers) {\n",
              "            buffers.push(buffer);\n",
              "            downloaded += buffer.byteLength;\n",
              "            progress.value = downloaded;\n",
              "          }\n",
              "        }\n",
              "      }\n",
              "      const blob = new Blob(buffers, {type: 'application/binary'});\n",
              "      const a = document.createElement('a');\n",
              "      a.href = window.URL.createObjectURL(blob);\n",
              "      a.download = filename;\n",
              "      div.appendChild(a);\n",
              "      a.click();\n",
              "      div.remove();\n",
              "    }\n",
              "  "
            ],
            "text/plain": [
              "<IPython.core.display.Javascript object>"
            ]
          },
          "metadata": {
            "tags": []
          }
        },
        {
          "output_type": "display_data",
          "data": {
            "application/javascript": [
              "download(\"download_d8f3060e-6dbc-40d9-9797-4f24c6dd32d6\", \"detection_ex3.mp4\", 5193807)"
            ],
            "text/plain": [
              "<IPython.core.display.Javascript object>"
            ]
          },
          "metadata": {
            "tags": []
          }
        }
      ]
    },
    {
      "cell_type": "markdown",
      "metadata": {
        "id": "-gnFYhOc6Wwv"
      },
      "source": [
        "참조 : https://lv99.tistory.com/73"
      ]
    },
    {
      "cell_type": "markdown",
      "metadata": {
        "id": "VJ7mCI-Nq_OF"
      },
      "source": [
        "# pb file을 Tflite로 변환"
      ]
    },
    {
      "cell_type": "code",
      "metadata": {
        "colab": {
          "base_uri": "https://localhost:8080/"
        },
        "id": "sv9kdrChyWpM",
        "outputId": "4ad64bf7-f845-4a40-ebb4-39a95a225a2c"
      },
      "source": [
        "%%bash\n",
        "pip install onnx tensorflow-addons\n",
        "git clone https://github.com/onnx/onnx-tensorflow.git && cd onnx-tensorflow && pip install -e ."
      ],
      "execution_count": null,
      "outputs": [
        {
          "output_type": "stream",
          "text": [
            "Requirement already satisfied: onnx in /usr/local/lib/python3.7/dist-packages (1.9.0)\n",
            "Requirement already satisfied: tensorflow-addons in /usr/local/lib/python3.7/dist-packages (0.12.1)\n",
            "Requirement already satisfied: typing-extensions>=3.6.2.1 in /usr/local/lib/python3.7/dist-packages (from onnx) (3.7.4.3)\n",
            "Requirement already satisfied: numpy>=1.16.6 in /usr/local/lib/python3.7/dist-packages (from onnx) (1.19.5)\n",
            "Requirement already satisfied: protobuf in /usr/local/lib/python3.7/dist-packages (from onnx) (3.12.4)\n",
            "Requirement already satisfied: six in /usr/local/lib/python3.7/dist-packages (from onnx) (1.15.0)\n",
            "Requirement already satisfied: typeguard>=2.7 in /usr/local/lib/python3.7/dist-packages (from tensorflow-addons) (2.7.1)\n",
            "Requirement already satisfied: setuptools in /usr/local/lib/python3.7/dist-packages (from protobuf->onnx) (56.0.0)\n"
          ],
          "name": "stdout"
        },
        {
          "output_type": "stream",
          "text": [
            "fatal: destination path 'onnx-tensorflow' already exists and is not an empty directory.\n"
          ],
          "name": "stderr"
        }
      ]
    },
    {
      "cell_type": "code",
      "metadata": {
        "id": "6XHQXKfhyew0"
      },
      "source": [
        "import sys\n",
        "sys.path.append(\"./onnx-tensorflow\")"
      ],
      "execution_count": null,
      "outputs": []
    },
    {
      "cell_type": "code",
      "metadata": {
        "colab": {
          "base_uri": "https://localhost:8080/"
        },
        "id": "dCHToJkjq-j0",
        "outputId": "cc8ab899-29ab-496f-e0e9-8afc426952cd"
      },
      "source": [
        "#pt to onnx\n",
        "!python models/export.py --weights ./weights/yolov5s.pt --img 640 --batch 1"
      ],
      "execution_count": null,
      "outputs": [
        {
          "output_type": "stream",
          "text": [
            "Namespace(batch_size=1, device='cpu', dynamic=False, grid=False, img_size=[640, 640], weights='./weights/yolov5s.pt')\n",
            "YOLOv5 v4.0-126-g886f1c0 torch 1.8.1+cu101 CPU\n",
            "\n",
            "Fusing layers... \n",
            "Model Summary: 224 layers, 7266973 parameters, 0 gradients, 17.0 GFLOPS\n",
            "\n",
            "Starting TorchScript export with torch 1.8.1+cu101...\n",
            "/usr/local/lib/python3.7/dist-packages/torch/jit/_trace.py:940: TracerWarning: Encountering a list at the output of the tracer might cause the trace to be incorrect, this is only valid if the container structure does not change based on the module's inputs. Consider using a constant container instead (e.g. for `list`, use a `tuple` instead. for `dict`, use a `NamedTuple` instead). If you absolutely need this and know the side effects, pass strict=False to trace() to allow this behavior.\n",
            "  _force_outplace,\n",
            "TorchScript export success, saved as ./weights/yolov5s.torchscript.pt\n",
            "\n",
            "Starting ONNX export with onnx 1.9.0...\n",
            "ONNX export success, saved as ./weights/yolov5s.onnx\n",
            "CoreML export failure: No module named 'coremltools'\n",
            "\n",
            "Export complete (5.50s). Visualize with https://github.com/lutzroeder/netron.\n"
          ],
          "name": "stdout"
        }
      ]
    },
    {
      "cell_type": "code",
      "metadata": {
        "colab": {
          "base_uri": "https://localhost:8080/",
          "height": 702
        },
        "id": "EWmNU6OusKRB",
        "outputId": "13e4c88b-61c2-44b8-afd4-0e883f918f29"
      },
      "source": [
        "#onnx to pb\n",
        "import onnx\n",
        "from onnx_tf.backend import prepare\n",
        "\n",
        "onnx_model = onnx.load(\"./weights/yolov5s.onnx\") #load onnx model\n",
        "tf_rep = prepare(onnx_model) #prepare tf representation\n",
        "tf_rep.export_graph(\"./output/tf_model.pb\")"
      ],
      "execution_count": null,
      "outputs": [
        {
          "output_type": "error",
          "ename": "TypeError",
          "evalue": "ignored",
          "traceback": [
            "\u001b[0;31m---------------------------------------------------------------------------\u001b[0m",
            "\u001b[0;31mTypeError\u001b[0m                                 Traceback (most recent call last)",
            "\u001b[0;32m<ipython-input-18-4473f00e4b22>\u001b[0m in \u001b[0;36m<module>\u001b[0;34m()\u001b[0m\n\u001b[1;32m      5\u001b[0m \u001b[0monnx_model\u001b[0m \u001b[0;34m=\u001b[0m \u001b[0monnx\u001b[0m\u001b[0;34m.\u001b[0m\u001b[0mload\u001b[0m\u001b[0;34m(\u001b[0m\u001b[0;34m\"./weights/yolov5s.onnx\"\u001b[0m\u001b[0;34m)\u001b[0m \u001b[0;31m#load onnx model\u001b[0m\u001b[0;34m\u001b[0m\u001b[0;34m\u001b[0m\u001b[0m\n\u001b[1;32m      6\u001b[0m \u001b[0mtf_rep\u001b[0m \u001b[0;34m=\u001b[0m \u001b[0mprepare\u001b[0m\u001b[0;34m(\u001b[0m\u001b[0monnx_model\u001b[0m\u001b[0;34m)\u001b[0m \u001b[0;31m#prepare tf representation\u001b[0m\u001b[0;34m\u001b[0m\u001b[0;34m\u001b[0m\u001b[0m\n\u001b[0;32m----> 7\u001b[0;31m \u001b[0mtf_rep\u001b[0m\u001b[0;34m.\u001b[0m\u001b[0mexport_graph\u001b[0m\u001b[0;34m(\u001b[0m\u001b[0;34m\"./output/tf_model.pb\"\u001b[0m\u001b[0;34m)\u001b[0m\u001b[0;34m\u001b[0m\u001b[0;34m\u001b[0m\u001b[0m\n\u001b[0m",
            "\u001b[0;32m/content/yolov5/onnx-tensorflow/onnx_tf/backend_rep.py\u001b[0m in \u001b[0;36mexport_graph\u001b[0;34m(self, path)\u001b[0m\n\u001b[1;32m    116\u001b[0m         \u001b[0mpath\u001b[0m\u001b[0;34m,\u001b[0m\u001b[0;34m\u001b[0m\u001b[0;34m\u001b[0m\u001b[0m\n\u001b[1;32m    117\u001b[0m         signatures=self.tf_module.__call__.get_concrete_function(\n\u001b[0;32m--> 118\u001b[0;31m             **self.signatures))\n\u001b[0m",
            "\u001b[0;32m/usr/local/lib/python3.7/dist-packages/tensorflow/python/eager/def_function.py\u001b[0m in \u001b[0;36mget_concrete_function\u001b[0;34m(self, *args, **kwargs)\u001b[0m\n\u001b[1;32m   1297\u001b[0m       \u001b[0mValueError\u001b[0m\u001b[0;34m:\u001b[0m \u001b[0;32mif\u001b[0m \u001b[0mthis\u001b[0m \u001b[0mobject\u001b[0m \u001b[0mhas\u001b[0m \u001b[0;32mnot\u001b[0m \u001b[0myet\u001b[0m \u001b[0mbeen\u001b[0m \u001b[0mcalled\u001b[0m \u001b[0mon\u001b[0m \u001b[0mconcrete\u001b[0m \u001b[0mvalues\u001b[0m\u001b[0;34m.\u001b[0m\u001b[0;34m\u001b[0m\u001b[0;34m\u001b[0m\u001b[0m\n\u001b[1;32m   1298\u001b[0m     \"\"\"\n\u001b[0;32m-> 1299\u001b[0;31m     \u001b[0mconcrete\u001b[0m \u001b[0;34m=\u001b[0m \u001b[0mself\u001b[0m\u001b[0;34m.\u001b[0m\u001b[0m_get_concrete_function_garbage_collected\u001b[0m\u001b[0;34m(\u001b[0m\u001b[0;34m*\u001b[0m\u001b[0margs\u001b[0m\u001b[0;34m,\u001b[0m \u001b[0;34m**\u001b[0m\u001b[0mkwargs\u001b[0m\u001b[0;34m)\u001b[0m\u001b[0;34m\u001b[0m\u001b[0;34m\u001b[0m\u001b[0m\n\u001b[0m\u001b[1;32m   1300\u001b[0m     \u001b[0mconcrete\u001b[0m\u001b[0;34m.\u001b[0m\u001b[0m_garbage_collector\u001b[0m\u001b[0;34m.\u001b[0m\u001b[0mrelease\u001b[0m\u001b[0;34m(\u001b[0m\u001b[0;34m)\u001b[0m  \u001b[0;31m# pylint: disable=protected-access\u001b[0m\u001b[0;34m\u001b[0m\u001b[0;34m\u001b[0m\u001b[0m\n\u001b[1;32m   1301\u001b[0m     \u001b[0;32mreturn\u001b[0m \u001b[0mconcrete\u001b[0m\u001b[0;34m\u001b[0m\u001b[0;34m\u001b[0m\u001b[0m\n",
            "\u001b[0;32m/usr/local/lib/python3.7/dist-packages/tensorflow/python/eager/def_function.py\u001b[0m in \u001b[0;36m_get_concrete_function_garbage_collected\u001b[0;34m(self, *args, **kwargs)\u001b[0m\n\u001b[1;32m   1203\u001b[0m       \u001b[0;32mif\u001b[0m \u001b[0mself\u001b[0m\u001b[0;34m.\u001b[0m\u001b[0m_stateful_fn\u001b[0m \u001b[0;32mis\u001b[0m \u001b[0;32mNone\u001b[0m\u001b[0;34m:\u001b[0m\u001b[0;34m\u001b[0m\u001b[0;34m\u001b[0m\u001b[0m\n\u001b[1;32m   1204\u001b[0m         \u001b[0minitializers\u001b[0m \u001b[0;34m=\u001b[0m \u001b[0;34m[\u001b[0m\u001b[0;34m]\u001b[0m\u001b[0;34m\u001b[0m\u001b[0;34m\u001b[0m\u001b[0m\n\u001b[0;32m-> 1205\u001b[0;31m         \u001b[0mself\u001b[0m\u001b[0;34m.\u001b[0m\u001b[0m_initialize\u001b[0m\u001b[0;34m(\u001b[0m\u001b[0margs\u001b[0m\u001b[0;34m,\u001b[0m \u001b[0mkwargs\u001b[0m\u001b[0;34m,\u001b[0m \u001b[0madd_initializers_to\u001b[0m\u001b[0;34m=\u001b[0m\u001b[0minitializers\u001b[0m\u001b[0;34m)\u001b[0m\u001b[0;34m\u001b[0m\u001b[0;34m\u001b[0m\u001b[0m\n\u001b[0m\u001b[1;32m   1206\u001b[0m         \u001b[0mself\u001b[0m\u001b[0;34m.\u001b[0m\u001b[0m_initialize_uninitialized_variables\u001b[0m\u001b[0;34m(\u001b[0m\u001b[0minitializers\u001b[0m\u001b[0;34m)\u001b[0m\u001b[0;34m\u001b[0m\u001b[0;34m\u001b[0m\u001b[0m\n\u001b[1;32m   1207\u001b[0m \u001b[0;34m\u001b[0m\u001b[0m\n",
            "\u001b[0;32m/usr/local/lib/python3.7/dist-packages/tensorflow/python/eager/def_function.py\u001b[0m in \u001b[0;36m_initialize\u001b[0;34m(self, args, kwds, add_initializers_to)\u001b[0m\n\u001b[1;32m    724\u001b[0m     self._concrete_stateful_fn = (\n\u001b[1;32m    725\u001b[0m         self._stateful_fn._get_concrete_function_internal_garbage_collected(  # pylint: disable=protected-access\n\u001b[0;32m--> 726\u001b[0;31m             *args, **kwds))\n\u001b[0m\u001b[1;32m    727\u001b[0m \u001b[0;34m\u001b[0m\u001b[0m\n\u001b[1;32m    728\u001b[0m     \u001b[0;32mdef\u001b[0m \u001b[0minvalid_creator_scope\u001b[0m\u001b[0;34m(\u001b[0m\u001b[0;34m*\u001b[0m\u001b[0munused_args\u001b[0m\u001b[0;34m,\u001b[0m \u001b[0;34m**\u001b[0m\u001b[0munused_kwds\u001b[0m\u001b[0;34m)\u001b[0m\u001b[0;34m:\u001b[0m\u001b[0;34m\u001b[0m\u001b[0;34m\u001b[0m\u001b[0m\n",
            "\u001b[0;32m/usr/local/lib/python3.7/dist-packages/tensorflow/python/eager/function.py\u001b[0m in \u001b[0;36m_get_concrete_function_internal_garbage_collected\u001b[0;34m(self, *args, **kwargs)\u001b[0m\n\u001b[1;32m   2967\u001b[0m       \u001b[0margs\u001b[0m\u001b[0;34m,\u001b[0m \u001b[0mkwargs\u001b[0m \u001b[0;34m=\u001b[0m \u001b[0;32mNone\u001b[0m\u001b[0;34m,\u001b[0m \u001b[0;32mNone\u001b[0m\u001b[0;34m\u001b[0m\u001b[0;34m\u001b[0m\u001b[0m\n\u001b[1;32m   2968\u001b[0m     \u001b[0;32mwith\u001b[0m \u001b[0mself\u001b[0m\u001b[0;34m.\u001b[0m\u001b[0m_lock\u001b[0m\u001b[0;34m:\u001b[0m\u001b[0;34m\u001b[0m\u001b[0;34m\u001b[0m\u001b[0m\n\u001b[0;32m-> 2969\u001b[0;31m       \u001b[0mgraph_function\u001b[0m\u001b[0;34m,\u001b[0m \u001b[0m_\u001b[0m \u001b[0;34m=\u001b[0m \u001b[0mself\u001b[0m\u001b[0;34m.\u001b[0m\u001b[0m_maybe_define_function\u001b[0m\u001b[0;34m(\u001b[0m\u001b[0margs\u001b[0m\u001b[0;34m,\u001b[0m \u001b[0mkwargs\u001b[0m\u001b[0;34m)\u001b[0m\u001b[0;34m\u001b[0m\u001b[0;34m\u001b[0m\u001b[0m\n\u001b[0m\u001b[1;32m   2970\u001b[0m     \u001b[0;32mreturn\u001b[0m \u001b[0mgraph_function\u001b[0m\u001b[0;34m\u001b[0m\u001b[0;34m\u001b[0m\u001b[0m\n\u001b[1;32m   2971\u001b[0m \u001b[0;34m\u001b[0m\u001b[0m\n",
            "\u001b[0;32m/usr/local/lib/python3.7/dist-packages/tensorflow/python/eager/function.py\u001b[0m in \u001b[0;36m_maybe_define_function\u001b[0;34m(self, args, kwargs)\u001b[0m\n\u001b[1;32m   3359\u001b[0m \u001b[0;34m\u001b[0m\u001b[0m\n\u001b[1;32m   3360\u001b[0m           \u001b[0mself\u001b[0m\u001b[0;34m.\u001b[0m\u001b[0m_function_cache\u001b[0m\u001b[0;34m.\u001b[0m\u001b[0mmissed\u001b[0m\u001b[0;34m.\u001b[0m\u001b[0madd\u001b[0m\u001b[0;34m(\u001b[0m\u001b[0mcall_context_key\u001b[0m\u001b[0;34m)\u001b[0m\u001b[0;34m\u001b[0m\u001b[0;34m\u001b[0m\u001b[0m\n\u001b[0;32m-> 3361\u001b[0;31m           \u001b[0mgraph_function\u001b[0m \u001b[0;34m=\u001b[0m \u001b[0mself\u001b[0m\u001b[0;34m.\u001b[0m\u001b[0m_create_graph_function\u001b[0m\u001b[0;34m(\u001b[0m\u001b[0margs\u001b[0m\u001b[0;34m,\u001b[0m \u001b[0mkwargs\u001b[0m\u001b[0;34m)\u001b[0m\u001b[0;34m\u001b[0m\u001b[0;34m\u001b[0m\u001b[0m\n\u001b[0m\u001b[1;32m   3362\u001b[0m           \u001b[0mself\u001b[0m\u001b[0;34m.\u001b[0m\u001b[0m_function_cache\u001b[0m\u001b[0;34m.\u001b[0m\u001b[0mprimary\u001b[0m\u001b[0;34m[\u001b[0m\u001b[0mcache_key\u001b[0m\u001b[0;34m]\u001b[0m \u001b[0;34m=\u001b[0m \u001b[0mgraph_function\u001b[0m\u001b[0;34m\u001b[0m\u001b[0;34m\u001b[0m\u001b[0m\n\u001b[1;32m   3363\u001b[0m \u001b[0;34m\u001b[0m\u001b[0m\n",
            "\u001b[0;32m/usr/local/lib/python3.7/dist-packages/tensorflow/python/eager/function.py\u001b[0m in \u001b[0;36m_create_graph_function\u001b[0;34m(self, args, kwargs, override_flat_arg_shapes)\u001b[0m\n\u001b[1;32m   3204\u001b[0m             \u001b[0marg_names\u001b[0m\u001b[0;34m=\u001b[0m\u001b[0marg_names\u001b[0m\u001b[0;34m,\u001b[0m\u001b[0;34m\u001b[0m\u001b[0;34m\u001b[0m\u001b[0m\n\u001b[1;32m   3205\u001b[0m             \u001b[0moverride_flat_arg_shapes\u001b[0m\u001b[0;34m=\u001b[0m\u001b[0moverride_flat_arg_shapes\u001b[0m\u001b[0;34m,\u001b[0m\u001b[0;34m\u001b[0m\u001b[0;34m\u001b[0m\u001b[0m\n\u001b[0;32m-> 3206\u001b[0;31m             capture_by_value=self._capture_by_value),\n\u001b[0m\u001b[1;32m   3207\u001b[0m         \u001b[0mself\u001b[0m\u001b[0;34m.\u001b[0m\u001b[0m_function_attributes\u001b[0m\u001b[0;34m,\u001b[0m\u001b[0;34m\u001b[0m\u001b[0;34m\u001b[0m\u001b[0m\n\u001b[1;32m   3208\u001b[0m         \u001b[0mfunction_spec\u001b[0m\u001b[0;34m=\u001b[0m\u001b[0mself\u001b[0m\u001b[0;34m.\u001b[0m\u001b[0mfunction_spec\u001b[0m\u001b[0;34m,\u001b[0m\u001b[0;34m\u001b[0m\u001b[0;34m\u001b[0m\u001b[0m\n",
            "\u001b[0;32m/usr/local/lib/python3.7/dist-packages/tensorflow/python/framework/func_graph.py\u001b[0m in \u001b[0;36mfunc_graph_from_py_func\u001b[0;34m(name, python_func, args, kwargs, signature, func_graph, autograph, autograph_options, add_control_dependencies, arg_names, op_return_value, collections, capture_by_value, override_flat_arg_shapes)\u001b[0m\n\u001b[1;32m    988\u001b[0m         \u001b[0m_\u001b[0m\u001b[0;34m,\u001b[0m \u001b[0moriginal_func\u001b[0m \u001b[0;34m=\u001b[0m \u001b[0mtf_decorator\u001b[0m\u001b[0;34m.\u001b[0m\u001b[0munwrap\u001b[0m\u001b[0;34m(\u001b[0m\u001b[0mpython_func\u001b[0m\u001b[0;34m)\u001b[0m\u001b[0;34m\u001b[0m\u001b[0;34m\u001b[0m\u001b[0m\n\u001b[1;32m    989\u001b[0m \u001b[0;34m\u001b[0m\u001b[0m\n\u001b[0;32m--> 990\u001b[0;31m       \u001b[0mfunc_outputs\u001b[0m \u001b[0;34m=\u001b[0m \u001b[0mpython_func\u001b[0m\u001b[0;34m(\u001b[0m\u001b[0;34m*\u001b[0m\u001b[0mfunc_args\u001b[0m\u001b[0;34m,\u001b[0m \u001b[0;34m**\u001b[0m\u001b[0mfunc_kwargs\u001b[0m\u001b[0;34m)\u001b[0m\u001b[0;34m\u001b[0m\u001b[0;34m\u001b[0m\u001b[0m\n\u001b[0m\u001b[1;32m    991\u001b[0m \u001b[0;34m\u001b[0m\u001b[0m\n\u001b[1;32m    992\u001b[0m       \u001b[0;31m# invariant: `func_outputs` contains only Tensors, CompositeTensors,\u001b[0m\u001b[0;34m\u001b[0m\u001b[0;34m\u001b[0m\u001b[0;34m\u001b[0m\u001b[0m\n",
            "\u001b[0;32m/usr/local/lib/python3.7/dist-packages/tensorflow/python/eager/def_function.py\u001b[0m in \u001b[0;36mwrapped_fn\u001b[0;34m(*args, **kwds)\u001b[0m\n\u001b[1;32m    632\u001b[0m             \u001b[0mxla_context\u001b[0m\u001b[0;34m.\u001b[0m\u001b[0mExit\u001b[0m\u001b[0;34m(\u001b[0m\u001b[0;34m)\u001b[0m\u001b[0;34m\u001b[0m\u001b[0;34m\u001b[0m\u001b[0m\n\u001b[1;32m    633\u001b[0m         \u001b[0;32melse\u001b[0m\u001b[0;34m:\u001b[0m\u001b[0;34m\u001b[0m\u001b[0;34m\u001b[0m\u001b[0m\n\u001b[0;32m--> 634\u001b[0;31m           \u001b[0mout\u001b[0m \u001b[0;34m=\u001b[0m \u001b[0mweak_wrapped_fn\u001b[0m\u001b[0;34m(\u001b[0m\u001b[0;34m)\u001b[0m\u001b[0;34m.\u001b[0m\u001b[0m__wrapped__\u001b[0m\u001b[0;34m(\u001b[0m\u001b[0;34m*\u001b[0m\u001b[0margs\u001b[0m\u001b[0;34m,\u001b[0m \u001b[0;34m**\u001b[0m\u001b[0mkwds\u001b[0m\u001b[0;34m)\u001b[0m\u001b[0;34m\u001b[0m\u001b[0;34m\u001b[0m\u001b[0m\n\u001b[0m\u001b[1;32m    635\u001b[0m         \u001b[0;32mreturn\u001b[0m \u001b[0mout\u001b[0m\u001b[0;34m\u001b[0m\u001b[0;34m\u001b[0m\u001b[0m\n\u001b[1;32m    636\u001b[0m \u001b[0;34m\u001b[0m\u001b[0m\n",
            "\u001b[0;32m/usr/local/lib/python3.7/dist-packages/tensorflow/python/eager/function.py\u001b[0m in \u001b[0;36mbound_method_wrapper\u001b[0;34m(*args, **kwargs)\u001b[0m\n\u001b[1;32m   3885\u001b[0m     \u001b[0;31m# However, the replacer is still responsible for attaching self properly.\u001b[0m\u001b[0;34m\u001b[0m\u001b[0;34m\u001b[0m\u001b[0;34m\u001b[0m\u001b[0m\n\u001b[1;32m   3886\u001b[0m     \u001b[0;31m# TODO(mdan): Is it possible to do it here instead?\u001b[0m\u001b[0;34m\u001b[0m\u001b[0;34m\u001b[0m\u001b[0;34m\u001b[0m\u001b[0m\n\u001b[0;32m-> 3887\u001b[0;31m     \u001b[0;32mreturn\u001b[0m \u001b[0mwrapped_fn\u001b[0m\u001b[0;34m(\u001b[0m\u001b[0;34m*\u001b[0m\u001b[0margs\u001b[0m\u001b[0;34m,\u001b[0m \u001b[0;34m**\u001b[0m\u001b[0mkwargs\u001b[0m\u001b[0;34m)\u001b[0m\u001b[0;34m\u001b[0m\u001b[0;34m\u001b[0m\u001b[0m\n\u001b[0m\u001b[1;32m   3888\u001b[0m   \u001b[0mweak_bound_method_wrapper\u001b[0m \u001b[0;34m=\u001b[0m \u001b[0mweakref\u001b[0m\u001b[0;34m.\u001b[0m\u001b[0mref\u001b[0m\u001b[0;34m(\u001b[0m\u001b[0mbound_method_wrapper\u001b[0m\u001b[0;34m)\u001b[0m\u001b[0;34m\u001b[0m\u001b[0;34m\u001b[0m\u001b[0m\n\u001b[1;32m   3889\u001b[0m \u001b[0;34m\u001b[0m\u001b[0m\n",
            "\u001b[0;32m/usr/local/lib/python3.7/dist-packages/tensorflow/python/framework/func_graph.py\u001b[0m in \u001b[0;36mwrapper\u001b[0;34m(*args, **kwargs)\u001b[0m\n\u001b[1;32m    975\u001b[0m           \u001b[0;32mexcept\u001b[0m \u001b[0mException\u001b[0m \u001b[0;32mas\u001b[0m \u001b[0me\u001b[0m\u001b[0;34m:\u001b[0m  \u001b[0;31m# pylint:disable=broad-except\u001b[0m\u001b[0;34m\u001b[0m\u001b[0;34m\u001b[0m\u001b[0m\n\u001b[1;32m    976\u001b[0m             \u001b[0;32mif\u001b[0m \u001b[0mhasattr\u001b[0m\u001b[0;34m(\u001b[0m\u001b[0me\u001b[0m\u001b[0;34m,\u001b[0m \u001b[0;34m\"ag_error_metadata\"\u001b[0m\u001b[0;34m)\u001b[0m\u001b[0;34m:\u001b[0m\u001b[0;34m\u001b[0m\u001b[0;34m\u001b[0m\u001b[0m\n\u001b[0;32m--> 977\u001b[0;31m               \u001b[0;32mraise\u001b[0m \u001b[0me\u001b[0m\u001b[0;34m.\u001b[0m\u001b[0mag_error_metadata\u001b[0m\u001b[0;34m.\u001b[0m\u001b[0mto_exception\u001b[0m\u001b[0;34m(\u001b[0m\u001b[0me\u001b[0m\u001b[0;34m)\u001b[0m\u001b[0;34m\u001b[0m\u001b[0;34m\u001b[0m\u001b[0m\n\u001b[0m\u001b[1;32m    978\u001b[0m             \u001b[0;32melse\u001b[0m\u001b[0;34m:\u001b[0m\u001b[0;34m\u001b[0m\u001b[0;34m\u001b[0m\u001b[0m\n\u001b[1;32m    979\u001b[0m               \u001b[0;32mraise\u001b[0m\u001b[0;34m\u001b[0m\u001b[0;34m\u001b[0m\u001b[0m\n",
            "\u001b[0;31mTypeError\u001b[0m: in user code:\n\n    /content/yolov5/onnx-tensorflow/onnx_tf/backend_tf_module.py:98 __call__  *\n        output_ops = self.backend._onnx_node_to_tensorflow_op(onnx_node,\n    /content/yolov5/onnx-tensorflow/onnx_tf/backend.py:328 _onnx_node_to_tensorflow_op  *\n        return handler.handle(node, tensor_dict=tensor_dict, strict=strict)\n    /content/yolov5/onnx-tensorflow/onnx_tf/handlers/handler.py:59 handle  *\n        return ver_handle(node, **kwargs)\n    /content/yolov5/onnx-tensorflow/onnx_tf/handlers/backend/max_pool.py:40 version_12  *\n        return cls._common(node, **kwargs)\n    /content/yolov5/onnx-tensorflow/onnx_tf/handlers/backend/max_pool.py:20 _common  *\n        kwargs.get(\"strict\", True))\n    /content/yolov5/onnx-tensorflow/onnx_tf/handlers/backend/pool_mixin.py:40 pool  **\n        strides, dilations, \"SAME_UPPER\")\n    /content/yolov5/onnx-tensorflow/onnx_tf/common/pooling_helper.py:55 calc_pads_same\n        out_size = padding_ops.ceil_op(in_size / strides[i])\n    /usr/local/lib/python3.7/dist-packages/tensorflow/python/framework/tensor_shape.py:544 __truediv__\n        \"please use // instead\".format(type(other).__name__))\n\n    TypeError: unsupported operand type(s) for /: 'Dimension' and 'int', please use // instead\n"
          ]
        }
      ]
    },
    {
      "cell_type": "code",
      "metadata": {
        "colab": {
          "base_uri": "https://localhost:8080/",
          "height": 1000
        },
        "id": "CX1ksguTPwRD",
        "outputId": "3f04ddd7-c43c-4d83-9e10-10d816fb42fc"
      },
      "source": [
        "import tensorflow.compat.v1 as tf\n",
        "\n",
        "saved_model_dir = \"./output/yolov5s.pb\"\n",
        "converter = tf.lite.TFLiteConverter.from_saved_model(saved_model_dir)\n",
        "converter.optimizations = [tf.lite.Optimize.DEFAULT]\n",
        "converter.experimental_new_converter = True\n",
        "converter.target_spec.supported_ops =[tf.lite.OpsSet.TFLITE_BUILTINS, tf.lite.OpsSet.SELECT_TF_OPS]\n",
        "tflite_model = converter.convert()\n",
        "\n",
        "fo = open(\"./output/yolov5s.tflite\", \"wb\")\n",
        "fo.write(tflite_model)\n",
        "fo.close"
      ],
      "execution_count": null,
      "outputs": [
        {
          "output_type": "stream",
          "text": [
            "INFO:tensorflow:Restoring parameters from ./output/yolov5s.pb/variables/variables\n"
          ],
          "name": "stdout"
        },
        {
          "output_type": "stream",
          "text": [
            "INFO:tensorflow:Restoring parameters from ./output/yolov5s.pb/variables/variables\n"
          ],
          "name": "stderr"
        },
        {
          "output_type": "stream",
          "text": [
            "INFO:tensorflow:The given SavedModel MetaGraphDef contains SignatureDefs with the following keys: {'serving_default', '__saved_model_init_op'}\n"
          ],
          "name": "stdout"
        },
        {
          "output_type": "stream",
          "text": [
            "INFO:tensorflow:The given SavedModel MetaGraphDef contains SignatureDefs with the following keys: {'serving_default', '__saved_model_init_op'}\n"
          ],
          "name": "stderr"
        },
        {
          "output_type": "stream",
          "text": [
            "INFO:tensorflow:input tensors info: \n"
          ],
          "name": "stdout"
        },
        {
          "output_type": "stream",
          "text": [
            "INFO:tensorflow:input tensors info: \n"
          ],
          "name": "stderr"
        },
        {
          "output_type": "stream",
          "text": [
            "INFO:tensorflow:Tensor's key in saved_model's tensor_map: images\n"
          ],
          "name": "stdout"
        },
        {
          "output_type": "stream",
          "text": [
            "INFO:tensorflow:Tensor's key in saved_model's tensor_map: images\n"
          ],
          "name": "stderr"
        },
        {
          "output_type": "stream",
          "text": [
            "INFO:tensorflow: tensor name: serving_default_images:0, shape: (1, 3, 640, 640), type: DT_FLOAT\n"
          ],
          "name": "stdout"
        },
        {
          "output_type": "stream",
          "text": [
            "INFO:tensorflow: tensor name: serving_default_images:0, shape: (1, 3, 640, 640), type: DT_FLOAT\n"
          ],
          "name": "stderr"
        },
        {
          "output_type": "stream",
          "text": [
            "INFO:tensorflow:output tensors info: \n"
          ],
          "name": "stdout"
        },
        {
          "output_type": "stream",
          "text": [
            "INFO:tensorflow:output tensors info: \n"
          ],
          "name": "stderr"
        },
        {
          "output_type": "stream",
          "text": [
            "INFO:tensorflow:Tensor's key in saved_model's tensor_map: 417\n"
          ],
          "name": "stdout"
        },
        {
          "output_type": "stream",
          "text": [
            "INFO:tensorflow:Tensor's key in saved_model's tensor_map: 417\n"
          ],
          "name": "stderr"
        },
        {
          "output_type": "stream",
          "text": [
            "INFO:tensorflow: tensor name: StatefulPartitionedCall:0, shape: (1, 3, 40, 40, 85), type: DT_FLOAT\n"
          ],
          "name": "stdout"
        },
        {
          "output_type": "stream",
          "text": [
            "INFO:tensorflow: tensor name: StatefulPartitionedCall:0, shape: (1, 3, 40, 40, 85), type: DT_FLOAT\n"
          ],
          "name": "stderr"
        },
        {
          "output_type": "stream",
          "text": [
            "INFO:tensorflow:Tensor's key in saved_model's tensor_map: output\n"
          ],
          "name": "stdout"
        },
        {
          "output_type": "stream",
          "text": [
            "INFO:tensorflow:Tensor's key in saved_model's tensor_map: output\n"
          ],
          "name": "stderr"
        },
        {
          "output_type": "stream",
          "text": [
            "INFO:tensorflow: tensor name: StatefulPartitionedCall:2, shape: (1, 3, 80, 80, 85), type: DT_FLOAT\n"
          ],
          "name": "stdout"
        },
        {
          "output_type": "stream",
          "text": [
            "INFO:tensorflow: tensor name: StatefulPartitionedCall:2, shape: (1, 3, 80, 80, 85), type: DT_FLOAT\n"
          ],
          "name": "stderr"
        },
        {
          "output_type": "stream",
          "text": [
            "INFO:tensorflow:Tensor's key in saved_model's tensor_map: 437\n"
          ],
          "name": "stdout"
        },
        {
          "output_type": "stream",
          "text": [
            "INFO:tensorflow:Tensor's key in saved_model's tensor_map: 437\n"
          ],
          "name": "stderr"
        },
        {
          "output_type": "stream",
          "text": [
            "INFO:tensorflow: tensor name: StatefulPartitionedCall:1, shape: (1, 3, 20, 20, 85), type: DT_FLOAT\n"
          ],
          "name": "stdout"
        },
        {
          "output_type": "stream",
          "text": [
            "INFO:tensorflow: tensor name: StatefulPartitionedCall:1, shape: (1, 3, 20, 20, 85), type: DT_FLOAT\n"
          ],
          "name": "stderr"
        },
        {
          "output_type": "stream",
          "text": [
            "INFO:tensorflow:Restoring parameters from ./output/yolov5s.pb/variables/variables\n"
          ],
          "name": "stdout"
        },
        {
          "output_type": "stream",
          "text": [
            "INFO:tensorflow:Restoring parameters from ./output/yolov5s.pb/variables/variables\n"
          ],
          "name": "stderr"
        },
        {
          "output_type": "stream",
          "text": [
            "INFO:tensorflow:Restoring parameters from ./output/yolov5s.pb/variables/variables\n"
          ],
          "name": "stdout"
        },
        {
          "output_type": "stream",
          "text": [
            "INFO:tensorflow:Restoring parameters from ./output/yolov5s.pb/variables/variables\n"
          ],
          "name": "stderr"
        },
        {
          "output_type": "stream",
          "text": [
            "INFO:tensorflow:The given SavedModel MetaGraphDef contains SignatureDefs with the following keys: {'serving_default', '__saved_model_init_op'}\n"
          ],
          "name": "stdout"
        },
        {
          "output_type": "stream",
          "text": [
            "INFO:tensorflow:The given SavedModel MetaGraphDef contains SignatureDefs with the following keys: {'serving_default', '__saved_model_init_op'}\n"
          ],
          "name": "stderr"
        },
        {
          "output_type": "stream",
          "text": [
            "INFO:tensorflow:input tensors info: \n"
          ],
          "name": "stdout"
        },
        {
          "output_type": "stream",
          "text": [
            "INFO:tensorflow:input tensors info: \n"
          ],
          "name": "stderr"
        },
        {
          "output_type": "stream",
          "text": [
            "INFO:tensorflow:Tensor's key in saved_model's tensor_map: images\n"
          ],
          "name": "stdout"
        },
        {
          "output_type": "stream",
          "text": [
            "INFO:tensorflow:Tensor's key in saved_model's tensor_map: images\n"
          ],
          "name": "stderr"
        },
        {
          "output_type": "stream",
          "text": [
            "INFO:tensorflow: tensor name: serving_default_images:0, shape: (1, 3, 640, 640), type: DT_FLOAT\n"
          ],
          "name": "stdout"
        },
        {
          "output_type": "stream",
          "text": [
            "INFO:tensorflow: tensor name: serving_default_images:0, shape: (1, 3, 640, 640), type: DT_FLOAT\n"
          ],
          "name": "stderr"
        },
        {
          "output_type": "stream",
          "text": [
            "INFO:tensorflow:output tensors info: \n"
          ],
          "name": "stdout"
        },
        {
          "output_type": "stream",
          "text": [
            "INFO:tensorflow:output tensors info: \n"
          ],
          "name": "stderr"
        },
        {
          "output_type": "stream",
          "text": [
            "INFO:tensorflow:Tensor's key in saved_model's tensor_map: 417\n"
          ],
          "name": "stdout"
        },
        {
          "output_type": "stream",
          "text": [
            "INFO:tensorflow:Tensor's key in saved_model's tensor_map: 417\n"
          ],
          "name": "stderr"
        },
        {
          "output_type": "stream",
          "text": [
            "INFO:tensorflow: tensor name: StatefulPartitionedCall:0, shape: (1, 3, 40, 40, 85), type: DT_FLOAT\n"
          ],
          "name": "stdout"
        },
        {
          "output_type": "stream",
          "text": [
            "INFO:tensorflow: tensor name: StatefulPartitionedCall:0, shape: (1, 3, 40, 40, 85), type: DT_FLOAT\n"
          ],
          "name": "stderr"
        },
        {
          "output_type": "stream",
          "text": [
            "INFO:tensorflow:Tensor's key in saved_model's tensor_map: output\n"
          ],
          "name": "stdout"
        },
        {
          "output_type": "stream",
          "text": [
            "INFO:tensorflow:Tensor's key in saved_model's tensor_map: output\n"
          ],
          "name": "stderr"
        },
        {
          "output_type": "stream",
          "text": [
            "INFO:tensorflow: tensor name: StatefulPartitionedCall:2, shape: (1, 3, 80, 80, 85), type: DT_FLOAT\n"
          ],
          "name": "stdout"
        },
        {
          "output_type": "stream",
          "text": [
            "INFO:tensorflow: tensor name: StatefulPartitionedCall:2, shape: (1, 3, 80, 80, 85), type: DT_FLOAT\n"
          ],
          "name": "stderr"
        },
        {
          "output_type": "stream",
          "text": [
            "INFO:tensorflow:Tensor's key in saved_model's tensor_map: 437\n"
          ],
          "name": "stdout"
        },
        {
          "output_type": "stream",
          "text": [
            "INFO:tensorflow:Tensor's key in saved_model's tensor_map: 437\n"
          ],
          "name": "stderr"
        },
        {
          "output_type": "stream",
          "text": [
            "INFO:tensorflow: tensor name: StatefulPartitionedCall:1, shape: (1, 3, 20, 20, 85), type: DT_FLOAT\n"
          ],
          "name": "stdout"
        },
        {
          "output_type": "stream",
          "text": [
            "INFO:tensorflow: tensor name: StatefulPartitionedCall:1, shape: (1, 3, 20, 20, 85), type: DT_FLOAT\n"
          ],
          "name": "stderr"
        },
        {
          "output_type": "stream",
          "text": [
            "INFO:tensorflow:Restoring parameters from ./output/yolov5s.pb/variables/variables\n"
          ],
          "name": "stdout"
        },
        {
          "output_type": "stream",
          "text": [
            "INFO:tensorflow:Restoring parameters from ./output/yolov5s.pb/variables/variables\n",
            "Use '@tf.function' or '@defun' to decorate the function.Use '@tf.function' or '@defun' to decorate the function.Use '@tf.function' or '@defun' to decorate the function.Use '@tf.function' or '@defun' to decorate the function.Use '@tf.function' or '@defun' to decorate the function.Use '@tf.function' or '@defun' to decorate the function.Use '@tf.function' or '@defun' to decorate the function.Use '@tf.function' or '@defun' to decorate the function.Use '@tf.function' or '@defun' to decorate the function.Use '@tf.function' or '@defun' to decorate the function.Use '@tf.function' or '@defun' to decorate the function.Use '@tf.function' or '@defun' to decorate the function.Use '@tf.function' or '@defun' to decorate the function.Use '@tf.function' or '@defun' to decorate the function.Use '@tf.function' or '@defun' to decorate the function.Use '@tf.function' or '@defun' to decorate the function.Use '@tf.function' or '@defun' to decorate the function.Use '@tf.function' or '@defun' to decorate the function.Use '@tf.function' or '@defun' to decorate the function.Use '@tf.function' or '@defun' to decorate the function.Use '@tf.function' or '@defun' to decorate the function.Use '@tf.function' or '@defun' to decorate the function.Use '@tf.function' or '@defun' to decorate the function.Use '@tf.function' or '@defun' to decorate the function.Use '@tf.function' or '@defun' to decorate the function.Use '@tf.function' or '@defun' to decorate the function.Use '@tf.function' or '@defun' to decorate the function.Use '@tf.function' or '@defun' to decorate the function.Use '@tf.function' or '@defun' to decorate the function.Use '@tf.function' or '@defun' to decorate the function.Use '@tf.function' or '@defun' to decorate the function.Use '@tf.function' or '@defun' to decorate the function.Use '@tf.function' or '@defun' to decorate the function.Use '@tf.function' or '@defun' to decorate the function.Use '@tf.function' or '@defun' to decorate the function.Use '@tf.function' or '@defun' to decorate the function.Use '@tf.function' or '@defun' to decorate the function.Use '@tf.function' or '@defun' to decorate the function.Use '@tf.function' or '@defun' to decorate the function.Use '@tf.function' or '@defun' to decorate the function.Use '@tf.function' or '@defun' to decorate the function.Use '@tf.function' or '@defun' to decorate the function.Use '@tf.function' or '@defun' to decorate the function.Use '@tf.function' or '@defun' to decorate the function.Use '@tf.function' or '@defun' to decorate the function.Use '@tf.function' or '@defun' to decorate the function.Use '@tf.function' or '@defun' to decorate the function.Use '@tf.function' or '@defun' to decorate the function.Use '@tf.function' or '@defun' to decorate the function.Use '@tf.function' or '@defun' to decorate the function.Use '@tf.function' or '@defun' to decorate the function.Use '@tf.function' or '@defun' to decorate the function.Use '@tf.function' or '@defun' to decorate the function.Use '@tf.function' or '@defun' to decorate the function.Use '@tf.function' or '@defun' to decorate the function.Use '@tf.function' or '@defun' to decorate the function.Use '@tf.function' or '@defun' to decorate the function.Use '@tf.function' or '@defun' to decorate the function.Use '@tf.function' or '@defun' to decorate the function.Use '@tf.function' or '@defun' to decorate the function.Use '@tf.function' or '@defun' to decorate the function.Use '@tf.function' or '@defun' to decorate the function.Use '@tf.function' or '@defun' to decorate the function.Use '@tf.function' or '@defun' to decorate the function.Use '@tf.function' or '@defun' to decorate the function.Use '@tf.function' or '@defun' to decorate the function.Use '@tf.function' or '@defun' to decorate the function.Use '@tf.function' or '@defun' to decorate the function.Use '@tf.function' or '@defun' to decorate the function.Use '@tf.function' or '@defun' to decorate the function.Use '@tf.function' or '@defun' to decorate the function.Use '@tf.function' or '@defun' to decorate the function.Use '@tf.function' or '@defun' to decorate the function.Use '@tf.function' or '@defun' to decorate the function.Use '@tf.function' or '@defun' to decorate the function.Use '@tf.function' or '@defun' to decorate the function.Use '@tf.function' or '@defun' to decorate the function.Use '@tf.function' or '@defun' to decorate the function.Use '@tf.function' or '@defun' to decorate the function.Use '@tf.function' or '@defun' to decorate the function.Use '@tf.function' or '@defun' to decorate the function.Use '@tf.function' or '@defun' to decorate the function.Use '@tf.function' or '@defun' to decorate the function.Use '@tf.function' or '@defun' to decorate the function.Use '@tf.function' or '@defun' to decorate the function.Use '@tf.function' or '@defun' to decorate the function.Use '@tf.function' or '@defun' to decorate the function.Use '@tf.function' or '@defun' to decorate the function.Use '@tf.function' or '@defun' to decorate the function.Use '@tf.function' or '@defun' to decorate the function.Use '@tf.function' or '@defun' to decorate the function.Use '@tf.function' or '@defun' to decorate the function.Use '@tf.function' or '@defun' to decorate the function.Use '@tf.function' or '@defun' to decorate the function.Use '@tf.function' or '@defun' to decorate the function.Use '@tf.function' or '@defun' to decorate the function.Use '@tf.function' or '@defun' to decorate the function.Use '@tf.function' or '@defun' to decorate the function.Use '@tf.function' or '@defun' to decorate the function.Use '@tf.function' or '@defun' to decorate the function.Use '@tf.function' or '@defun' to decorate the function.Use '@tf.function' or '@defun' to decorate the function.Use '@tf.function' or '@defun' to decorate the function.Use '@tf.function' or '@defun' to decorate the function.Use '@tf.function' or '@defun' to decorate the function.Use '@tf.function' or '@defun' to decorate the function.Use '@tf.function' or '@defun' to decorate the function.Use '@tf.function' or '@defun' to decorate the function.Use '@tf.function' or '@defun' to decorate the function.Use '@tf.function' or '@defun' to decorate the function.Use '@tf.function' or '@defun' to decorate the function.Use '@tf.function' or '@defun' to decorate the function.Use '@tf.function' or '@defun' to decorate the function.Use '@tf.function' or '@defun' to decorate the function.Use '@tf.function' or '@defun' to decorate the function.Use '@tf.function' or '@defun' to decorate the function.Use '@tf.function' or '@defun' to decorate the function.Use '@tf.function' or '@defun' to decorate the function.Use '@tf.function' or '@defun' to decorate the function.Use '@tf.function' or '@defun' to decorate the function.Use '@tf.function' or '@defun' to decorate the function.Use '@tf.function' or '@defun' to decorate the function.Use '@tf.function' or '@defun' to decorate the function.Use '@tf.function' or '@defun' to decorate the function.Use '@tf.function' or '@defun' to decorate the function.Use '@tf.function' or '@defun' to decorate the function.Use '@tf.function' or '@defun' to decorate the function.Use '@tf.function' or '@defun' to decorate the function.Use '@tf.function' or '@defun' to decorate the function.Use '@tf.function' or '@defun' to decorate the function.Use '@tf.function' or '@defun' to decorate the function.Use '@tf.function' or '@defun' to decorate the function.Use '@tf.function' or '@defun' to decorate the function.Use '@tf.function' or '@defun' to decorate the function.Use '@tf.function' or '@defun' to decorate the function.Use '@tf.function' or '@defun' to decorate the function.Use '@tf.function' or '@defun' to decorate the function.Use '@tf.function' or '@defun' to decorate the function.Use '@tf.function' or '@defun' to decorate the function.Use '@tf.function' or '@defun' to decorate the function.Use '@tf.function' or '@defun' to decorate the function.Use '@tf.function' or '@defun' to decorate the function.Use '@tf.function' or '@defun' to decorate the function.Use '@tf.function' or '@defun' to decorate the function.Use '@tf.function' or '@defun' to decorate the function.Use '@tf.function' or '@defun' to decorate the function.Use '@tf.function' or '@defun' to decorate the function.Use '@tf.function' or '@defun' to decorate the function.Use '@tf.function' or '@defun' to decorate the function.Use '@tf.function' or '@defun' to decorate the function.Use '@tf.function' or '@defun' to decorate the function.Use '@tf.function' or '@defun' to decorate the function.Use '@tf.function' or '@defun' to decorate the function.Use '@tf.function' or '@defun' to decorate the function.Use '@tf.function' or '@defun' to decorate the function.Use '@tf.function' or '@defun' to decorate the function.Use '@tf.function' or '@defun' to decorate the function.Use '@tf.function' or '@defun' to decorate the function.Use '@tf.function' or '@defun' to decorate the function.Use '@tf.function' or '@defun' to decorate the function.Use '@tf.function' or '@defun' to decorate the function.Use '@tf.function' or '@defun' to decorate the function.Use '@tf.function' or '@defun' to decorate the function.Use '@tf.function' or '@defun' to decorate the function.Use '@tf.function' or '@defun' to decorate the function.Use '@tf.function' or '@defun' to decorate the function.Use '@tf.function' or '@defun' to decorate the function.Use '@tf.function' or '@defun' to decorate the function.Use '@tf.function' or '@defun' to decorate the function.Use '@tf.function' or '@defun' to decorate the function.Use '@tf.function' or '@defun' to decorate the function.Use '@tf.function' or '@defun' to decorate the function.Use '@tf.function' or '@defun' to decorate the function.Use '@tf.function' or '@defun' to decorate the function.Use '@tf.function' or '@defun' to decorate the function.Use '@tf.function' or '@defun' to decorate the function.Use '@tf.function' or '@defun' to decorate the function.Use '@tf.function' or '@defun' to decorate the function.Use '@tf.function' or '@defun' to decorate the function.Use '@tf.function' or '@defun' to decorate the function.Use '@tf.function' or '@defun' to decorate the function.Use '@tf.function' or '@defun' to decorate the function.Use '@tf.function' or '@defun' to decorate the function.Use '@tf.function' or '@defun' to decorate the function.Use '@tf.function' or '@defun' to decorate the function.Use '@tf.function' or '@defun' to decorate the function.Use '@tf.function' or '@defun' to decorate the function.Use '@tf.function' or '@defun' to decorate the function.Use '@tf.function' or '@defun' to decorate the function.Use '@tf.function' or '@defun' to decorate the function.Use '@tf.function' or '@defun' to decorate the function.Use '@tf.function' or '@defun' to decorate the function.Use '@tf.function' or '@defun' to decorate the function.Use '@tf.function' or '@defun' to decorate the function.Use '@tf.function' or '@defun' to decorate the function.Use '@tf.function' or '@defun' to decorate the function.Use '@tf.function' or '@defun' to decorate the function.Use '@tf.function' or '@defun' to decorate the function.Use '@tf.function' or '@defun' to decorate the function.Use '@tf.function' or '@defun' to decorate the function.Use '@tf.function' or '@defun' to decorate the function.Use '@tf.function' or '@defun' to decorate the function.Use '@tf.function' or '@defun' to decorate the function.Use '@tf.function' or '@defun' to decorate the function.Use '@tf.function' or '@defun' to decorate the function.Use '@tf.function' or '@defun' to decorate the function.Use '@tf.function' or '@defun' to decorate the function.Use '@tf.function' or '@defun' to decorate the function.Use '@tf.function' or '@defun' to decorate the function.Use '@tf.function' or '@defun' to decorate the function.Use '@tf.function' or '@defun' to decorate the function.Use '@tf.function' or '@defun' to decorate the function.Use '@tf.function' or '@defun' to decorate the function.Use '@tf.function' or '@defun' to decorate the function.Use '@tf.function' or '@defun' to decorate the function.Use '@tf.function' or '@defun' to decorate the function.Use '@tf.function' or '@defun' to decorate the function.Use '@tf.function' or '@defun' to decorate the function.Use '@tf.function' or '@defun' to decorate the function.Use '@tf.function' or '@defun' to decorate the function.Use '@tf.function' or '@defun' to decorate the function.Use '@tf.function' or '@defun' to decorate the function.Use '@tf.function' or '@defun' to decorate the function.Use '@tf.function' or '@defun' to decorate the function.Use '@tf.function' or '@defun' to decorate the function.Use '@tf.function' or '@defun' to decorate the function.Use '@tf.function' or '@defun' to decorate the function.Use '@tf.function' or '@defun' to decorate the function.Use '@tf.function' or '@defun' to decorate the function.Use '@tf.function' or '@defun' to decorate the function.Use '@tf.function' or '@defun' to decorate the function.Use '@tf.function' or '@defun' to decorate the function.Use '@tf.function' or '@defun' to decorate the function.Use '@tf.function' or '@defun' to decorate the function.Use '@tf.function' or '@defun' to decorate the function.Use '@tf.function' or '@defun' to decorate the function.Use '@tf.function' or '@defun' to decorate the function.Use '@tf.function' or '@defun' to decorate the function.Use '@tf.function' or '@defun' to decorate the function.Use '@tf.function' or '@defun' to decorate the function.Use '@tf.function' or '@defun' to decorate the function.Use '@tf.function' or '@defun' to decorate the function.Use '@tf.function' or '@defun' to decorate the function.Use '@tf.function' or '@defun' to decorate the function.Use '@tf.function' or '@defun' to decorate the function.Use '@tf.function' or '@defun' to decorate the function.Use '@tf.function' or '@defun' to decorate the function.Use '@tf.function' or '@defun' to decorate the function.Use '@tf.function' or '@defun' to decorate the function.Use '@tf.function' or '@defun' to decorate the function.Use '@tf.function' or '@defun' to decorate the function.Use '@tf.function' or '@defun' to decorate the function.Use '@tf.function' or '@defun' to decorate the function.Use '@tf.function' or '@defun' to decorate the function.Use '@tf.function' or '@defun' to decorate the function.Use '@tf.function' or '@defun' to decorate the function.Use '@tf.function' or '@defun' to decorate the function.Use '@tf.function' or '@defun' to decorate the function.Use '@tf.function' or '@defun' to decorate the function.Use '@tf.function' or '@defun' to decorate the function.Use '@tf.function' or '@defun' to decorate the function.Use '@tf.function' or '@defun' to decorate the function.Use '@tf.function' or '@defun' to decorate the function.Use '@tf.function' or '@defun' to decorate the function.Use '@tf.function' or '@defun' to decorate the function.Use '@tf.function' or '@defun' to decorate the function.Use '@tf.function' or '@defun' to decorate the function.Use '@tf.function' or '@defun' to decorate the function.Use '@tf.function' or '@defun' to decorate the function.Use '@tf.function' or '@defun' to decorate the function.Use '@tf.function' or '@defun' to decorate the function.Use '@tf.function' or '@defun' to decorate the function.Use '@tf.function' or '@defun' to decorate the function.Use '@tf.function' or '@defun' to decorate the function.Use '@tf.function' or '@defun' to decorate the function.Use '@tf.function' or '@defun' to decorate the function.Use '@tf.function' or '@defun' to decorate the function.Use '@tf.function' or '@defun' to decorate the function.Use '@tf.function' or '@defun' to decorate the function.Use '@tf.function' or '@defun' to decorate the function.Use '@tf.function' or '@defun' to decorate the function.Use '@tf.function' or '@defun' to decorate the function.Use '@tf.function' or '@defun' to decorate the function.Use '@tf.function' or '@defun' to decorate the function.Use '@tf.function' or '@defun' to decorate the function.Use '@tf.function' or '@defun' to decorate the function.Use '@tf.function' or '@defun' to decorate the function.Use '@tf.function' or '@defun' to decorate the function.Use '@tf.function' or '@defun' to decorate the function.Use '@tf.function' or '@defun' to decorate the function.Use '@tf.function' or '@defun' to decorate the function.Use '@tf.function' or '@defun' to decorate the function.Use '@tf.function' or '@defun' to decorate the function.Use '@tf.function' or '@defun' to decorate the function.Use '@tf.function' or '@defun' to decorate the function.Use '@tf.function' or '@defun' to decorate the function.Use '@tf.function' or '@defun' to decorate the function.Use '@tf.function' or '@defun' to decorate the function.Use '@tf.function' or '@defun' to decorate the function.Use '@tf.function' or '@defun' to decorate the function.Use '@tf.function' or '@defun' to decorate the function.Use '@tf.function' or '@defun' to decorate the function.Use '@tf.function' or '@defun' to decorate the function.Use '@tf.function' or '@defun' to decorate the function.Use '@tf.function' or '@defun' to decorate the function.Use '@tf.function' or '@defun' to decorate the function.Use '@tf.function' or '@defun' to decorate the function.Use '@tf.function' or '@defun' to decorate the function.Use '@tf.function' or '@defun' to decorate the function.Use '@tf.function' or '@defun' to decorate the function.Use '@tf.function' or '@defun' to decorate the function.Use '@tf.function' or '@defun' to decorate the function.Use '@tf.function' or '@defun' to decorate the function.Use '@tf.function' or '@defun' to decorate the function.Use '@tf.function' or '@defun' to decorate the function.Use '@tf.function' or '@defun' to decorate the function.Use '@tf.function' or '@defun' to decorate the function.Use '@tf.function' or '@defun' to decorate the function.Use '@tf.function' or '@defun' to decorate the function.Use '@tf.function' or '@defun' to decorate the function.Use '@tf.function' or '@defun' to decorate the function.Use '@tf.function' or '@defun' to decorate the function.Use '@tf.function' or '@defun' to decorate the function.Use '@tf.function' or '@defun' to decorate the function.Use '@tf.function' or '@defun' to decorate the function.Use '@tf.function' or '@defun' to decorate the function.Use '@tf.function' or '@defun' to decorate the function.Use '@tf.function' or '@defun' to decorate the function.Use '@tf.function' or '@defun' to decorate the function.Use '@tf.function' or '@defun' to decorate the function.Use '@tf.function' or '@defun' to decorate the function.Use '@tf.function' or '@defun' to decorate the function.Use '@tf.function' or '@defun' to decorate the function.Use '@tf.function' or '@defun' to decorate the function.Use '@tf.function' or '@defun' to decorate the function.Use '@tf.function' or '@defun' to decorate the function.Use '@tf.function' or '@defun' to decorate the function.Use '@tf.function' or '@defun' to decorate the function.Use '@tf.function' or '@defun' to decorate the function.Use '@tf.function' or '@defun' to decorate the function.Use '@tf.function' or '@defun' to decorate the function.Use '@tf.function' or '@defun' to decorate the function.Use '@tf.function' or '@defun' to decorate the function.Use '@tf.function' or '@defun' to decorate the function.Use '@tf.function' or '@defun' to decorate the function.Use '@tf.function' or '@defun' to decorate the function.Use '@tf.function' or '@defun' to decorate the function.Use '@tf.function' or '@defun' to decorate the function.Use '@tf.function' or '@defun' to decorate the function.Use '@tf.function' or '@defun' to decorate the function.Use '@tf.function' or '@defun' to decorate the function.Use '@tf.function' or '@defun' to decorate the function.Use '@tf.function' or '@defun' to decorate the function.Use '@tf.function' or '@defun' to decorate the function.Use '@tf.function' or '@defun' to decorate the function.Use '@tf.function' or '@defun' to decorate the function.Use '@tf.function' or '@defun' to decorate the function.Use '@tf.function' or '@defun' to decorate the function.Use '@tf.function' or '@defun' to decorate the function.Use '@tf.function' or '@defun' to decorate the function.Use '@tf.function' or '@defun' to decorate the function.Use '@tf.function' or '@defun' to decorate the function.Use '@tf.function' or '@defun' to decorate the function.Use '@tf.function' or '@defun' to decorate the function.Use '@tf.function' or '@defun' to decorate the function.Use '@tf.function' or '@defun' to decorate the function.Use '@tf.function' or '@defun' to decorate the function.Use '@tf.function' or '@defun' to decorate the function.Use '@tf.function' or '@defun' to decorate the function.Use '@tf.function' or '@defun' to decorate the function.Use '@tf.function' or '@defun' to decorate the function.Use '@tf.function' or '@defun' to decorate the function.Use '@tf.function' or '@defun' to decorate the function.Use '@tf.function' or '@defun' to decorate the function.Use '@tf.function' or '@defun' to decorate the function.Use '@tf.function' or '@defun' to decorate the function.Use '@tf.function' or '@defun' to decorate the function.Use '@tf.function' or '@defun' to decorate the function.Use '@tf.function' or '@defun' to decorate the function.Use '@tf.function' or '@defun' to decorate the function.Use '@tf.function' or '@defun' to decorate the function.Use '@tf.function' or '@defun' to decorate the function.Use '@tf.function' or '@defun' to decorate the function.Use '@tf.function' or '@defun' to decorate the function.Use '@tf.function' or '@defun' to decorate the function.Use '@tf.function' or '@defun' to decorate the function.Use '@tf.function' or '@defun' to decorate the function.Use '@tf.function' or '@defun' to decorate the function.Use '@tf.function' or '@defun' to decorate the function.Use '@tf.function' or '@defun' to decorate the function.Use '@tf.function' or '@defun' to decorate the function.Use '@tf.function' or '@defun' to decorate the function.Use '@tf.function' or '@defun' to decorate the function.Use '@tf.function' or '@defun' to decorate the function.Use '@tf.function' or '@defun' to decorate the function.Use '@tf.function' or '@defun' to decorate the function.Use '@tf.function' or '@defun' to decorate the function.Use '@tf.function' or '@defun' to decorate the function.Use '@tf.function' or '@defun' to decorate the function.Use '@tf.function' or '@defun' to decorate the function.Use '@tf.function' or '@defun' to decorate the function.Use '@tf.function' or '@defun' to decorate the function.Use '@tf.function' or '@defun' to decorate the function.Use '@tf.function' or '@defun' to decorate the function.Use '@tf.function' or '@defun' to decorate the function.Use '@tf.function' or '@defun' to decorate the function.Use '@tf.function' or '@defun' to decorate the function.Use '@tf.function' or '@defun' to decorate the function.Use '@tf.function' or '@defun' to decorate the function.Use '@tf.function' or '@defun' to decorate the function.Use '@tf.function' or '@defun' to decorate the function.Use '@tf.function' or '@defun' to decorate the function.Use '@tf.function' or '@defun' to decorate the function.Use '@tf.function' or '@defun' to decorate the function.Use '@tf.function' or '@defun' to decorate the function.Use '@tf.function' or '@defun' to decorate the function.Use '@tf.function' or '@defun' to decorate the function.Use '@tf.function' or '@defun' to decorate the function.Use '@tf.function' or '@defun' to decorate the function.Use '@tf.function' or '@defun' to decorate the function.Use '@tf.function' or '@defun' to decorate the function.Use '@tf.function' or '@defun' to decorate the function.Use '@tf.function' or '@defun' to decorate the function.Use '@tf.function' or '@defun' to decorate the function.Use '@tf.function' or '@defun' to decorate the function.Use '@tf.function' or '@defun' to decorate the function.Use '@tf.function' or '@defun' to decorate the function.Use '@tf.function' or '@defun' to decorate the function.Use '@tf.function' or '@defun' to decorate the function.Use '@tf.function' or '@defun' to decorate the function.Use '@tf.function' or '@defun' to decorate the function.Use '@tf.function' or '@defun' to decorate the function.Use '@tf.function' or '@defun' to decorate the function.Use '@tf.function' or '@defun' to decorate the function.Use '@tf.function' or '@defun' to decorate the function.Use '@tf.function' or '@defun' to decorate the function.Use '@tf.function' or '@defun' to decorate the function.Use '@tf.function' or '@defun' to decorate the function.Use '@tf.function' or '@defun' to decorate the function.Use '@tf.function' or '@defun' to decorate the function.Use '@tf.function' or '@defun' to decorate the function.Use '@tf.function' or '@defun' to decorate the function.Use '@tf.function' or '@defun' to decorate the function.Use '@tf.function' or '@defun' to decorate the function.Use '@tf.function' or '@defun' to decorate the function.Use '@tf.function' or '@defun' to decorate the function.Use '@tf.function' or '@defun' to decorate the function.Use '@tf.function' or '@defun' to decorate the function.Use '@tf.function' or '@defun' to decorate the function.Use '@tf.function' or '@defun' to decorate the function.Use '@tf.function' or '@defun' to decorate the function.Use '@tf.function' or '@defun' to decorate the function.Use '@tf.function' or '@defun' to decorate the function.Use '@tf.function' or '@defun' to decorate the function.Use '@tf.function' or '@defun' to decorate the function.Use '@tf.function' or '@defun' to decorate the function.Use '@tf.function' or '@defun' to decorate the function.Use '@tf.function' or '@defun' to decorate the function.Use '@tf.function' or '@defun' to decorate the function.Use '@tf.function' or '@defun' to decorate the function.Use '@tf.function' or '@defun' to decorate the function.Use '@tf.function' or '@defun' to decorate the function.Use '@tf.function' or '@defun' to decorate the function.Use '@tf.function' or '@defun' to decorate the function.Use '@tf.function' or '@defun' to decorate the function.Use '@tf.function' or '@defun' to decorate the function.Use '@tf.function' or '@defun' to decorate the function.Use '@tf.function' or '@defun' to decorate the function.Use '@tf.function' or '@defun' to decorate the function.Use '@tf.function' or '@defun' to decorate the function.Use '@tf.function' or '@defun' to decorate the function.Use '@tf.function' or '@defun' to decorate the function.Use '@tf.function' or '@defun' to decorate the function.Use '@tf.function' or '@defun' to decorate the function.Use '@tf.function' or '@defun' to decorate the function.Use '@tf.function' or '@defun' to decorate the function.Use '@tf.function' or '@defun' to decorate the function.Use '@tf.function' or '@defun' to decorate the function.Use '@tf.function' or '@defun' to decorate the function.Use '@tf.function' or '@defun' to decorate the function.Use '@tf.function' or '@defun' to decorate the function.Use '@tf.function' or '@defun' to decorate the function.Use '@tf.function' or '@defun' to decorate the function.Use '@tf.function' or '@defun' to decorate the function.Use '@tf.function' or '@defun' to decorate the function.Use '@tf.function' or '@defun' to decorate the function.Use '@tf.function' or '@defun' to decorate the function.Use '@tf.function' or '@defun' to decorate the function.Use '@tf.function' or '@defun' to decorate the function.Use '@tf.function' or '@defun' to decorate the function.Use '@tf.function' or '@defun' to decorate the function.Use '@tf.function' or '@defun' to decorate the function.Use '@tf.function' or '@defun' to decorate the function.Use '@tf.function' or '@defun' to decorate the function.Use '@tf.function' or '@defun' to decorate the function.Use '@tf.function' or '@defun' to decorate the function.Use '@tf.function' or '@defun' to decorate the function.Use '@tf.function' or '@defun' to decorate the function.Use '@tf.function' or '@defun' to decorate the function.Use '@tf.function' or '@defun' to decorate the function.Use '@tf.function' or '@defun' to decorate the function.Use '@tf.function' or '@defun' to decorate the function.Use '@tf.function' or '@defun' to decorate the function.Use '@tf.function' or '@defun' to decorate the function.Use '@tf.function' or '@defun' to decorate the function.Use '@tf.function' or '@defun' to decorate the function.Use '@tf.function' or '@defun' to decorate the function.Use '@tf.function' or '@defun' to decorate the function.Use '@tf.function' or '@defun' to decorate the function.Use '@tf.function' or '@defun' to decorate the function.Use '@tf.function' or '@defun' to decorate the function.Use '@tf.function' or '@defun' to decorate the function.Use '@tf.function' or '@defun' to decorate the function.Use '@tf.function' or '@defun' to decorate the function.Use '@tf.function' or '@defun' to decorate the function.Use '@tf.function' or '@defun' to decorate the function.Use '@tf.function' or '@defun' to decorate the function.Use '@tf.function' or '@defun' to decorate the function.Use '@tf.function' or '@defun' to decorate the function.Use '@tf.function' or '@defun' to decorate the function.Use '@tf.function' or '@defun' to decorate the function.Use '@tf.function' or '@defun' to decorate the function.Use '@tf.function' or '@defun' to decorate the function.Use '@tf.function' or '@defun' to decorate the function.Use '@tf.function' or '@defun' to decorate the function.Use '@tf.function' or '@defun' to decorate the function.Use '@tf.function' or '@defun' to decorate the function.Use '@tf.function' or '@defun' to decorate the function.Use '@tf.function' or '@defun' to decorate the function.Use '@tf.function' or '@defun' to decorate the function.Use '@tf.function' or '@defun' to decorate the function.Use '@tf.function' or '@defun' to decorate the function.Use '@tf.function' or '@defun' to decorate the function.Use '@tf.function' or '@defun' to decorate the function.Use '@tf.function' or '@defun' to decorate the function.Use '@tf.function' or '@defun' to decorate the function.Use '@tf.function' or '@defun' to decorate the function.Use '@tf.function' or '@defun' to decorate the function.Use '@tf.function' or '@defun' to decorate the function.Use '@tf.function' or '@defun' to decorate the function.Use '@tf.function' or '@defun' to decorate the function.Use '@tf.function' or '@defun' to decorate the function.Use '@tf.function' or '@defun' to decorate the function.Use '@tf.function' or '@defun' to decorate the function.Use '@tf.function' or '@defun' to decorate the function.Use '@tf.function' or '@defun' to decorate the function.Use '@tf.function' or '@defun' to decorate the function.Use '@tf.function' or '@defun' to decorate the function.Use '@tf.function' or '@defun' to decorate the function.Use '@tf.function' or '@defun' to decorate the function.Use '@tf.function' or '@defun' to decorate the function.Use '@tf.function' or '@defun' to decorate the function.Use '@tf.function' or '@defun' to decorate the function.Use '@tf.function' or '@defun' to decorate the function.Use '@tf.function' or '@defun' to decorate the function.Use '@tf.function' or '@defun' to decorate the function.Use '@tf.function' or '@defun' to decorate the function.Use '@tf.function' or '@defun' to decorate the function.Use '@tf.function' or '@defun' to decorate the function.Use '@tf.function' or '@defun' to decorate the function.Use '@tf.function' or '@defun' to decorate the function.Use '@tf.function' or '@defun' to decorate the function.Use '@tf.function' or '@defun' to decorate the function.Use '@tf.function' or '@defun' to decorate the function.Use '@tf.function' or '@defun' to decorate the function.Use '@tf.function' or '@defun' to decorate the function.Use '@tf.function' or '@defun' to decorate the function.Use '@tf.function' or '@defun' to decorate the function.Use '@tf.function' or '@defun' to decorate the function.Use '@tf.function' or '@defun' to decorate the function.Use '@tf.function' or '@defun' to decorate the function.Use '@tf.function' or '@defun' to decorate the function.Use '@tf.function' or '@defun' to decorate the function.Use '@tf.function' or '@defun' to decorate the function.Use '@tf.function' or '@defun' to decorate the function.Use '@tf.function' or '@defun' to decorate the function.Use '@tf.function' or '@defun' to decorate the function.Use '@tf.function' or '@defun' to decorate the function.Use '@tf.function' or '@defun' to decorate the function.Use '@tf.function' or '@defun' to decorate the function.Use '@tf.function' or '@defun' to decorate the function.Use '@tf.function' or '@defun' to decorate the function.Use '@tf.function' or '@defun' to decorate the function.Use '@tf.function' or '@defun' to decorate the function.Use '@tf.function' or '@defun' to decorate the function.Use '@tf.function' or '@defun' to decorate the function.Use '@tf.function' or '@defun' to decorate the function.Use '@tf.function' or '@defun' to decorate the function.Use '@tf.function' or '@defun' to decorate the function.Use '@tf.function' or '@defun' to decorate the function.Use '@tf.function' or '@defun' to decorate the function.Use '@tf.function' or '@defun' to decorate the function.Use '@tf.function' or '@defun' to decorate the function.Use '@tf.function' or '@defun' to decorate the function.Use '@tf.function' or '@defun' to decorate the function.Use '@tf.function' or '@defun' to decorate the function.Use '@tf.function' or '@defun' to decorate the function.Use '@tf.function' or '@defun' to decorate the function.Use '@tf.function' or '@defun' to decorate the function.Use '@tf.function' or '@defun' to decorate the function.Use '@tf.function' or '@defun' to decorate the function.Use '@tf.function' or '@defun' to decorate the function.Use '@tf.function' or '@defun' to decorate the function.Use '@tf.function' or '@defun' to decorate the function.Use '@tf.function' or '@defun' to decorate the function.Use '@tf.function' or '@defun' to decorate the function.Use '@tf.function' or '@defun' to decorate the function.Use '@tf.function' or '@defun' to decorate the function.Use '@tf.function' or '@defun' to decorate the function.Use '@tf.function' or '@defun' to decorate the function.Use '@tf.function' or '@defun' to decorate the function.Use '@tf.function' or '@defun' to decorate the function.Use '@tf.function' or '@defun' to decorate the function.Use '@tf.function' or '@defun' to decorate the function.Use '@tf.function' or '@defun' to decorate the function.Use '@tf.function' or '@defun' to decorate the function.Use '@tf.function' or '@defun' to decorate the function.Use '@tf.function' or '@defun' to decorate the function.Use '@tf.function' or '@defun' to decorate the function.Use '@tf.function' or '@defun' to decorate the function.Use '@tf.function' or '@defun' to decorate the function.Use '@tf.function' or '@defun' to decorate the function.Use '@tf.function' or '@defun' to decorate the function.Use '@tf.function' or '@defun' to decorate the function.Use '@tf.function' or '@defun' to decorate the function.Use '@tf.function' or '@defun' to decorate the function.Use '@tf.function' or '@defun' to decorate the function.Use '@tf.function' or '@defun' to decorate the function.Use '@tf.function' or '@defun' to decorate the function.Use '@tf.function' or '@defun' to decorate the function.Use '@tf.function' or '@defun' to decorate the function.Use '@tf.function' or '@defun' to decorate the function.Use '@tf.function' or '@defun' to decorate the function.Use '@tf.function' or '@defun' to decorate the function.Use '@tf.function' or '@defun' to decorate the function.Use '@tf.function' or '@defun' to decorate the function.Use '@tf.function' or '@defun' to decorate the function.Use '@tf.function' or '@defun' to decorate the function.Use '@tf.function' or '@defun' to decorate the function.Use '@tf.function' or '@defun' to decorate the function.Use '@tf.function' or '@defun' to decorate the function.Use '@tf.function' or '@defun' to decorate the function.Use '@tf.function' or '@defun' to decorate the function.Use '@tf.function' or '@defun' to decorate the function.Use '@tf.function' or '@defun' to decorate the function.Use '@tf.function' or '@defun' to decorate the function.Use '@tf.function' or '@defun' to decorate the function.Use '@tf.function' or '@defun' to decorate the function.Use '@tf.function' or '@defun' to decorate the function.Use '@tf.function' or '@defun' to decorate the function.Use '@tf.function' or '@defun' to decorate the function.Use '@tf.function' or '@defun' to decorate the function.Use '@tf.function' or '@defun' to decorate the function.Use '@tf.function' or '@defun' to decorate the function.Use '@tf.function' or '@defun' to decorate the function.Use '@tf.function' or '@defun' to decorate the function.Use '@tf.function' or '@defun' to decorate the function.Use '@tf.function' or '@defun' to decorate the function.Use '@tf.function' or '@defun' to decorate the function.Use '@tf.function' or '@defun' to decorate the function.Use '@tf.function' or '@defun' to decorate the function.Use '@tf.function' or '@defun' to decorate the function.Use '@tf.function' or '@defun' to decorate the function.Use '@tf.function' or '@defun' to decorate the function.Use '@tf.function' or '@defun' to decorate the function.Use '@tf.function' or '@defun' to decorate the function.Use '@tf.function' or '@defun' to decorate the function.Use '@tf.function' or '@defun' to decorate the function.Use '@tf.function' or '@defun' to decorate the function.Use '@tf.function' or '@defun' to decorate the function.Use '@tf.function' or '@defun' to decorate the function.Use '@tf.function' or '@defun' to decorate the function.Use '@tf.function' or '@defun' to decorate the function.Use '@tf.function' or '@defun' to decorate the function.Use '@tf.function' or '@defun' to decorate the function.Use '@tf.function' or '@defun' to decorate the function.Use '@tf.function' or '@defun' to decorate the function.Use '@tf.function' or '@defun' to decorate the function.Use '@tf.function' or '@defun' to decorate the function.Use '@tf.function' or '@defun' to decorate the function.Use '@tf.function' or '@defun' to decorate the function.Use '@tf.function' or '@defun' to decorate the function.Use '@tf.function' or '@defun' to decorate the function.Use '@tf.function' or '@defun' to decorate the function.Use '@tf.function' or '@defun' to decorate the function.Use '@tf.function' or '@defun' to decorate the function.Use '@tf.function' or '@defun' to decorate the function.Use '@tf.function' or '@defun' to decorate the function.Use '@tf.function' or '@defun' to decorate the function.Use '@tf.function' or '@defun' to decorate the function.Use '@tf.function' or '@defun' to decorate the function.Use '@tf.function' or '@defun' to decorate the function.Use '@tf.function' or '@defun' to decorate the function.Use '@tf.function' or '@defun' to decorate the function.Use '@tf.function' or '@defun' to decorate the function.Use '@tf.function' or '@defun' to decorate the function.Use '@tf.function' or '@defun' to decorate the function.Use '@tf.function' or '@defun' to decorate the function.Use '@tf.function' or '@defun' to decorate the function.Use '@tf.function' or '@defun' to decorate the function.Use '@tf.function' or '@defun' to decorate the function.Use '@tf.function' or '@defun' to decorate the function.Use '@tf.function' or '@defun' to decorate the function.Use '@tf.function' or '@defun' to decorate the function.Use '@tf.function' or '@defun' to decorate the function.Use '@tf.function' or '@defun' to decorate the function.Use '@tf.function' or '@defun' to decorate the function.Use '@tf.function' or '@defun' to decorate the function.Use '@tf.function' or '@defun' to decorate the function.Use '@tf.function' or '@defun' to decorate the function.Use '@tf.function' or '@defun' to decorate the function.Use '@tf.function' or '@defun' to decorate the function.Use '@tf.function' or '@defun' to decorate the function.Use '@tf.function' or '@defun' to decorate the function.Use '@tf.function' or '@defun' to decorate the function.Use '@tf.function' or '@defun' to decorate the function.Use '@tf.function' or '@defun' to decorate the function.Use '@tf.function' or '@defun' to decorate the function.Use '@tf.function' or '@defun' to decorate the function.Use '@tf.function' or '@defun' to decorate the function.Use '@tf.function' or '@defun' to decorate the function.Use '@tf.function' or '@defun' to decorate the function.Use '@tf.function' or '@defun' to decorate the function.Use '@tf.function' or '@defun' to decorate the function.Use '@tf.function' or '@defun' to decorate the function.Use '@tf.function' or '@defun' to decorate the function.Use '@tf.function' or '@defun' to decorate the function.Use '@tf.function' or '@defun' to decorate the function.Use '@tf.function' or '@defun' to decorate the function.Use '@tf.function' or '@defun' to decorate the function.Use '@tf.function' or '@defun' to decorate the function.Use '@tf.function' or '@defun' to decorate the function.Use '@tf.function' or '@defun' to decorate the function.Use '@tf.function' or '@defun' to decorate the function.Use '@tf.function' or '@defun' to decorate the function.Use '@tf.function' or '@defun' to decorate the function.Use '@tf.function' or '@defun' to decorate the function.Use '@tf.function' or '@defun' to decorate the function.Use '@tf.function' or '@defun' to decorate the function.Use '@tf.function' or '@defun' to decorate the function.Use '@tf.function' or '@defun' to decorate the function.Use '@tf.function' or '@defun' to decorate the function.Use '@tf.function' or '@defun' to decorate the function.Use '@tf.function' or '@defun' to decorate the function.Use '@tf.function' or '@defun' to decorate the function.Use '@tf.function' or '@defun' to decorate the function.Use '@tf.function' or '@defun' to decorate the function.Use '@tf.function' or '@defun' to decorate the function.Use '@tf.function' or '@defun' to decorate the function.Use '@tf.function' or '@defun' to decorate the function.Use '@tf.function' or '@defun' to decorate the function.Use '@tf.function' or '@defun' to decorate the function.Use '@tf.function' or '@defun' to decorate the function.Use '@tf.function' or '@defun' to decorate the function.Use '@tf.function' or '@defun' to decorate the function.Use '@tf.function' or '@defun' to decorate the function.Use '@tf.function' or '@defun' to decorate the function.Use '@tf.function' or '@defun' to decorate the function.Use '@tf.function' or '@defun' to decorate the function.Use '@tf.function' or '@defun' to decorate the function.Use '@tf.function' or '@defun' to decorate the function.Use '@tf.function' or '@defun' to decorate the function.Use '@tf.function' or '@defun' to decorate the function.Use '@tf.function' or '@defun' to decorate the function.Use '@tf.function' or '@defun' to decorate the function.Use '@tf.function' or '@defun' to decorate the function.Use '@tf.function' or '@defun' to decorate the function.Use '@tf.function' or '@defun' to decorate the function.Use '@tf.function' or '@defun' to decorate the function.Use '@tf.function' or '@defun' to decorate the function.Use '@tf.function' or '@defun' to decorate the function.Use '@tf.function' or '@defun' to decorate the function.Use '@tf.function' or '@defun' to decorate the function.Use '@tf.function' or '@defun' to decorate the function.Use '@tf.function' or '@defun' to decorate the function.Use '@tf.function' or '@defun' to decorate the function.Use '@tf.function' or '@defun' to decorate the function.Use '@tf.function' or '@defun' to decorate the function.Use '@tf.function' or '@defun' to decorate the function.Use '@tf.function' or '@defun' to decorate the function.Use '@tf.function' or '@defun' to decorate the function.Use '@tf.function' or '@defun' to decorate the function.Use '@tf.function' or '@defun' to decorate the function.Use '@tf.function' or '@defun' to decorate the function.Use '@tf.function' or '@defun' to decorate the function.Use '@tf.function' or '@defun' to decorate the function.Use '@tf.function' or '@defun' to decorate the function.Use '@tf.function' or '@defun' to decorate the function.Use '@tf.function' or '@defun' to decorate the function.Use '@tf.function' or '@defun' to decorate the function.Use '@tf.function' or '@defun' to decorate the function.Use '@tf.function' or '@defun' to decorate the function.Use '@tf.function' or '@defun' to decorate the function.Use '@tf.function' or '@defun' to decorate the function.Use '@tf.function' or '@defun' to decorate the function.Use '@tf.function' or '@defun' to decorate the function.Use '@tf.function' or '@defun' to decorate the function.Use '@tf.function' or '@defun' to decorate the function.Use '@tf.function' or '@defun' to decorate the function.Use '@tf.function' or '@defun' to decorate the function.Use '@tf.function' or '@defun' to decorate the function.Use '@tf.function' or '@defun' to decorate the function.Use '@tf.function' or '@defun' to decorate the function.Use '@tf.function' or '@defun' to decorate the function.Use '@tf.function' or '@defun' to decorate the function.Use '@tf.function' or '@defun' to decorate the function.Use '@tf.function' or '@defun' to decorate the function.Use '@tf.function' or '@defun' to decorate the function.Use '@tf.function' or '@defun' to decorate the function.Use '@tf.function' or '@defun' to decorate the function.Use '@tf.function' or '@defun' to decorate the function.Use '@tf.function' or '@defun' to decorate the function.Use '@tf.function' or '@defun' to decorate the function.Use '@tf.function' or '@defun' to decorate the function.Use '@tf.function' or '@defun' to decorate the function.Use '@tf.function' or '@defun' to decorate the function.Use '@tf.function' or '@defun' to decorate the function.Use '@tf.function' or '@defun' to decorate the function.Use '@tf.function' or '@defun' to decorate the function.Use '@tf.function' or '@defun' to decorate the function.Use '@tf.function' or '@defun' to decorate the function.Use '@tf.function' or '@defun' to decorate the function.Use '@tf.function' or '@defun' to decorate the function.Use '@tf.function' or '@defun' to decorate the function.Use '@tf.function' or '@defun' to decorate the function.Use '@tf.function' or '@defun' to decorate the function.Use '@tf.function' or '@defun' to decorate the function.Use '@tf.function' or '@defun' to decorate the function.Use '@tf.function' or '@defun' to decorate the function.Use '@tf.function' or '@defun' to decorate the function.Use '@tf.function' or '@defun' to decorate the function.Use '@tf.function' or '@defun' to decorate the function.Use '@tf.function' or '@defun' to decorate the function.Use '@tf.function' or '@defun' to decorate the function.Use '@tf.function' or '@defun' to decorate the function.Use '@tf.function' or '@defun' to decorate the function.Use '@tf.function' or '@defun' to decorate the function.Use '@tf.function' or '@defun' to decorate the function.Use '@tf.function' or '@defun' to decorate the function.Use '@tf.function' or '@defun' to decorate the function.Use '@tf.function' or '@defun' to decorate the function.Use '@tf.function' or '@defun' to decorate the function.Use '@tf.function' or '@defun' to decorate the function.Use '@tf.function' or '@defun' to decorate the function.Use '@tf.function' or '@defun' to decorate the function.Use '@tf.function' or '@defun' to decorate the function.Use '@tf.function' or '@defun' to decorate the function.Use '@tf.function' or '@defun' to decorate the function.Use '@tf.function' or '@defun' to decorate the function.Use '@tf.function' or '@defun' to decorate the function.Use '@tf.function' or '@defun' to decorate the function.Use '@tf.function' or '@defun' to decorate the function.Use '@tf.function' or '@defun' to decorate the function.Use '@tf.function' or '@defun' to decorate the function.Use '@tf.function' or '@defun' to decorate the function.Use '@tf.function' or '@defun' to decorate the function.Use '@tf.function' or '@defun' to decorate the function.Use '@tf.function' or '@defun' to decorate the function.Use '@tf.function' or '@defun' to decorate the function.Use '@tf.function' or '@defun' to decorate the function.Use '@tf.function' or '@defun' to decorate the function.Use '@tf.function' or '@defun' to decorate the function.Use '@tf.function' or '@defun' to decorate the function.Use '@tf.function' or '@defun' to decorate the function.Use '@tf.function' or '@defun' to decorate the function.Use '@tf.function' or '@defun' to decorate the function.Use '@tf.function' or '@defun' to decorate the function.Use '@tf.function' or '@defun' to decorate the function.Use '@tf.function' or '@defun' to decorate the function.Use '@tf.function' or '@defun' to decorate the function.Use '@tf.function' or '@defun' to decorate the function.Use '@tf.function' or '@defun' to decorate the function.Use '@tf.function' or '@defun' to decorate the function.Use '@tf.function' or '@defun' to decorate the function.Use '@tf.function' or '@defun' to decorate the function.Use '@tf.function' or '@defun' to decorate the function.Use '@tf.function' or '@defun' to decorate the function.Use '@tf.function' or '@defun' to decorate the function.Use '@tf.function' or '@defun' to decorate the function.Use '@tf.function' or '@defun' to decorate the function.Use '@tf.function' or '@defun' to decorate the function.Use '@tf.function' or '@defun' to decorate the function.Use '@tf.function' or '@defun' to decorate the function.Use '@tf.function' or '@defun' to decorate the function.Use '@tf.function' or '@defun' to decorate the function.Use '@tf.function' or '@defun' to decorate the function.Use '@tf.function' or '@defun' to decorate the function.Use '@tf.function' or '@defun' to decorate the function.Use '@tf.function' or '@defun' to decorate the function.Use '@tf.function' or '@defun' to decorate the function.Use '@tf.function' or '@defun' to decorate the function.Use '@tf.function' or '@defun' to decorate the function.Use '@tf.function' or '@defun' to decorate the function.Use '@tf.function' or '@defun' to decorate the function.Use '@tf.function' or '@defun' to decorate the function.Use '@tf.function' or '@defun' to decorate the function.Use '@tf.function' or '@defun' to decorate the function.Use '@tf.function' or '@defun' to decorate the function.Use '@tf.function' or '@defun' to decorate the function.Use '@tf.function' or '@defun' to decorate the function.Use '@tf.function' or '@defun' to decorate the function.Use '@tf.function' or '@defun' to decorate the function.Use '@tf.function' or '@defun' to decorate the function.Use '@tf.function' or '@defun' to decorate the function.Use '@tf.function' or '@defun' to decorate the function.Use '@tf.function' or '@defun' to decorate the function.Use '@tf.function' or '@defun' to decorate the function.Use '@tf.function' or '@defun' to decorate the function.Use '@tf.function' or '@defun' to decorate the function.Use '@tf.function' or '@defun' to decorate the function.Use '@tf.function' or '@defun' to decorate the function.Use '@tf.function' or '@defun' to decorate the function.Use '@tf.function' or '@defun' to decorate the function.Use '@tf.function' or '@defun' to decorate the function.Use '@tf.function' or '@defun' to decorate the function.Use '@tf.function' or '@defun' to decorate the function.Use '@tf.function' or '@defun' to decorate the function.Use '@tf.function' or '@defun' to decorate the function.Use '@tf.function' or '@defun' to decorate the function.Use '@tf.function' or '@defun' to decorate the function.Use '@tf.function' or '@defun' to decorate the function.Use '@tf.function' or '@defun' to decorate the function.Use '@tf.function' or '@defun' to decorate the function.Use '@tf.function' or '@defun' to decorate the function.Use '@tf.function' or '@defun' to decorate the function.Use '@tf.function' or '@defun' to decorate the function.Use '@tf.function' or '@defun' to decorate the function.Use '@tf.function' or '@defun' to decorate the function.Use '@tf.function' or '@defun' to decorate the function.Use '@tf.function' or '@defun' to decorate the function.Use '@tf.function' or '@defun' to decorate the function.Use '@tf.function' or '@defun' to decorate the function.Use '@tf.function' or '@defun' to decorate the function.Use '@tf.function' or '@defun' to decorate the function.Use '@tf.function' or '@defun' to decorate the function.Use '@tf.function' or '@defun' to decorate the function.Use '@tf.function' or '@defun' to decorate the function.Use '@tf.function' or '@defun' to decorate the function.Use '@tf.function' or '@defun' to decorate the function.Use '@tf.function' or '@defun' to decorate the function.Use '@tf.function' or '@defun' to decorate the function.Use '@tf.function' or '@defun' to decorate the function.Use '@tf.function' or '@defun' to decorate the function.Use '@tf.function' or '@defun' to decorate the function.Use '@tf.function' or '@defun' to decorate the function.Use '@tf.function' or '@defun' to decorate the function.Use '@tf.function' or '@defun' to decorate the function.Use '@tf.function' or '@defun' to decorate the function.Use '@tf.function' or '@defun' to decorate the function.Use '@tf.function' or '@defun' to decorate the function.Use '@tf.function' or '@defun' to decorate the function.Use '@tf.function' or '@defun' to decorate the function.Use '@tf.function' or '@defun' to decorate the function.Use '@tf.function' or '@defun' to decorate the function.Use '@tf.function' or '@defun' to decorate the function.Use '@tf.function' or '@defun' to decorate the function.Use '@tf.function' or '@defun' to decorate the function.Use '@tf.function' or '@defun' to decorate the function.Use '@tf.function' or '@defun' to decorate the function.Use '@tf.function' or '@defun' to decorate the function.Use '@tf.function' or '@defun' to decorate the function.Use '@tf.function' or '@defun' to decorate the function.Use '@tf.function' or '@defun' to decorate the function.Use '@tf.function' or '@defun' to decorate the function.Use '@tf.function' or '@defun' to decorate the function.Use '@tf.function' or '@defun' to decorate the function.Use '@tf.function' or '@defun' to decorate the function.Use '@tf.function' or '@defun' to decorate the function.Use '@tf.function' or '@defun' to decorate the function.Use '@tf.function' or '@defun' to decorate the function.Use '@tf.function' or '@defun' to decorate the function.Use '@tf.function' or '@defun' to decorate the function.Use '@tf.function' or '@defun' to decorate the function.Use '@tf.function' or '@defun' to decorate the function.Use '@tf.function' or '@defun' to decorate the function.Use '@tf.function' or '@defun' to decorate the function.Use '@tf.function' or '@defun' to decorate the function.Use '@tf.function' or '@defun' to decorate the function.Use '@tf.function' or '@defun' to decorate the function.Use '@tf.function' or '@defun' to decorate the function.Use '@tf.function' or '@defun' to decorate the function.Use '@tf.function' or '@defun' to decorate the function.Use '@tf.function' or '@defun' to decorate the function.Use '@tf.function' or '@defun' to decorate the function.Use '@tf.function' or '@defun' to decorate the function.Use '@tf.function' or '@defun' to decorate the function.Use '@tf.function' or '@defun' to decorate the function.Use '@tf.function' or '@defun' to decorate the function.Use '@tf.function' or '@defun' to decorate the function.Use '@tf.function' or '@defun' to decorate the function.Use '@tf.function' or '@defun' to decorate the function.Use '@tf.function' or '@defun' to decorate the function.Use '@tf.function' or '@defun' to decorate the function.Use '@tf.function' or '@defun' to decorate the function.Use '@tf.function' or '@defun' to decorate the function.Use '@tf.function' or '@defun' to decorate the function.Use '@tf.function' or '@defun' to decorate the function.Use '@tf.function' or '@defun' to decorate the function.Use '@tf.function' or '@defun' to decorate the function.Use '@tf.function' or '@defun' to decorate the function.Use '@tf.function' or '@defun' to decorate the function.Use '@tf.function' or '@defun' to decorate the function.Use '@tf.function' or '@defun' to decorate the function.Use '@tf.function' or '@defun' to decorate the function.Use '@tf.function' or '@defun' to decorate the function.Use '@tf.function' or '@defun' to decorate the function.Use '@tf.function' or '@defun' to decorate the function.Use '@tf.function' or '@defun' to decorate the function.Use '@tf.function' or '@defun' to decorate the function.Use '@tf.function' or '@defun' to decorate the function.Use '@tf.function' or '@defun' to decorate the function.Use '@tf.function' or '@defun' to decorate the function.Use '@tf.function' or '@defun' to decorate the function.Use '@tf.function' or '@defun' to decorate the function.Use '@tf.function' or '@defun' to decorate the function.Use '@tf.function' or '@defun' to decorate the function.Use '@tf.function' or '@defun' to decorate the function.Use '@tf.function' or '@defun' to decorate the function.Use '@tf.function' or '@defun' to decorate the function.Use '@tf.function' or '@defun' to decorate the function.Use '@tf.function' or '@defun' to decorate the function.Use '@tf.function' or '@defun' to decorate the function.Use '@tf.function' or '@defun' to decorate the function.Use '@tf.function' or '@defun' to decorate the function.Use '@tf.function' or '@defun' to decorate the function.Use '@tf.function' or '@defun' to decorate the function.Use '@tf.function' or '@defun' to decorate the function.Use '@tf.function' or '@defun' to decorate the function.Use '@tf.function' or '@defun' to decorate the function.Use '@tf.function' or '@defun' to decorate the function.Use '@tf.function' or '@defun' to decorate the function.Use '@tf.function' or '@defun' to decorate the function.Use '@tf.function' or '@defun' to decorate the function.Use '@tf.function' or '@defun' to decorate the function.Use '@tf.function' or '@defun' to decorate the function.Use '@tf.function' or '@defun' to decorate the function.Use '@tf.function' or '@defun' to decorate the function.Use '@tf.function' or '@defun' to decorate the function.Use '@tf.function' or '@defun' to decorate the function.Use '@tf.function' or '@defun' to decorate the function.Use '@tf.function' or '@defun' to decorate the function.Use '@tf.function' or '@defun' to decorate the function.Use '@tf.function' or '@defun' to decorate the function.Use '@tf.function' or '@defun' to decorate the function.Use '@tf.function' or '@defun' to decorate the function.Use '@tf.function' or '@defun' to decorate the function.Use '@tf.function' or '@defun' to decorate the function.Use '@tf.function' or '@defun' to decorate the function.Use '@tf.function' or '@defun' to decorate the function.Use '@tf.function' or '@defun' to decorate the function.Use '@tf.function' or '@defun' to decorate the function.Use '@tf.function' or '@defun' to decorate the function.Use '@tf.function' or '@defun' to decorate the function.Use '@tf.function' or '@defun' to decorate the function.Use '@tf.function' or '@defun' to decorate the function.Use '@tf.function' or '@defun' to decorate the function.Use '@tf.function' or '@defun' to decorate the function.Use '@tf.function' or '@defun' to decorate the function.Use '@tf.function' or '@defun' to decorate the function.Use '@tf.function' or '@defun' to decorate the function.Use '@tf.function' or '@defun' to decorate the function.Use '@tf.function' or '@defun' to decorate the function.Use '@tf.function' or '@defun' to decorate the function.Use '@tf.function' or '@defun' to decorate the function.Use '@tf.function' or '@defun' to decorate the function.Use '@tf.function' or '@defun' to decorate the function.Use '@tf.function' or '@defun' to decorate the function.Use '@tf.function' or '@defun' to decorate the function.Use '@tf.function' or '@defun' to decorate the function.Use '@tf.function' or '@defun' to decorate the function.Use '@tf.function' or '@defun' to decorate the function.Use '@tf.function' or '@defun' to decorate the function.Use '@tf.function' or '@defun' to decorate the function.Use '@tf.function' or '@defun' to decorate the function.Use '@tf.function' or '@defun' to decorate the function.Use '@tf.function' or '@defun' to decorate the function.Use '@tf.function' or '@defun' to decorate the function.Use '@tf.function' or '@defun' to decorate the function.Use '@tf.function' or '@defun' to decorate the function.Use '@tf.function' or '@defun' to decorate the function.Use '@tf.function' or '@defun' to decorate the function.Use '@tf.function' or '@defun' to decorate the function.Use '@tf.function' or '@defun' to decorate the function.Use '@tf.function' or '@defun' to decorate the function.Use '@tf.function' or '@defun' to decorate the function.Use '@tf.function' or '@defun' to decorate the function.Use '@tf.function' or '@defun' to decorate the function.Use '@tf.function' or '@defun' to decorate the function.Use '@tf.function' or '@defun' to decorate the function.Use '@tf.function' or '@defun' to decorate the function.Use '@tf.function' or '@defun' to decorate the function.Use '@tf.function' or '@defun' to decorate the function.Use '@tf.function' or '@defun' to decorate the function.Use '@tf.function' or '@defun' to decorate the function.Use '@tf.function' or '@defun' to decorate the function.Use '@tf.function' or '@defun' to decorate the function.Use '@tf.function' or '@defun' to decorate the function.Use '@tf.function' or '@defun' to decorate the function.Use '@tf.function' or '@defun' to decorate the function.Use '@tf.function' or '@defun' to decorate the function.Use '@tf.function' or '@defun' to decorate the function.Use '@tf.function' or '@defun' to decorate the function.Use '@tf.function' or '@defun' to decorate the function.Use '@tf.function' or '@defun' to decorate the function.Use '@tf.function' or '@defun' to decorate the function.Use '@tf.function' or '@defun' to decorate the function.Use '@tf.function' or '@defun' to decorate the function.Use '@tf.function' or '@defun' to decorate the function.Use '@tf.function' or '@defun' to decorate the function.Use '@tf.function' or '@defun' to decorate the function.Use '@tf.function' or '@defun' to decorate the function.Use '@tf.function' or '@defun' to decorate the function.Use '@tf.function' or '@defun' to decorate the function.Use '@tf.function' or '@defun' to decorate the function.Use '@tf.function' or '@defun' to decorate the function.Use '@tf.function' or '@defun' to decorate the function.Use '@tf.function' or '@defun' to decorate the function.Use '@tf.function' or '@defun' to decorate the function.Use '@tf.function' or '@defun' to decorate the function.Use '@tf.function' or '@defun' to decorate the function.Use '@tf.function' or '@defun' to decorate the function.Use '@tf.function' or '@defun' to decorate the function.Use '@tf.function' or '@defun' to decorate the function.Use '@tf.function' or '@defun' to decorate the function.Use '@tf.function' or '@defun' to decorate the function.Use '@tf.function' or '@defun' to decorate the function.Use '@tf.function' or '@defun' to decorate the function.Use '@tf.function' or '@defun' to decorate the function.Use '@tf.function' or '@defun' to decorate the function.Use '@tf.function' or '@defun' to decorate the function.Use '@tf.function' or '@defun' to decorate the function.Use '@tf.function' or '@defun' to decorate the function.Use '@tf.function' or '@defun' to decorate the function.Use '@tf.function' or '@defun' to decorate the function.Use '@tf.function' or '@defun' to decorate the function.Use '@tf.function' or '@defun' to decorate the function.Use '@tf.function' or '@defun' to decorate the function.Use '@tf.function' or '@defun' to decorate the function.Use '@tf.function' or '@defun' to decorate the function.Use '@tf.function' or '@defun' to decorate the function.Use '@tf.function' or '@defun' to decorate the function.Use '@tf.function' or '@defun' to decorate the function.Use '@tf.function' or '@defun' to decorate the function.Use '@tf.function' or '@defun' to decorate the function.Use '@tf.function' or '@defun' to decorate the function.Use '@tf.function' or '@defun' to decorate the function.Use '@tf.function' or '@defun' to decorate the function.Use '@tf.function' or '@defun' to decorate the function.Use '@tf.function' or '@defun' to decorate the function.Use '@tf.function' or '@defun' to decorate the function.Use '@tf.function' or '@defun' to decorate the function.Use '@tf.function' or '@defun' to decorate the function.Use '@tf.function' or '@defun' to decorate the function.Use '@tf.function' or '@defun' to decorate the function.Use '@tf.function' or '@defun' to decorate the function.Use '@tf.function' or '@defun' to decorate the function.Use '@tf.function' or '@defun' to decorate the function.Use '@tf.function' or '@defun' to decorate the function.Use '@tf.function' or '@defun' to decorate the function.Use '@tf.function' or '@defun' to decorate the function.Use '@tf.function' or '@defun' to decorate the function.Use '@tf.function' or '@defun' to decorate the function.Use '@tf.function' or '@defun' to decorate the function.Use '@tf.function' or '@defun' to decorate the function.Use '@tf.function' or '@defun' to decorate the function.Use '@tf.function' or '@defun' to decorate the function.Use '@tf.function' or '@defun' to decorate the function.Use '@tf.function' or '@defun' to decorate the function.Use '@tf.function' or '@defun' to decorate the function.Use '@tf.function' or '@defun' to decorate the function.Use '@tf.function' or '@defun' to decorate the function.Use '@tf.function' or '@defun' to decorate the function.Use '@tf.function' or '@defun' to decorate the function.Use '@tf.function' or '@defun' to decorate the function.Use '@tf.function' or '@defun' to decorate the function.Use '@tf.function' or '@defun' to decorate the function.Use '@tf.function' or '@defun' to decorate the function.Use '@tf.function' or '@defun' to decorate the function.Use '@tf.function' or '@defun' to decorate the function.Use '@tf.function' or '@defun' to decorate the function.Use '@tf.function' or '@defun' to decorate the function.Use '@tf.function' or '@defun' to decorate the function.Use '@tf.function' or '@defun' to decorate the function.Use '@tf.function' or '@defun' to decorate the function.Use '@tf.function' or '@defun' to decorate the function.Use '@tf.function' or '@defun' to decorate the function.Use '@tf.function' or '@defun' to decorate the function.Use '@tf.function' or '@defun' to decorate the function.Use '@tf.function' or '@defun' to decorate the function.Use '@tf.function' or '@defun' to decorate the function.Use '@tf.function' or '@defun' to decorate the function.Use '@tf.function' or '@defun' to decorate the function.Use '@tf.function' or '@defun' to decorate the function.Use '@tf.function' or '@defun' to decorate the function.Use '@tf.function' or '@defun' to decorate the function.Use '@tf.function' or '@defun' to decorate the function.Use '@tf.function' or '@defun' to decorate the function.Use '@tf.function' or '@defun' to decorate the function.Use '@tf.function' or '@defun' to decorate the function.Use '@tf.function' or '@defun' to decorate the function.Use '@tf.function' or '@defun' to decorate the function.Use '@tf.function' or '@defun' to decorate the function.Use '@tf.function' or '@defun' to decorate the function.Use '@tf.function' or '@defun' to decorate the function.Use '@tf.function' or '@defun' to decorate the function.Use '@tf.function' or '@defun' to decorate the function.Use '@tf.function' or '@defun' to decorate the function.Use '@tf.function' or '@defun' to decorate the function.Use '@tf.function' or '@defun' to decorate the function.Use '@tf.function' or '@defun' to decorate the function.Use '@tf.function' or '@defun' to decorate the function.Use '@tf.function' or '@defun' to decorate the function.Use '@tf.function' or '@defun' to decorate the function.Use '@tf.function' or '@defun' to decorate the function.Use '@tf.function' or '@defun' to decorate the function.Use '@tf.function' or '@defun' to decorate the function.Use '@tf.function' or '@defun' to decorate the function.Use '@tf.function' or '@defun' to decorate the function.Use '@tf.function' or '@defun' to decorate the function.Use '@tf.function' or '@defun' to decorate the function.Use '@tf.function' or '@defun' to decorate the function.Use '@tf.function' or '@defun' to decorate the function.Use '@tf.function' or '@defun' to decorate the function.Use '@tf.function' or '@defun' to decorate the function.Use '@tf.function' or '@defun' to decorate the function.Use '@tf.function' or '@defun' to decorate the function.Use '@tf.function' or '@defun' to decorate the function.Use '@tf.function' or '@defun' to decorate the function.Use '@tf.function' or '@defun' to decorate the function.Use '@tf.function' or '@defun' to decorate the function.Use '@tf.function' or '@defun' to decorate the function.Use '@tf.function' or '@defun' to decorate the function.Use '@tf.function' or '@defun' to decorate the function.Use '@tf.function' or '@defun' to decorate the function.Use '@tf.function' or '@defun' to decorate the function.Use '@tf.function' or '@defun' to decorate the function.Use '@tf.function' or '@defun' to decorate the function.Use '@tf.function' or '@defun' to decorate the function.Use '@tf.function' or '@defun' to decorate the function.Use '@tf.function' or '@defun' to decorate the function.Use '@tf.function' or '@defun' to decorate the function.Use '@tf.function' or '@defun' to decorate the function.Use '@tf.function' or '@defun' to decorate the function.Use '@tf.function' or '@defun' to decorate the function.Use '@tf.function' or '@defun' to decorate the function.Use '@tf.function' or '@defun' to decorate the function.Use '@tf.function' or '@defun' to decorate the function.Use '@tf.function' or '@defun' to decorate the function.Use '@tf.function' or '@defun' to decorate the function.Use '@tf.function' or '@defun' to decorate the function.Use '@tf.function' or '@defun' to decorate the function.Use '@tf.function' or '@defun' to decorate the function.Use '@tf.function' or '@defun' to decorate the function.Use '@tf.function' or '@defun' to decorate the function.Use '@tf.function' or '@defun' to decorate the function.Use '@tf.function' or '@defun' to decorate the function.Use '@tf.function' or '@defun' to decorate the function.Use '@tf.function' or '@defun' to decorate the function.Use '@tf.function' or '@defun' to decorate the function.Use '@tf.function' or '@defun' to decorate the function.Use '@tf.function' or '@defun' to decorate the function.Use '@tf.function' or '@defun' to decorate the function.Use '@tf.function' or '@defun' to decorate the function.Use '@tf.function' or '@defun' to decorate the function.Use '@tf.function' or '@defun' to decorate the function.Use '@tf.function' or '@defun' to decorate the function.Use '@tf.function' or '@defun' to decorate the function.Use '@tf.function' or '@defun' to decorate the function.Use '@tf.function' or '@defun' to decorate the function.Use '@tf.function' or '@defun' to decorate the function.Use '@tf.function' or '@defun' to decorate the function.Use '@tf.function' or '@defun' to decorate the function.Use '@tf.function' or '@defun' to decorate the function.Use '@tf.function' or '@defun' to decorate the function.Use '@tf.function' or '@defun' to decorate the function.Use '@tf.function' or '@defun' to decorate the function.Use '@tf.function' or '@defun' to decorate the function.Use '@tf.function' or '@defun' to decorate the function.Use '@tf.function' or '@defun' to decorate the function.Use '@tf.function' or '@defun' to decorate the function.Use '@tf.function' or '@defun' to decorate the function.Use '@tf.function' or '@defun' to decorate the function.Use '@tf.function' or '@defun' to decorate the function.Use '@tf.function' or '@defun' to decorate the function.Use '@tf.function' or '@defun' to decorate the function.Use '@tf.function' or '@defun' to decorate the function.Use '@tf.function' or '@defun' to decorate the function.Use '@tf.function' or '@defun' to decorate the function.Use '@tf.function' or '@defun' to decorate the function.Use '@tf.function' or '@defun' to decorate the function.Use '@tf.function' or '@defun' to decorate the function.Use '@tf.function' or '@defun' to decorate the function.Use '@tf.function' or '@defun' to decorate the function.Use '@tf.function' or '@defun' to decorate the function.Use '@tf.function' or '@defun' to decorate the function.Use '@tf.function' or '@defun' to decorate the function.Use '@tf.function' or '@defun' to decorate the function.Use '@tf.function' or '@defun' to decorate the function.Use '@tf.function' or '@defun' to decorate the function.Use '@tf.function' or '@defun' to decorate the function.Use '@tf.function' or '@defun' to decorate the function.Use '@tf.function' or '@defun' to decorate the function.Use '@tf.function' or '@defun' to decorate the function.Use '@tf.function' or '@defun' to decorate the function.Use '@tf.function' or '@defun' to decorate the function.Use '@tf.function' or '@defun' to decorate the function.Use '@tf.function' or '@defun' to decorate the function.Use '@tf.function' or '@defun' to decorate the function.Use '@tf.function' or '@defun' to decorate the function.Use '@tf.function' or '@defun' to decorate the function.Use '@tf.function' or '@defun' to decorate the function.Use '@tf.function' or '@defun' to decorate the function.Use '@tf.function' or '@defun' to decorate the function.Use '@tf.function' or '@defun' to decorate the function.Use '@tf.function' or '@defun' to decorate the function.Use '@tf.function' or '@defun' to decorate the function.Use '@tf.function' or '@defun' to decorate the function.Use '@tf.function' or '@defun' to decorate the function.Use '@tf.function' or '@defun' to decorate the function.Use '@tf.function' or '@defun' to decorate the function.Use '@tf.function' or '@defun' to decorate the function.Use '@tf.function' or '@defun' to decorate the function.Use '@tf.function' or '@defun' to decorate the function.Use '@tf.function' or '@defun' to decorate the function.Use '@tf.function' or '@defun' to decorate the function.Use '@tf.function' or '@defun' to decorate the function.Use '@tf.function' or '@defun' to decorate the function.Use '@tf.function' or '@defun' to decorate the function.Use '@tf.function' or '@defun' to decorate the function.Use '@tf.function' or '@defun' to decorate the function.Use '@tf.function' or '@defun' to decorate the function.Use '@tf.function' or '@defun' to decorate the function.Use '@tf.function' or '@defun' to decorate the function.Use '@tf.function' or '@defun' to decorate the function.Use '@tf.function' or '@defun' to decorate the function.Use '@tf.function' or '@defun' to decorate the function.Use '@tf.function' or '@defun' to decorate the function.Use '@tf.function' or '@defun' to decorate the function.Use '@tf.function' or '@defun' to decorate the function.Use '@tf.function' or '@defun' to decorate the function.Use '@tf.function' or '@defun' to decorate the function.Use '@tf.function' or '@defun' to decorate the function.Use '@tf.function' or '@defun' to decorate the function.Use '@tf.function' or '@defun' to decorate the function.Use '@tf.function' or '@defun' to decorate the function.Use '@tf.function' or '@defun' to decorate the function.Use '@tf.function' or '@defun' to decorate the function.Use '@tf.function' or '@defun' to decorate the function.Use '@tf.function' or '@defun' to decorate the function.Use '@tf.function' or '@defun' to decorate the function.Use '@tf.function' or '@defun' to decorate the function.Use '@tf.function' or '@defun' to decorate the function.Use '@tf.function' or '@defun' to decorate the function.Use '@tf.function' or '@defun' to decorate the function.Use '@tf.function' or '@defun' to decorate the function.Use '@tf.function' or '@defun' to decorate the function.Use '@tf.function' or '@defun' to decorate the function.Use '@tf.function' or '@defun' to decorate the function.Use '@tf.function' or '@defun' to decorate the function.Use '@tf.function' or '@defun' to decorate the function.Use '@tf.function' or '@defun' to decorate the function.Use '@tf.function' or '@defun' to decorate the function.Use '@tf.function' or '@defun' to decorate the function.Use '@tf.function' or '@defun' to decorate the function.Use '@tf.function' or '@defun' to decorate the function.Use '@tf.function' or '@defun' to decorate the function.Use '@tf.function' or '@defun' to decorate the function.Use '@tf.function' or '@defun' to decorate the function.Use '@tf.function' or '@defun' to decorate the function.Use '@tf.function' or '@defun' to decorate the function.Use '@tf.function' or '@defun' to decorate the function.Use '@tf.function' or '@defun' to decorate the function.Use '@tf.function' or '@defun' to decorate the function.Use '@tf.function' or '@defun' to decorate the function.Use '@tf.function' or '@defun' to decorate the function.Use '@tf.function' or '@defun' to decorate the function.Use '@tf.function' or '@defun' to decorate the function.Use '@tf.function' or '@defun' to decorate the function.Use '@tf.function' or '@defun' to decorate the function.Use '@tf.function' or '@defun' to decorate the function.Use '@tf.function' or '@defun' to decorate the function.Use '@tf.function' or '@defun' to decorate the function.Use '@tf.function' or '@defun' to decorate the function.Use '@tf.function' or '@defun' to decorate the function.Use '@tf.function' or '@defun' to decorate the function.Use '@tf.function' or '@defun' to decorate the function.Use '@tf.function' or '@defun' to decorate the function.Use '@tf.function' or '@defun' to decorate the function.Use '@tf.function' or '@defun' to decorate the function.Use '@tf.function' or '@defun' to decorate the function.Use '@tf.function' or '@defun' to decorate the function.Use '@tf.function' or '@defun' to decorate the function.Use '@tf.function' or '@defun' to decorate the function.Use '@tf.function' or '@defun' to decorate the function.Use '@tf.function' or '@defun' to decorate the function.Use '@tf.function' or '@defun' to decorate the function.Use '@tf.function' or '@defun' to decorate the function.Use '@tf.function' or '@defun' to decorate the function.Use '@tf.function' or '@defun' to decorate the function.Use '@tf.function' or '@defun' to decorate the function.Use '@tf.function' or '@defun' to decorate the function.Use '@tf.function' or '@defun' to decorate the function.Use '@tf.function' or '@defun' to decorate the function.Use '@tf.function' or '@defun' to decorate the function.Use '@tf.function' or '@defun' to decorate the function.Use '@tf.function' or '@defun' to decorate the function.Use '@tf.function' or '@defun' to decorate the function.Use '@tf.function' or '@defun' to decorate the function.Use '@tf.function' or '@defun' to decorate the function.Use '@tf.function' or '@defun' to decorate the function.Use '@tf.function' or '@defun' to decorate the function.Use '@tf.function' or '@defun' to decorate the function.Use '@tf.function' or '@defun' to decorate the function.Use '@tf.function' or '@defun' to decorate the function.Use '@tf.function' or '@defun' to decorate the function.Use '@tf.function' or '@defun' to decorate the function.Use '@tf.function' or '@defun' to decorate the function.Use '@tf.function' or '@defun' to decorate the function.Use '@tf.function' or '@defun' to decorate the function.Use '@tf.function' or '@defun' to decorate the function.Use '@tf.function' or '@defun' to decorate the function.Use '@tf.function' or '@defun' to decorate the function.Use '@tf.function' or '@defun' to decorate the function.Use '@tf.function' or '@defun' to decorate the function.Use '@tf.function' or '@defun' to decorate the function.Use '@tf.function' or '@defun' to decorate the function.Use '@tf.function' or '@defun' to decorate the function.Use '@tf.function' or '@defun' to decorate the function.Use '@tf.function' or '@defun' to decorate the function.Use '@tf.function' or '@defun' to decorate the function.Use '@tf.function' or '@defun' to decorate the function.Use '@tf.function' or '@defun' to decorate the function.Use '@tf.function' or '@defun' to decorate the function.Use '@tf.function' or '@defun' to decorate the function.Use '@tf.function' or '@defun' to decorate the function.Use '@tf.function' or '@defun' to decorate the function.Use '@tf.function' or '@defun' to decorate the function.Use '@tf.function' or '@defun' to decorate the function.Use '@tf.function' or '@defun' to decorate the function.Use '@tf.function' or '@defun' to decorate the function.Use '@tf.function' or '@defun' to decorate the function.Use '@tf.function' or '@defun' to decorate the function.Use '@tf.function' or '@defun' to decorate the function.Use '@tf.function' or '@defun' to decorate the function.Use '@tf.function' or '@defun' to decorate the function.Use '@tf.function' or '@defun' to decorate the function.Use '@tf.function' or '@defun' to decorate the function.Use '@tf.function' or '@defun' to decorate the function.Use '@tf.function' or '@defun' to decorate the function.Use '@tf.function' or '@defun' to decorate the function.Use '@tf.function' or '@defun' to decorate the function.Use '@tf.function' or '@defun' to decorate the function.Use '@tf.function' or '@defun' to decorate the function.Use '@tf.function' or '@defun' to decorate the function.Use '@tf.function' or '@defun' to decorate the function.Use '@tf.function' or '@defun' to decorate the function.Use '@tf.function' or '@defun' to decorate the function.Use '@tf.function' or '@defun' to decorate the function.Use '@tf.function' or '@defun' to decorate the function.Use '@tf.function' or '@defun' to decorate the function.Use '@tf.function' or '@defun' to decorate the function.Use '@tf.function' or '@defun' to decorate the function.Use '@tf.function' or '@defun' to decorate the function.Use '@tf.function' or '@defun' to decorate the function.Use '@tf.function' or '@defun' to decorate the function.Use '@tf.function' or '@defun' to decorate the function.Use '@tf.function' or '@defun' to decorate the function.Use '@tf.function' or '@defun' to decorate the function.Use '@tf.function' or '@defun' to decorate the function.Use '@tf.function' or '@defun' to decorate the function.Use '@tf.function' or '@defun' to decorate the function.Use '@tf.function' or '@defun' to decorate the function.Use '@tf.function' or '@defun' to decorate the function.Use '@tf.function' or '@defun' to decorate the function.Use '@tf.function' or '@defun' to decorate the function.Use '@tf.function' or '@defun' to decorate the function.Use '@tf.function' or '@defun' to decorate the function.Use '@tf.function' or '@defun' to decorate the function.Use '@tf.function' or '@defun' to decorate the function.Use '@tf.function' or '@defun' to decorate the function.Use '@tf.function' or '@defun' to decorate the function.Use '@tf.function' or '@defun' to decorate the function.Use '@tf.function' or '@defun' to decorate the function.Use '@tf.function' or '@defun' to decorate the function.Use '@tf.function' or '@defun' to decorate the function.Use '@tf.function' or '@defun' to decorate the function.Use '@tf.function' or '@defun' to decorate the function.Use '@tf.function' or '@defun' to decorate the function.Use '@tf.function' or '@defun' to decorate the function.Use '@tf.function' or '@defun' to decorate the function.Use '@tf.function' or '@defun' to decorate the function.Use '@tf.function' or '@defun' to decorate the function.Use '@tf.function' or '@defun' to decorate the function.Use '@tf.function' or '@defun' to decorate the function.Use '@tf.function' or '@defun' to decorate the function.Use '@tf.function' or '@defun' to decorate the function.Use '@tf.function' or '@defun' to decorate the function.Use '@tf.function' or '@defun' to decorate the function.Use '@tf.function' or '@defun' to decorate the function.Use '@tf.function' or '@defun' to decorate the function.Use '@tf.function' or '@defun' to decorate the function.Use '@tf.function' or '@defun' to decorate the function.Use '@tf.function' or '@defun' to decorate the function.Use '@tf.function' or '@defun' to decorate the function.Use '@tf.function' or '@defun' to decorate the function.Use '@tf.function' or '@defun' to decorate the function.Use '@tf.function' or '@defun' to decorate the function.Use '@tf.function' or '@defun' to decorate the function.Use '@tf.function' or '@defun' to decorate the function.Use '@tf.function' or '@defun' to decorate the function.Use '@tf.function' or '@defun' to decorate the function.Use '@tf.function' or '@defun' to decorate the function.Use '@tf.function' or '@defun' to decorate the function.Use '@tf.function' or '@defun' to decorate the function.Use '@tf.function' or '@defun' to decorate the function.Use '@tf.function' or '@defun' to decorate the function.Use '@tf.function' or '@defun' to decorate the function.Use '@tf.function' or '@defun' to decorate the function.Use '@tf.function' or '@defun' to decorate the function.Use '@tf.function' or '@defun' to decorate the function.Use '@tf.function' or '@defun' to decorate the function.Use '@tf.function' or '@defun' to decorate the function.Use '@tf.function' or '@defun' to decorate the function.Use '@tf.function' or '@defun' to decorate the function.Use '@tf.function' or '@defun' to decorate the function.Use '@tf.function' or '@defun' to decorate the function.Use '@tf.function' or '@defun' to decorate the function.Use '@tf.function' or '@defun' to decorate the function.Use '@tf.function' or '@defun' to decorate the function.Use '@tf.function' or '@defun' to decorate the function.Use '@tf.function' or '@defun' to decorate the function.Use '@tf.function' or '@defun' to decorate the function.Use '@tf.function' or '@defun' to decorate the function.Use '@tf.function' or '@defun' to decorate the function.Use '@tf.function' or '@defun' to decorate the function.Use '@tf.function' or '@defun' to decorate the function.Use '@tf.function' or '@defun' to decorate the function.Use '@tf.function' or '@defun' to decorate the function.Use '@tf.function' or '@defun' to decorate the function.Use '@tf.function' or '@defun' to decorate the function.Use '@tf.function' or '@defun' to decorate the function.Use '@tf.function' or '@defun' to decorate the function.Use '@tf.function' or '@defun' to decorate the function.Use '@tf.function' or '@defun' to decorate the function.Use '@tf.function' or '@defun' to decorate the function.Use '@tf.function' or '@defun' to decorate the function.Use '@tf.function' or '@defun' to decorate the function.Use '@tf.function' or '@defun' to decorate the function.Use '@tf.function' or '@defun' to decorate the function.Use '@tf.function' or '@defun' to decorate the function.Use '@tf.function' or '@defun' to decorate the function.Use '@tf.function' or '@defun' to decorate the function.Use '@tf.function' or '@defun' to decorate the function.Use '@tf.function' or '@defun' to decorate the function.Use '@tf.function' or '@defun' to decorate the function.Use '@tf.function' or '@defun' to decorate the function.Use '@tf.function' or '@defun' to decorate the function.Use '@tf.function' or '@defun' to decorate the function.Use '@tf.function' or '@defun' to decorate the function.Use '@tf.function' or '@defun' to decorate the function.Use '@tf.function' or '@defun' to decorate the function.Use '@tf.function' or '@defun' to decorate the function.Use '@tf.function' or '@defun' to decorate the function.Use '@tf.function' or '@defun' to decorate the function.Use '@tf.function' or '@defun' to decorate the function.Use '@tf.function' or '@defun' to decorate the function.Use '@tf.function' or '@defun' to decorate the function.Use '@tf.function' or '@defun' to decorate the function.Use '@tf.function' or '@defun' to decorate the function.Use '@tf.function' or '@defun' to decorate the function.Use '@tf.function' or '@defun' to decorate the function.Use '@tf.function' or '@defun' to decorate the function.Use '@tf.function' or '@defun' to decorate the function.Use '@tf.function' or '@defun' to decorate the function.Use '@tf.function' or '@defun' to decorate the function.Use '@tf.function' or '@defun' to decorate the function.Use '@tf.function' or '@defun' to decorate the function.Use '@tf.function' or '@defun' to decorate the function.Use '@tf.function' or '@defun' to decorate the function.Use '@tf.function' or '@defun' to decorate the function.Use '@tf.function' or '@defun' to decorate the function.Use '@tf.function' or '@defun' to decorate the function.Use '@tf.function' or '@defun' to decorate the function.Use '@tf.function' or '@defun' to decorate the function.Use '@tf.function' or '@defun' to decorate the function.Use '@tf.function' or '@defun' to decorate the function.Use '@tf.function' or '@defun' to decorate the function.Use '@tf.function' or '@defun' to decorate the function.Use '@tf.function' or '@defun' to decorate the function.Use '@tf.function' or '@defun' to decorate the function.Use '@tf.function' or '@defun' to decorate the function.Use '@tf.function' or '@defun' to decorate the function.Use '@tf.function' or '@defun' to decorate the function.Use '@tf.function' or '@defun' to decorate the function.Use '@tf.function' or '@defun' to decorate the function.Use '@tf.function' or '@defun' to decorate the function.Use '@tf.function' or '@defun' to decorate the function.Use '@tf.function' or '@defun' to decorate the function.Use '@tf.function' or '@defun' to decorate the function.Use '@tf.function' or '@defun' to decorate the function.Use '@tf.function' or '@defun' to decorate the function.Use '@tf.function' or '@defun' to decorate the function.Use '@tf.function' or '@defun' to decorate the function.Use '@tf.function' or '@defun' to decorate the function.Use '@tf.function' or '@defun' to decorate the function.Use '@tf.function' or '@defun' to decorate the function.Use '@tf.function' or '@defun' to decorate the function.Use '@tf.function' or '@defun' to decorate the function.Use '@tf.function' or '@defun' to decorate the function.Use '@tf.function' or '@defun' to decorate the function.Use '@tf.function' or '@defun' to decorate the function.Use '@tf.function' or '@defun' to decorate the function.Use '@tf.function' or '@defun' to decorate the function.Use '@tf.function' or '@defun' to decorate the function.Use '@tf.function' or '@defun' to decorate the function.Use '@tf.function' or '@defun' to decorate the function.Use '@tf.function' or '@defun' to decorate the function.Use '@tf.function' or '@defun' to decorate the function.Use '@tf.function' or '@defun' to decorate the function.Use '@tf.function' or '@defun' to decorate the function.Use '@tf.function' or '@defun' to decorate the function.Use '@tf.function' or '@defun' to decorate the function.Use '@tf.function' or '@defun' to decorate the function.Use '@tf.function' or '@defun' to decorate the function.Use '@tf.function' or '@defun' to decorate the function.Use '@tf.function' or '@defun' to decorate the function.Use '@tf.function' or '@defun' to decorate the function.Use '@tf.function' or '@defun' to decorate the function.Use '@tf.function' or '@defun' to decorate the function.Use '@tf.function' or '@defun' to decorate the function.Use '@tf.function' or '@defun' to decorate the function.Use '@tf.function' or '@defun' to decorate the function.Use '@tf.function' or '@defun' to decorate the function.Use '@tf.function' or '@defun' to decorate the function.Use '@tf.function' or '@defun' to decorate the function.Use '@tf.function' or '@defun' to decorate the function.Use '@tf.function' or '@defun' to decorate the function.Use '@tf.function' or '@defun' to decorate the function.Use '@tf.function' or '@defun' to decorate the function.Use '@tf.function' or '@defun' to decorate the function.Use '@tf.function' or '@defun' to decorate the function.Use '@tf.function' or '@defun' to decorate the function.Use '@tf.function' or '@defun' to decorate the function.Use '@tf.function' or '@defun' to decorate the function.Use '@tf.function' or '@defun' to decorate the function.Use '@tf.function' or '@defun' to decorate the function.Use '@tf.function' or '@defun' to decorate the function.Use '@tf.function' or '@defun' to decorate the function.Use '@tf.function' or '@defun' to decorate the function.Use '@tf.function' or '@defun' to decorate the function.Use '@tf.function' or '@defun' to decorate the function.Use '@tf.function' or '@defun' to decorate the function.Use '@tf.function' or '@defun' to decorate the function.Use '@tf.function' or '@defun' to decorate the function.Use '@tf.function' or '@defun' to decorate the function.Use '@tf.function' or '@defun' to decorate the function.Use '@tf.function' or '@defun' to decorate the function.Use '@tf.function' or '@defun' to decorate the function.Use '@tf.function' or '@defun' to decorate the function.Use '@tf.function' or '@defun' to decorate the function.Use '@tf.function' or '@defun' to decorate the function.Use '@tf.function' or '@defun' to decorate the function.Use '@tf.function' or '@defun' to decorate the function.Use '@tf.function' or '@defun' to decorate the function.Use '@tf.function' or '@defun' to decorate the function.Use '@tf.function' or '@defun' to decorate the function.Use '@tf.function' or '@defun' to decorate the function.Use '@tf.function' or '@defun' to decorate the function.Use '@tf.function' or '@defun' to decorate the function.Use '@tf.function' or '@defun' to decorate the function.Use '@tf.function' or '@defun' to decorate the function.Use '@tf.function' or '@defun' to decorate the function.Use '@tf.function' or '@defun' to decorate the function.Use '@tf.function' or '@defun' to decorate the function.Use '@tf.function' or '@defun' to decorate the function.Use '@tf.function' or '@defun' to decorate the function.Use '@tf.function' or '@defun' to decorate the function.Use '@tf.function' or '@defun' to decorate the function.Use '@tf.function' or '@defun' to decorate the function.Use '@tf.function' or '@defun' to decorate the function.Use '@tf.function' or '@defun' to decorate the function.Use '@tf.function' or '@defun' to decorate the function.Use '@tf.function' or '@defun' to decorate the function.Use '@tf.function' or '@defun' to decorate the function.Use '@tf.function' or '@defun' to decorate the function.Use '@tf.function' or '@defun' to decorate the function.Use '@tf.function' or '@defun' to decorate the function.Use '@tf.function' or '@defun' to decorate the function.Use '@tf.function' or '@defun' to decorate the function.Use '@tf.function' or '@defun' to decorate the function.Use '@tf.function' or '@defun' to decorate the function.Use '@tf.function' or '@defun' to decorate the function.Use '@tf.function' or '@defun' to decorate the function.Use '@tf.function' or '@defun' to decorate the function.Use '@tf.function' or '@defun' to decorate the function.Use '@tf.function' or '@defun' to decorate the function.Use '@tf.function' or '@defun' to decorate the function.Use '@tf.function' or '@defun' to decorate the function.Use '@tf.function' or '@defun' to decorate the function.Use '@tf.function' or '@defun' to decorate the function.Use '@tf.function' or '@defun' to decorate the function.Use '@tf.function' or '@defun' to decorate the function.Use '@tf.function' or '@defun' to decorate the function.Use '@tf.function' or '@defun' to decorate the function.Use '@tf.function' or '@defun' to decorate the function.Use '@tf.function' or '@defun' to decorate the function.INFO:absl:Using experimental converter: If you encountered a problem please file a bug. You can opt-out by setting experimental_new_converter=False\n"
          ],
          "name": "stderr"
        },
        {
          "output_type": "error",
          "ename": "ConverterError",
          "evalue": "ignored",
          "traceback": [
            "\u001b[0;31m---------------------------------------------------------------------------\u001b[0m",
            "\u001b[0;31mException\u001b[0m                                 Traceback (most recent call last)",
            "\u001b[0;32m/usr/local/lib/python3.7/dist-packages/tensorflow/lite/python/convert.py\u001b[0m in \u001b[0;36mtoco_convert_protos\u001b[0;34m(model_flags_str, toco_flags_str, input_data_str, debug_info_str, enable_mlir_converter)\u001b[0m\n\u001b[1;32m    212\u001b[0m                                                  \u001b[0mdebug_info_str\u001b[0m\u001b[0;34m,\u001b[0m\u001b[0;34m\u001b[0m\u001b[0;34m\u001b[0m\u001b[0m\n\u001b[0;32m--> 213\u001b[0;31m                                                  enable_mlir_converter)\n\u001b[0m\u001b[1;32m    214\u001b[0m       \u001b[0;32mreturn\u001b[0m \u001b[0mmodel_str\u001b[0m\u001b[0;34m\u001b[0m\u001b[0;34m\u001b[0m\u001b[0m\n",
            "\u001b[0;32m/usr/local/lib/python3.7/dist-packages/tensorflow/lite/python/wrap_toco.py\u001b[0m in \u001b[0;36mwrapped_toco_convert\u001b[0;34m(model_flags_str, toco_flags_str, input_data_str, debug_info_str, enable_mlir_converter)\u001b[0m\n\u001b[1;32m     37\u001b[0m       \u001b[0mdebug_info_str\u001b[0m\u001b[0;34m,\u001b[0m\u001b[0;34m\u001b[0m\u001b[0;34m\u001b[0m\u001b[0m\n\u001b[0;32m---> 38\u001b[0;31m       enable_mlir_converter)\n\u001b[0m\u001b[1;32m     39\u001b[0m \u001b[0;34m\u001b[0m\u001b[0m\n",
            "\u001b[0;31mException\u001b[0m: <unknown>:0: error: loc(fused[\"max_pool@__inference___call___2239\", \"StatefulPartitionedCall/StatefulPartitionedCall/max_pool\"]): operand #0 does not dominate this use\n<unknown>:0: note: loc(fused[\"max_pool@__inference___call___2239\", \"StatefulPartitionedCall/StatefulPartitionedCall/max_pool\"]): operand defined here\n",
            "\nDuring handling of the above exception, another exception occurred:\n",
            "\u001b[0;31mConverterError\u001b[0m                            Traceback (most recent call last)",
            "\u001b[0;32m<ipython-input-17-1c81fb6411e6>\u001b[0m in \u001b[0;36m<module>\u001b[0;34m()\u001b[0m\n\u001b[1;32m      6\u001b[0m \u001b[0mconverter\u001b[0m\u001b[0;34m.\u001b[0m\u001b[0mexperimental_new_converter\u001b[0m \u001b[0;34m=\u001b[0m \u001b[0;32mTrue\u001b[0m\u001b[0;34m\u001b[0m\u001b[0;34m\u001b[0m\u001b[0m\n\u001b[1;32m      7\u001b[0m \u001b[0mconverter\u001b[0m\u001b[0;34m.\u001b[0m\u001b[0mtarget_spec\u001b[0m\u001b[0;34m.\u001b[0m\u001b[0msupported_ops\u001b[0m \u001b[0;34m=\u001b[0m\u001b[0;34m[\u001b[0m\u001b[0mtf\u001b[0m\u001b[0;34m.\u001b[0m\u001b[0mlite\u001b[0m\u001b[0;34m.\u001b[0m\u001b[0mOpsSet\u001b[0m\u001b[0;34m.\u001b[0m\u001b[0mTFLITE_BUILTINS\u001b[0m\u001b[0;34m,\u001b[0m \u001b[0mtf\u001b[0m\u001b[0;34m.\u001b[0m\u001b[0mlite\u001b[0m\u001b[0;34m.\u001b[0m\u001b[0mOpsSet\u001b[0m\u001b[0;34m.\u001b[0m\u001b[0mSELECT_TF_OPS\u001b[0m\u001b[0;34m]\u001b[0m\u001b[0;34m\u001b[0m\u001b[0;34m\u001b[0m\u001b[0m\n\u001b[0;32m----> 8\u001b[0;31m \u001b[0mtflite_model\u001b[0m \u001b[0;34m=\u001b[0m \u001b[0mconverter\u001b[0m\u001b[0;34m.\u001b[0m\u001b[0mconvert\u001b[0m\u001b[0;34m(\u001b[0m\u001b[0;34m)\u001b[0m\u001b[0;34m\u001b[0m\u001b[0;34m\u001b[0m\u001b[0m\n\u001b[0m\u001b[1;32m      9\u001b[0m \u001b[0;34m\u001b[0m\u001b[0m\n\u001b[1;32m     10\u001b[0m \u001b[0mfo\u001b[0m \u001b[0;34m=\u001b[0m \u001b[0mopen\u001b[0m\u001b[0;34m(\u001b[0m\u001b[0;34m\"./output/yolov5s.tflite\"\u001b[0m\u001b[0;34m,\u001b[0m \u001b[0;34m\"wb\"\u001b[0m\u001b[0;34m)\u001b[0m\u001b[0;34m\u001b[0m\u001b[0;34m\u001b[0m\u001b[0m\n",
            "\u001b[0;32m/usr/local/lib/python3.7/dist-packages/tensorflow/lite/python/lite.py\u001b[0m in \u001b[0;36mconvert\u001b[0;34m(self)\u001b[0m\n\u001b[1;32m   1945\u001b[0m         \u001b[0;32mNone\u001b[0m \u001b[0mvalue\u001b[0m \u001b[0;32mfor\u001b[0m \u001b[0mdimension\u001b[0m \u001b[0;32min\u001b[0m \u001b[0minput_tensor\u001b[0m\u001b[0;34m.\u001b[0m\u001b[0;34m\u001b[0m\u001b[0;34m\u001b[0m\u001b[0m\n\u001b[1;32m   1946\u001b[0m     \"\"\"\n\u001b[0;32m-> 1947\u001b[0;31m     \u001b[0;32mreturn\u001b[0m \u001b[0msuper\u001b[0m\u001b[0;34m(\u001b[0m\u001b[0mTFLiteConverter\u001b[0m\u001b[0;34m,\u001b[0m \u001b[0mself\u001b[0m\u001b[0;34m)\u001b[0m\u001b[0;34m.\u001b[0m\u001b[0mconvert\u001b[0m\u001b[0;34m(\u001b[0m\u001b[0;34m)\u001b[0m\u001b[0;34m\u001b[0m\u001b[0;34m\u001b[0m\u001b[0m\n\u001b[0m\u001b[1;32m   1948\u001b[0m \u001b[0;34m\u001b[0m\u001b[0m\n\u001b[1;32m   1949\u001b[0m \u001b[0;34m\u001b[0m\u001b[0m\n",
            "\u001b[0;32m/usr/local/lib/python3.7/dist-packages/tensorflow/lite/python/lite.py\u001b[0m in \u001b[0;36mconvert\u001b[0;34m(self)\u001b[0m\n\u001b[1;32m   1302\u001b[0m           \u001b[0minput_tensors\u001b[0m\u001b[0;34m=\u001b[0m\u001b[0mself\u001b[0m\u001b[0;34m.\u001b[0m\u001b[0m_input_tensors\u001b[0m\u001b[0;34m,\u001b[0m\u001b[0;34m\u001b[0m\u001b[0;34m\u001b[0m\u001b[0m\n\u001b[1;32m   1303\u001b[0m           \u001b[0moutput_tensors\u001b[0m\u001b[0;34m=\u001b[0m\u001b[0mself\u001b[0m\u001b[0;34m.\u001b[0m\u001b[0m_output_tensors\u001b[0m\u001b[0;34m,\u001b[0m\u001b[0;34m\u001b[0m\u001b[0;34m\u001b[0m\u001b[0m\n\u001b[0;32m-> 1304\u001b[0;31m           **converter_kwargs)\n\u001b[0m\u001b[1;32m   1305\u001b[0m     \u001b[0;32melse\u001b[0m\u001b[0;34m:\u001b[0m\u001b[0;34m\u001b[0m\u001b[0;34m\u001b[0m\u001b[0m\n\u001b[1;32m   1306\u001b[0m       result = _toco_convert_graph_def(\n",
            "\u001b[0;32m/usr/local/lib/python3.7/dist-packages/tensorflow/lite/python/convert.py\u001b[0m in \u001b[0;36mtoco_convert_impl\u001b[0;34m(input_data, input_tensors, output_tensors, enable_mlir_converter, *args, **kwargs)\u001b[0m\n\u001b[1;32m    611\u001b[0m       \u001b[0minput_data\u001b[0m\u001b[0;34m.\u001b[0m\u001b[0mSerializeToString\u001b[0m\u001b[0;34m(\u001b[0m\u001b[0;34m)\u001b[0m\u001b[0;34m,\u001b[0m\u001b[0;34m\u001b[0m\u001b[0;34m\u001b[0m\u001b[0m\n\u001b[1;32m    612\u001b[0m       \u001b[0mdebug_info_str\u001b[0m\u001b[0;34m=\u001b[0m\u001b[0mdebug_info_str\u001b[0m\u001b[0;34m,\u001b[0m\u001b[0;34m\u001b[0m\u001b[0;34m\u001b[0m\u001b[0m\n\u001b[0;32m--> 613\u001b[0;31m       enable_mlir_converter=enable_mlir_converter)\n\u001b[0m\u001b[1;32m    614\u001b[0m   \u001b[0;32mreturn\u001b[0m \u001b[0mdata\u001b[0m\u001b[0;34m\u001b[0m\u001b[0;34m\u001b[0m\u001b[0m\n\u001b[1;32m    615\u001b[0m \u001b[0;34m\u001b[0m\u001b[0m\n",
            "\u001b[0;32m/usr/local/lib/python3.7/dist-packages/tensorflow/lite/python/convert.py\u001b[0m in \u001b[0;36mtoco_convert_protos\u001b[0;34m(model_flags_str, toco_flags_str, input_data_str, debug_info_str, enable_mlir_converter)\u001b[0m\n\u001b[1;32m    214\u001b[0m       \u001b[0;32mreturn\u001b[0m \u001b[0mmodel_str\u001b[0m\u001b[0;34m\u001b[0m\u001b[0;34m\u001b[0m\u001b[0m\n\u001b[1;32m    215\u001b[0m     \u001b[0;32mexcept\u001b[0m \u001b[0mException\u001b[0m \u001b[0;32mas\u001b[0m \u001b[0me\u001b[0m\u001b[0;34m:\u001b[0m\u001b[0;34m\u001b[0m\u001b[0;34m\u001b[0m\u001b[0m\n\u001b[0;32m--> 216\u001b[0;31m       \u001b[0;32mraise\u001b[0m \u001b[0mConverterError\u001b[0m\u001b[0;34m(\u001b[0m\u001b[0mstr\u001b[0m\u001b[0;34m(\u001b[0m\u001b[0me\u001b[0m\u001b[0;34m)\u001b[0m\u001b[0;34m)\u001b[0m\u001b[0;34m\u001b[0m\u001b[0;34m\u001b[0m\u001b[0m\n\u001b[0m\u001b[1;32m    217\u001b[0m \u001b[0;34m\u001b[0m\u001b[0m\n\u001b[1;32m    218\u001b[0m   \u001b[0;32mif\u001b[0m \u001b[0mdistutils\u001b[0m\u001b[0;34m.\u001b[0m\u001b[0mspawn\u001b[0m\u001b[0;34m.\u001b[0m\u001b[0mfind_executable\u001b[0m\u001b[0;34m(\u001b[0m\u001b[0m_toco_from_proto_bin\u001b[0m\u001b[0;34m)\u001b[0m \u001b[0;32mis\u001b[0m \u001b[0;32mNone\u001b[0m\u001b[0;34m:\u001b[0m\u001b[0;34m\u001b[0m\u001b[0;34m\u001b[0m\u001b[0m\n",
            "\u001b[0;31mConverterError\u001b[0m: <unknown>:0: error: loc(fused[\"max_pool@__inference___call___2239\", \"StatefulPartitionedCall/StatefulPartitionedCall/max_pool\"]): operand #0 does not dominate this use\n<unknown>:0: note: loc(fused[\"max_pool@__inference___call___2239\", \"StatefulPartitionedCall/StatefulPartitionedCall/max_pool\"]): operand defined here\n"
          ]
        }
      ]
    }
  ]
}